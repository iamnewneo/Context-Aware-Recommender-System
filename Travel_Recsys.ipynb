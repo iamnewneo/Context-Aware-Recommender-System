{
 "cells": [
  {
   "cell_type": "code",
   "execution_count": 1,
   "metadata": {
    "collapsed": true
   },
   "outputs": [],
   "source": [
    "import numpy as np\n",
    "#from sklearn.metrics import jaccard_similarity_score"
   ]
  },
  {
   "cell_type": "code",
   "execution_count": 2,
   "metadata": {
    "collapsed": true
   },
   "outputs": [],
   "source": [
    "from sklearn.neighbors import KNeighborsClassifier\n",
    "import warnings\n",
    "warnings.filterwarnings(\"ignore\")"
   ]
  },
  {
   "cell_type": "code",
   "execution_count": 3,
   "metadata": {
    "collapsed": true
   },
   "outputs": [],
   "source": [
    "import pandas as pd\n",
    "from sklearn import preprocessing"
   ]
  },
  {
   "cell_type": "code",
   "execution_count": 4,
   "metadata": {
    "collapsed": true
   },
   "outputs": [],
   "source": [
    "df = pd.read_csv(\"data/travel_data.csv\")"
   ]
  },
  {
   "cell_type": "code",
   "execution_count": 5,
   "metadata": {
    "collapsed": true
   },
   "outputs": [],
   "source": [
    "df = df.replace(-1.0, np.nan)\n",
    "df = df.dropna(how=\"any\")"
   ]
  },
  {
   "cell_type": "code",
   "execution_count": 6,
   "metadata": {
    "collapsed": false
   },
   "outputs": [
    {
     "data": {
      "text/html": [
       "<div>\n",
       "<table border=\"1\" class=\"dataframe\">\n",
       "  <thead>\n",
       "    <tr style=\"text-align: right;\">\n",
       "      <th></th>\n",
       "      <th>UserID</th>\n",
       "      <th>ItemID</th>\n",
       "      <th>Rating</th>\n",
       "      <th>UserState</th>\n",
       "      <th>UserTimeZone</th>\n",
       "      <th>ItemCity</th>\n",
       "      <th>ItemState</th>\n",
       "      <th>ItemTimeZone</th>\n",
       "      <th>TripType</th>\n",
       "    </tr>\n",
       "  </thead>\n",
       "  <tbody>\n",
       "    <tr>\n",
       "      <th>0</th>\n",
       "      <td>5C28F393B23BB894523AE7126A7AE445</td>\n",
       "      <td>219668</td>\n",
       "      <td>5</td>\n",
       "      <td>AK</td>\n",
       "      <td>AK</td>\n",
       "      <td>GREENSBORO</td>\n",
       "      <td>NC</td>\n",
       "      <td>EASTERN</td>\n",
       "      <td>SOLO</td>\n",
       "    </tr>\n",
       "    <tr>\n",
       "      <th>1</th>\n",
       "      <td>3FA27F6E8AC712A82C69C4EDD8B912CC</td>\n",
       "      <td>223860</td>\n",
       "      <td>5</td>\n",
       "      <td>AK</td>\n",
       "      <td>AK</td>\n",
       "      <td>PHOENIX</td>\n",
       "      <td>AZ</td>\n",
       "      <td>MOUNTAIN</td>\n",
       "      <td>SOLO</td>\n",
       "    </tr>\n",
       "    <tr>\n",
       "      <th>2</th>\n",
       "      <td>B99CFBB5411EDC8881D13B7A4B313ADA</td>\n",
       "      <td>75680</td>\n",
       "      <td>5</td>\n",
       "      <td>AK</td>\n",
       "      <td>AK</td>\n",
       "      <td>ANAHEIM</td>\n",
       "      <td>CA</td>\n",
       "      <td>PACIFIC</td>\n",
       "      <td>FAMILY</td>\n",
       "    </tr>\n",
       "    <tr>\n",
       "      <th>3</th>\n",
       "      <td>3FA27F6E8AC712A82C69C4EDD8B912CC</td>\n",
       "      <td>224783</td>\n",
       "      <td>5</td>\n",
       "      <td>AK</td>\n",
       "      <td>AK</td>\n",
       "      <td>SEATTLE</td>\n",
       "      <td>WA</td>\n",
       "      <td>PACIFIC</td>\n",
       "      <td>SOLO</td>\n",
       "    </tr>\n",
       "    <tr>\n",
       "      <th>4</th>\n",
       "      <td>7CEFF5C32BA1F3B186E7838C7D3FE25E</td>\n",
       "      <td>222984</td>\n",
       "      <td>5</td>\n",
       "      <td>AK</td>\n",
       "      <td>AK</td>\n",
       "      <td>MIAMI</td>\n",
       "      <td>MI</td>\n",
       "      <td>EASTERN</td>\n",
       "      <td>COUPLES</td>\n",
       "    </tr>\n",
       "  </tbody>\n",
       "</table>\n",
       "</div>"
      ],
      "text/plain": [
       "                             UserID  ItemID  Rating UserState UserTimeZone  \\\n",
       "0  5C28F393B23BB894523AE7126A7AE445  219668       5        AK           AK   \n",
       "1  3FA27F6E8AC712A82C69C4EDD8B912CC  223860       5        AK           AK   \n",
       "2  B99CFBB5411EDC8881D13B7A4B313ADA   75680       5        AK           AK   \n",
       "3  3FA27F6E8AC712A82C69C4EDD8B912CC  224783       5        AK           AK   \n",
       "4  7CEFF5C32BA1F3B186E7838C7D3FE25E  222984       5        AK           AK   \n",
       "\n",
       "     ItemCity ItemState ItemTimeZone TripType  \n",
       "0  GREENSBORO        NC      EASTERN     SOLO  \n",
       "1     PHOENIX        AZ     MOUNTAIN     SOLO  \n",
       "2     ANAHEIM        CA      PACIFIC   FAMILY  \n",
       "3     SEATTLE        WA      PACIFIC     SOLO  \n",
       "4       MIAMI        MI      EASTERN  COUPLES  "
      ]
     },
     "execution_count": 6,
     "metadata": {},
     "output_type": "execute_result"
    }
   ],
   "source": [
    "df.head()"
   ]
  },
  {
   "cell_type": "code",
   "execution_count": 7,
   "metadata": {
    "collapsed": false
   },
   "outputs": [],
   "source": [
    "le_userstate = preprocessing.LabelEncoder()\n",
    "le_usertimezone = preprocessing.LabelEncoder()\n",
    "le_itemcity = preprocessing.LabelEncoder()\n",
    "le_itemstate = preprocessing.LabelEncoder()\n",
    "le_itemtimezone = preprocessing.LabelEncoder()\n",
    "le_triptype = preprocessing.LabelEncoder()"
   ]
  },
  {
   "cell_type": "code",
   "execution_count": 8,
   "metadata": {
    "collapsed": false
   },
   "outputs": [
    {
     "data": {
      "text/plain": [
       "LabelEncoder()"
      ]
     },
     "execution_count": 8,
     "metadata": {},
     "output_type": "execute_result"
    }
   ],
   "source": [
    "le_userstate.fit(df.UserState.unique().tolist())\n",
    "le_usertimezone.fit(df.UserTimeZone.unique().tolist())\n",
    "le_itemcity.fit(df.ItemCity.unique().tolist())\n",
    "le_itemstate.fit(df.ItemState.unique().tolist())\n",
    "le_itemtimezone.fit(df.ItemTimeZone.unique().tolist())\n",
    "le_triptype.fit(df.TripType.unique().tolist())"
   ]
  },
  {
   "cell_type": "code",
   "execution_count": 9,
   "metadata": {
    "collapsed": false
   },
   "outputs": [],
   "source": [
    "df['UserState'] = le_userstate.transform(df.UserState)"
   ]
  },
  {
   "cell_type": "code",
   "execution_count": 10,
   "metadata": {
    "collapsed": false
   },
   "outputs": [],
   "source": [
    "df['UserTimeZone'] = le_usertimezone.transform(df.UserTimeZone)\n",
    "df['ItemCity'] = le_itemcity.transform(df.ItemCity)\n",
    "df['ItemState'] = le_itemstate.transform(df.ItemState)\n",
    "df['ItemTimeZone'] = le_itemtimezone.transform(df.ItemTimeZone)\n",
    "df['TripType'] = le_triptype.transform(df.TripType)"
   ]
  },
  {
   "cell_type": "code",
   "execution_count": 11,
   "metadata": {
    "collapsed": false
   },
   "outputs": [
    {
     "data": {
      "text/html": [
       "<div>\n",
       "<table border=\"1\" class=\"dataframe\">\n",
       "  <thead>\n",
       "    <tr style=\"text-align: right;\">\n",
       "      <th></th>\n",
       "      <th>UserID</th>\n",
       "      <th>ItemID</th>\n",
       "      <th>Rating</th>\n",
       "      <th>UserState</th>\n",
       "      <th>UserTimeZone</th>\n",
       "      <th>ItemCity</th>\n",
       "      <th>ItemState</th>\n",
       "      <th>ItemTimeZone</th>\n",
       "      <th>TripType</th>\n",
       "    </tr>\n",
       "  </thead>\n",
       "  <tbody>\n",
       "    <tr>\n",
       "      <th>0</th>\n",
       "      <td>5C28F393B23BB894523AE7126A7AE445</td>\n",
       "      <td>219668</td>\n",
       "      <td>5</td>\n",
       "      <td>0</td>\n",
       "      <td>0</td>\n",
       "      <td>37</td>\n",
       "      <td>16</td>\n",
       "      <td>1</td>\n",
       "      <td>4</td>\n",
       "    </tr>\n",
       "    <tr>\n",
       "      <th>1</th>\n",
       "      <td>3FA27F6E8AC712A82C69C4EDD8B912CC</td>\n",
       "      <td>223860</td>\n",
       "      <td>5</td>\n",
       "      <td>0</td>\n",
       "      <td>0</td>\n",
       "      <td>71</td>\n",
       "      <td>0</td>\n",
       "      <td>2</td>\n",
       "      <td>4</td>\n",
       "    </tr>\n",
       "    <tr>\n",
       "      <th>2</th>\n",
       "      <td>B99CFBB5411EDC8881D13B7A4B313ADA</td>\n",
       "      <td>75680</td>\n",
       "      <td>5</td>\n",
       "      <td>0</td>\n",
       "      <td>0</td>\n",
       "      <td>1</td>\n",
       "      <td>1</td>\n",
       "      <td>3</td>\n",
       "      <td>2</td>\n",
       "    </tr>\n",
       "    <tr>\n",
       "      <th>3</th>\n",
       "      <td>3FA27F6E8AC712A82C69C4EDD8B912CC</td>\n",
       "      <td>224783</td>\n",
       "      <td>5</td>\n",
       "      <td>0</td>\n",
       "      <td>0</td>\n",
       "      <td>92</td>\n",
       "      <td>29</td>\n",
       "      <td>3</td>\n",
       "      <td>4</td>\n",
       "    </tr>\n",
       "    <tr>\n",
       "      <th>4</th>\n",
       "      <td>7CEFF5C32BA1F3B186E7838C7D3FE25E</td>\n",
       "      <td>222984</td>\n",
       "      <td>5</td>\n",
       "      <td>0</td>\n",
       "      <td>0</td>\n",
       "      <td>57</td>\n",
       "      <td>13</td>\n",
       "      <td>1</td>\n",
       "      <td>1</td>\n",
       "    </tr>\n",
       "  </tbody>\n",
       "</table>\n",
       "</div>"
      ],
      "text/plain": [
       "                             UserID  ItemID  Rating  UserState  UserTimeZone  \\\n",
       "0  5C28F393B23BB894523AE7126A7AE445  219668       5          0             0   \n",
       "1  3FA27F6E8AC712A82C69C4EDD8B912CC  223860       5          0             0   \n",
       "2  B99CFBB5411EDC8881D13B7A4B313ADA   75680       5          0             0   \n",
       "3  3FA27F6E8AC712A82C69C4EDD8B912CC  224783       5          0             0   \n",
       "4  7CEFF5C32BA1F3B186E7838C7D3FE25E  222984       5          0             0   \n",
       "\n",
       "   ItemCity  ItemState  ItemTimeZone  TripType  \n",
       "0        37         16             1         4  \n",
       "1        71          0             2         4  \n",
       "2         1          1             3         2  \n",
       "3        92         29             3         4  \n",
       "4        57         13             1         1  "
      ]
     },
     "execution_count": 11,
     "metadata": {},
     "output_type": "execute_result"
    }
   ],
   "source": [
    "df.head()"
   ]
  },
  {
   "cell_type": "code",
   "execution_count": 12,
   "metadata": {
    "collapsed": false
   },
   "outputs": [],
   "source": [
    "## CONSTANTS ASSUMPTION\n",
    "columns = df.columns.tolist()\n",
    "columns.remove(\"Rating\")\n",
    "columns.append(\"Rating\")\n",
    "df = df[columns]\n",
    "# X = df[columns[2:-1]]\n",
    "# y = df[columns[-1:]]\n",
    "# df = df.reset_index(drop=True)"
   ]
  },
  {
   "cell_type": "code",
   "execution_count": 13,
   "metadata": {
    "collapsed": false
   },
   "outputs": [
    {
     "data": {
      "text/html": [
       "<div>\n",
       "<table border=\"1\" class=\"dataframe\">\n",
       "  <thead>\n",
       "    <tr style=\"text-align: right;\">\n",
       "      <th></th>\n",
       "      <th>UserID</th>\n",
       "      <th>ItemID</th>\n",
       "      <th>UserState</th>\n",
       "      <th>UserTimeZone</th>\n",
       "      <th>ItemCity</th>\n",
       "      <th>ItemState</th>\n",
       "      <th>ItemTimeZone</th>\n",
       "      <th>TripType</th>\n",
       "      <th>Rating</th>\n",
       "    </tr>\n",
       "  </thead>\n",
       "  <tbody>\n",
       "    <tr>\n",
       "      <th>0</th>\n",
       "      <td>5C28F393B23BB894523AE7126A7AE445</td>\n",
       "      <td>219668</td>\n",
       "      <td>0</td>\n",
       "      <td>0</td>\n",
       "      <td>37</td>\n",
       "      <td>16</td>\n",
       "      <td>1</td>\n",
       "      <td>4</td>\n",
       "      <td>5</td>\n",
       "    </tr>\n",
       "    <tr>\n",
       "      <th>1</th>\n",
       "      <td>3FA27F6E8AC712A82C69C4EDD8B912CC</td>\n",
       "      <td>223860</td>\n",
       "      <td>0</td>\n",
       "      <td>0</td>\n",
       "      <td>71</td>\n",
       "      <td>0</td>\n",
       "      <td>2</td>\n",
       "      <td>4</td>\n",
       "      <td>5</td>\n",
       "    </tr>\n",
       "    <tr>\n",
       "      <th>2</th>\n",
       "      <td>B99CFBB5411EDC8881D13B7A4B313ADA</td>\n",
       "      <td>75680</td>\n",
       "      <td>0</td>\n",
       "      <td>0</td>\n",
       "      <td>1</td>\n",
       "      <td>1</td>\n",
       "      <td>3</td>\n",
       "      <td>2</td>\n",
       "      <td>5</td>\n",
       "    </tr>\n",
       "    <tr>\n",
       "      <th>3</th>\n",
       "      <td>3FA27F6E8AC712A82C69C4EDD8B912CC</td>\n",
       "      <td>224783</td>\n",
       "      <td>0</td>\n",
       "      <td>0</td>\n",
       "      <td>92</td>\n",
       "      <td>29</td>\n",
       "      <td>3</td>\n",
       "      <td>4</td>\n",
       "      <td>5</td>\n",
       "    </tr>\n",
       "    <tr>\n",
       "      <th>4</th>\n",
       "      <td>7CEFF5C32BA1F3B186E7838C7D3FE25E</td>\n",
       "      <td>222984</td>\n",
       "      <td>0</td>\n",
       "      <td>0</td>\n",
       "      <td>57</td>\n",
       "      <td>13</td>\n",
       "      <td>1</td>\n",
       "      <td>1</td>\n",
       "      <td>5</td>\n",
       "    </tr>\n",
       "  </tbody>\n",
       "</table>\n",
       "</div>"
      ],
      "text/plain": [
       "                             UserID  ItemID  UserState  UserTimeZone  \\\n",
       "0  5C28F393B23BB894523AE7126A7AE445  219668          0             0   \n",
       "1  3FA27F6E8AC712A82C69C4EDD8B912CC  223860          0             0   \n",
       "2  B99CFBB5411EDC8881D13B7A4B313ADA   75680          0             0   \n",
       "3  3FA27F6E8AC712A82C69C4EDD8B912CC  224783          0             0   \n",
       "4  7CEFF5C32BA1F3B186E7838C7D3FE25E  222984          0             0   \n",
       "\n",
       "   ItemCity  ItemState  ItemTimeZone  TripType  Rating  \n",
       "0        37         16             1         4       5  \n",
       "1        71          0             2         4       5  \n",
       "2         1          1             3         2       5  \n",
       "3        92         29             3         4       5  \n",
       "4        57         13             1         1       5  "
      ]
     },
     "execution_count": 13,
     "metadata": {},
     "output_type": "execute_result"
    }
   ],
   "source": [
    "df.head()"
   ]
  },
  {
   "cell_type": "markdown",
   "metadata": {},
   "source": [
    "## Clean Data"
   ]
  },
  {
   "cell_type": "code",
   "execution_count": 14,
   "metadata": {
    "collapsed": true
   },
   "outputs": [],
   "source": [
    "df_new = df"
   ]
  },
  {
   "cell_type": "code",
   "execution_count": 15,
   "metadata": {
    "collapsed": true
   },
   "outputs": [],
   "source": [
    "from collections import defaultdict\n",
    "new_size_of_feature = defaultdict(dict)\n",
    "for column in df_new.columns:\n",
    "    new_size_of_feature[column]['length'] = len(df_new[column].unique())\n",
    "    new_size_of_feature[column]['names'] = df_new[column].unique()"
   ]
  },
  {
   "cell_type": "code",
   "execution_count": 16,
   "metadata": {
    "collapsed": false
   },
   "outputs": [
    {
     "data": {
      "text/plain": [
       "4906"
      ]
     },
     "execution_count": 16,
     "metadata": {},
     "output_type": "execute_result"
    }
   ],
   "source": [
    "sum_of_features = 0\n",
    "for k,v in new_size_of_feature.items():\n",
    "    sum_of_features += v['length']\n",
    "sum_of_features"
   ]
  },
  {
   "cell_type": "code",
   "execution_count": 17,
   "metadata": {
    "collapsed": true
   },
   "outputs": [],
   "source": [
    "entriesToRemove = ('UserID','ItemID')"
   ]
  },
  {
   "cell_type": "code",
   "execution_count": 18,
   "metadata": {
    "collapsed": true
   },
   "outputs": [],
   "source": [
    "for k in entriesToRemove:\n",
    "    new_size_of_feature.pop(k, None)"
   ]
  },
  {
   "cell_type": "code",
   "execution_count": 19,
   "metadata": {
    "collapsed": true
   },
   "outputs": [],
   "source": [
    "### Index limits for setting Constraints"
   ]
  },
  {
   "cell_type": "code",
   "execution_count": 20,
   "metadata": {
    "collapsed": true
   },
   "outputs": [],
   "source": [
    "index_limit=[]\n",
    "for x in df_new.columns:\n",
    "    index_limit.append(new_size_of_feature[x])"
   ]
  },
  {
   "cell_type": "code",
   "execution_count": 21,
   "metadata": {
    "collapsed": false
   },
   "outputs": [],
   "source": [
    "index_limit = index_limit[2:-1]\n",
    "final_index_limit= []\n",
    "for i in range(len(index_limit)):\n",
    "    x = index_limit[i]\n",
    "    try:\n",
    "        final_index_limit.append(x['length'])\n",
    "    except:\n",
    "        pass"
   ]
  },
  {
   "cell_type": "code",
   "execution_count": 22,
   "metadata": {
    "collapsed": false
   },
   "outputs": [
    {
     "data": {
      "text/plain": [
       "([79, 35, 107, 31, 4, 5], 261)"
      ]
     },
     "execution_count": 22,
     "metadata": {},
     "output_type": "execute_result"
    }
   ],
   "source": [
    "final_index_limit, sum(final_index_limit)"
   ]
  },
  {
   "cell_type": "code",
   "execution_count": 23,
   "metadata": {
    "collapsed": true
   },
   "outputs": [],
   "source": [
    "## Get Dummy Variables\n",
    "for column in df_new.columns[2:-1]:\n",
    "    df_col = pd.get_dummies(df_new[column], prefix=column)\n",
    "    df_new = pd.concat([df_new, df_col], axis=1)"
   ]
  },
  {
   "cell_type": "code",
   "execution_count": 24,
   "metadata": {
    "collapsed": false
   },
   "outputs": [],
   "source": [
    "df_new = df_new.drop(['UserState', 'UserTimeZone', 'ItemCity', 'ItemState', 'ItemTimeZone',\n",
    "       'TripType'], axis=1)"
   ]
  },
  {
   "cell_type": "code",
   "execution_count": 25,
   "metadata": {
    "collapsed": false
   },
   "outputs": [],
   "source": [
    "columns = df_new.columns.tolist()\n",
    "columns.remove(\"Rating\")\n",
    "columns.append(\"Rating\")\n",
    "df_new = df_new[columns]"
   ]
  },
  {
   "cell_type": "markdown",
   "metadata": {},
   "source": [
    "# Pyswarm Implementation"
   ]
  },
  {
   "cell_type": "code",
   "execution_count": 26,
   "metadata": {
    "collapsed": true
   },
   "outputs": [],
   "source": [
    "from pyswarm import pso\n",
    "import time\n",
    "from random import *\n",
    "import math"
   ]
  },
  {
   "cell_type": "code",
   "execution_count": 27,
   "metadata": {
    "collapsed": false
   },
   "outputs": [],
   "source": [
    "# start_time = time.time()\n",
    "# #user_context = df_new.iloc[0][2:-1].tolist()\n",
    "# user_rating = df_new.Rating.tolist()[:30]\n",
    "# def banana(x):\n",
    "#     lhs = 0.0\n",
    "#     square_error = 0.0\n",
    "#     for i in range(30):\n",
    "#         user_context = df_new.iloc[i][2:-1].tolist()\n",
    "#         lhs = np.dot(x,user_context)\n",
    "#         square_error += (user_rating[i] - lhs)**2\n",
    "#     #rmse = math.sqrt(square_error)/30\n",
    "#     #print(square_error)\n",
    "#     return square_error/30\n",
    "\n",
    "# def con(x):\n",
    "#     con_index = []\n",
    "#     final_index_limit = [79, 35, 107, 31, 4, 5]\n",
    "#     start_index=0\n",
    "#     con_index = []\n",
    "#     for index in final_index_limit:\n",
    "#         temp = []\n",
    "#         temp.append(sum(x[start_index:start_index+index]) - 1)\n",
    "#         temp = temp*index\n",
    "#         con_index=con_index + temp\n",
    "#         start_index = index\n",
    "#     return con_index\n",
    "\n",
    "# lb = [0]*261\n",
    "# ub = [1]*261\n",
    "\n",
    "# xopt, fopt = pso(banana,lb, ub,swarmsize=50,maxiter=200)\n",
    "# print(\"--- %s seconds ---\" % (time.time() - start_time))"
   ]
  },
  {
   "cell_type": "code",
   "execution_count": 28,
   "metadata": {
    "collapsed": false
   },
   "outputs": [],
   "source": [
    "# print(\"----------------------Difference Between Ratings---------------------\")\n",
    "# for i in range(10):\n",
    "#     rating = 0\n",
    "#     count = 0\n",
    "#     original_rating = df_new.iloc[i][-1]\n",
    "#     predicted_rating = np.dot(xopt, df_new.iloc[i][2:-1].tolist())\n",
    "#     print(predicted_rating, original_rating)\n",
    "#     #print(str(float(original_rating - original_rating)))"
   ]
  },
  {
   "cell_type": "code",
   "execution_count": 29,
   "metadata": {
    "collapsed": true
   },
   "outputs": [],
   "source": [
    "from sklearn.metrics import mean_squared_error"
   ]
  },
  {
   "cell_type": "code",
   "execution_count": 147,
   "metadata": {
    "collapsed": false
   },
   "outputs": [
    {
     "name": "stdout",
     "output_type": "stream",
     "text": [
      "----------------------  RMSE VALUE IS  ---------------------\n"
     ]
    },
    {
     "data": {
      "text/plain": [
       "1.2271029863216893"
      ]
     },
     "execution_count": 147,
     "metadata": {},
     "output_type": "execute_result"
    }
   ],
   "source": [
    "original_rating = [df_new.iloc[i][-1] for i in range(df_new.shape[0])]\n",
    "predicted_rating = [np.dot(xopt, df_new.iloc[i][2:-1].tolist()) for i in range(df_new.shape[0])]\n",
    "print(\"----------------------  RMSE VALUE IS  ---------------------\")\n",
    "mean_squared_error(original_rating,predicted_rating)"
   ]
  },
  {
   "cell_type": "code",
   "execution_count": 44,
   "metadata": {
    "collapsed": false
   },
   "outputs": [],
   "source": [
    "## Save Pso result to csv\n",
    "from sklearn.metrics import mean_squared_error\n",
    "def calculate_mse(weights):\n",
    "    original_rating = [df_new.iloc[i][-1] for i in range(1000)]\n",
    "    predicted_rating = [np.dot(weights, df_new.iloc[i][2:-1].tolist()) for i in range(1000)]\n",
    "    #print(\"----------------------  RMSE VALUE IS  ---------------------\")\n",
    "    return mean_squared_error(original_rating,predicted_rating)\n",
    "\n",
    "def run_pso_multiple_times():\n",
    "    swarm_size = 50\n",
    "    indi_results = []\n",
    "    for max_iter in [50,100,150,200,250,300]:\n",
    "        print(\"Current number of Iteration\", str(max_iter))\n",
    "        start_time = time.time()\n",
    "        xopt, fopt = pso(banana,lb, ub,f_ieqcons=con,swarmsize=swarm_size,maxiter=max_iter)\n",
    "        mse = calculate_mse(xopt)\n",
    "        finish_time = time.time() - start_time\n",
    "        pso_param = [swarm_size, max_iter, finish_time, mse]\n",
    "        indi_results.append(pso_param + xopt.tolist())\n",
    "    indi_results = np.array(indi_results)\n",
    "    np.savetxt(\"pso.csv\", indi_results, delimiter=\",\")\n"
   ]
  },
  {
   "cell_type": "code",
   "execution_count": 149,
   "metadata": {
    "collapsed": false
   },
   "outputs": [
    {
     "name": "stdout",
     "output_type": "stream",
     "text": [
      "Current number of Iteration 50\n",
      "Stopping search: maximum iterations reached --> 50\n",
      "Current number of Iteration 100\n",
      "Stopping search: Swarm best objective change less than 1e-08\n",
      "Current number of Iteration 150\n",
      "Stopping search: Swarm best objective change less than 1e-08\n",
      "Current number of Iteration 200\n",
      "Stopping search: Swarm best objective change less than 1e-08\n",
      "Current number of Iteration 250\n",
      "Stopping search: Swarm best objective change less than 1e-08\n",
      "Current number of Iteration 300\n",
      "Stopping search: Swarm best objective change less than 1e-08\n"
     ]
    }
   ],
   "source": [
    "run_pso_multiple_times()"
   ]
  },
  {
   "cell_type": "code",
   "execution_count": null,
   "metadata": {
    "collapsed": false
   },
   "outputs": [],
   "source": []
  },
  {
   "cell_type": "markdown",
   "metadata": {},
   "source": [
    "## Code DCW Here"
   ]
  },
  {
   "cell_type": "code",
   "execution_count": 30,
   "metadata": {
    "collapsed": true
   },
   "outputs": [],
   "source": [
    "from math import*\n",
    "from decimal import Decimal"
   ]
  },
  {
   "cell_type": "code",
   "execution_count": 167,
   "metadata": {
    "collapsed": false
   },
   "outputs": [],
   "source": [
    "weights = xopt\n",
    "columns = df_new.columns\n",
    "X = df_new[columns[2:-1]]\n",
    "y = df_new[columns[-1:]]"
   ]
  },
  {
   "cell_type": "code",
   "execution_count": 225,
   "metadata": {
    "collapsed": false
   },
   "outputs": [],
   "source": [
    "df_new = df_new.drop_duplicates(['UserID'], keep='first')\n",
    "df_new.columns = ['userID', 'itemID'] + df_new.columns[2:].tolist()\n"
   ]
  },
  {
   "cell_type": "code",
   "execution_count": 226,
   "metadata": {
    "collapsed": false
   },
   "outputs": [
    {
     "data": {
      "text/html": [
       "<div>\n",
       "<table border=\"1\" class=\"dataframe\">\n",
       "  <thead>\n",
       "    <tr style=\"text-align: right;\">\n",
       "      <th></th>\n",
       "      <th>userID</th>\n",
       "      <th>itemID</th>\n",
       "      <th>UserState_0</th>\n",
       "      <th>UserState_1</th>\n",
       "      <th>UserState_2</th>\n",
       "      <th>UserState_3</th>\n",
       "      <th>UserState_4</th>\n",
       "      <th>UserState_5</th>\n",
       "      <th>UserState_6</th>\n",
       "      <th>UserState_7</th>\n",
       "      <th>...</th>\n",
       "      <th>ItemTimeZone_0</th>\n",
       "      <th>ItemTimeZone_1</th>\n",
       "      <th>ItemTimeZone_2</th>\n",
       "      <th>ItemTimeZone_3</th>\n",
       "      <th>TripType_0</th>\n",
       "      <th>TripType_1</th>\n",
       "      <th>TripType_2</th>\n",
       "      <th>TripType_3</th>\n",
       "      <th>TripType_4</th>\n",
       "      <th>Rating</th>\n",
       "    </tr>\n",
       "  </thead>\n",
       "  <tbody>\n",
       "    <tr>\n",
       "      <th>0</th>\n",
       "      <td>5C28F393B23BB894523AE7126A7AE445</td>\n",
       "      <td>219668</td>\n",
       "      <td>1.0</td>\n",
       "      <td>0.0</td>\n",
       "      <td>0.0</td>\n",
       "      <td>0.0</td>\n",
       "      <td>0.0</td>\n",
       "      <td>0.0</td>\n",
       "      <td>0.0</td>\n",
       "      <td>0.0</td>\n",
       "      <td>...</td>\n",
       "      <td>0.0</td>\n",
       "      <td>1.0</td>\n",
       "      <td>0.0</td>\n",
       "      <td>0.0</td>\n",
       "      <td>0.0</td>\n",
       "      <td>0.0</td>\n",
       "      <td>0.0</td>\n",
       "      <td>0.0</td>\n",
       "      <td>1.0</td>\n",
       "      <td>5</td>\n",
       "    </tr>\n",
       "    <tr>\n",
       "      <th>1</th>\n",
       "      <td>3FA27F6E8AC712A82C69C4EDD8B912CC</td>\n",
       "      <td>223860</td>\n",
       "      <td>1.0</td>\n",
       "      <td>0.0</td>\n",
       "      <td>0.0</td>\n",
       "      <td>0.0</td>\n",
       "      <td>0.0</td>\n",
       "      <td>0.0</td>\n",
       "      <td>0.0</td>\n",
       "      <td>0.0</td>\n",
       "      <td>...</td>\n",
       "      <td>0.0</td>\n",
       "      <td>0.0</td>\n",
       "      <td>1.0</td>\n",
       "      <td>0.0</td>\n",
       "      <td>0.0</td>\n",
       "      <td>0.0</td>\n",
       "      <td>0.0</td>\n",
       "      <td>0.0</td>\n",
       "      <td>1.0</td>\n",
       "      <td>5</td>\n",
       "    </tr>\n",
       "    <tr>\n",
       "      <th>2</th>\n",
       "      <td>B99CFBB5411EDC8881D13B7A4B313ADA</td>\n",
       "      <td>75680</td>\n",
       "      <td>1.0</td>\n",
       "      <td>0.0</td>\n",
       "      <td>0.0</td>\n",
       "      <td>0.0</td>\n",
       "      <td>0.0</td>\n",
       "      <td>0.0</td>\n",
       "      <td>0.0</td>\n",
       "      <td>0.0</td>\n",
       "      <td>...</td>\n",
       "      <td>0.0</td>\n",
       "      <td>0.0</td>\n",
       "      <td>0.0</td>\n",
       "      <td>1.0</td>\n",
       "      <td>0.0</td>\n",
       "      <td>0.0</td>\n",
       "      <td>1.0</td>\n",
       "      <td>0.0</td>\n",
       "      <td>0.0</td>\n",
       "      <td>5</td>\n",
       "    </tr>\n",
       "    <tr>\n",
       "      <th>4</th>\n",
       "      <td>7CEFF5C32BA1F3B186E7838C7D3FE25E</td>\n",
       "      <td>222984</td>\n",
       "      <td>1.0</td>\n",
       "      <td>0.0</td>\n",
       "      <td>0.0</td>\n",
       "      <td>0.0</td>\n",
       "      <td>0.0</td>\n",
       "      <td>0.0</td>\n",
       "      <td>0.0</td>\n",
       "      <td>0.0</td>\n",
       "      <td>...</td>\n",
       "      <td>0.0</td>\n",
       "      <td>1.0</td>\n",
       "      <td>0.0</td>\n",
       "      <td>0.0</td>\n",
       "      <td>0.0</td>\n",
       "      <td>1.0</td>\n",
       "      <td>0.0</td>\n",
       "      <td>0.0</td>\n",
       "      <td>0.0</td>\n",
       "      <td>5</td>\n",
       "    </tr>\n",
       "    <tr>\n",
       "      <th>5</th>\n",
       "      <td>A39CD9E9BB15BF969F0E7CD73A9D363D</td>\n",
       "      <td>75662</td>\n",
       "      <td>1.0</td>\n",
       "      <td>0.0</td>\n",
       "      <td>0.0</td>\n",
       "      <td>0.0</td>\n",
       "      <td>0.0</td>\n",
       "      <td>0.0</td>\n",
       "      <td>0.0</td>\n",
       "      <td>0.0</td>\n",
       "      <td>...</td>\n",
       "      <td>0.0</td>\n",
       "      <td>0.0</td>\n",
       "      <td>1.0</td>\n",
       "      <td>0.0</td>\n",
       "      <td>0.0</td>\n",
       "      <td>1.0</td>\n",
       "      <td>0.0</td>\n",
       "      <td>0.0</td>\n",
       "      <td>0.0</td>\n",
       "      <td>5</td>\n",
       "    </tr>\n",
       "  </tbody>\n",
       "</table>\n",
       "<p>5 rows × 264 columns</p>\n",
       "</div>"
      ],
      "text/plain": [
       "                             userID  itemID  UserState_0  UserState_1  \\\n",
       "0  5C28F393B23BB894523AE7126A7AE445  219668          1.0          0.0   \n",
       "1  3FA27F6E8AC712A82C69C4EDD8B912CC  223860          1.0          0.0   \n",
       "2  B99CFBB5411EDC8881D13B7A4B313ADA   75680          1.0          0.0   \n",
       "4  7CEFF5C32BA1F3B186E7838C7D3FE25E  222984          1.0          0.0   \n",
       "5  A39CD9E9BB15BF969F0E7CD73A9D363D   75662          1.0          0.0   \n",
       "\n",
       "   UserState_2  UserState_3  UserState_4  UserState_5  UserState_6  \\\n",
       "0          0.0          0.0          0.0          0.0          0.0   \n",
       "1          0.0          0.0          0.0          0.0          0.0   \n",
       "2          0.0          0.0          0.0          0.0          0.0   \n",
       "4          0.0          0.0          0.0          0.0          0.0   \n",
       "5          0.0          0.0          0.0          0.0          0.0   \n",
       "\n",
       "   UserState_7   ...    ItemTimeZone_0  ItemTimeZone_1  ItemTimeZone_2  \\\n",
       "0          0.0   ...               0.0             1.0             0.0   \n",
       "1          0.0   ...               0.0             0.0             1.0   \n",
       "2          0.0   ...               0.0             0.0             0.0   \n",
       "4          0.0   ...               0.0             1.0             0.0   \n",
       "5          0.0   ...               0.0             0.0             1.0   \n",
       "\n",
       "   ItemTimeZone_3  TripType_0  TripType_1  TripType_2  TripType_3  TripType_4  \\\n",
       "0             0.0         0.0         0.0         0.0         0.0         1.0   \n",
       "1             0.0         0.0         0.0         0.0         0.0         1.0   \n",
       "2             1.0         0.0         0.0         1.0         0.0         0.0   \n",
       "4             0.0         0.0         1.0         0.0         0.0         0.0   \n",
       "5             0.0         0.0         1.0         0.0         0.0         0.0   \n",
       "\n",
       "   Rating  \n",
       "0       5  \n",
       "1       5  \n",
       "2       5  \n",
       "4       5  \n",
       "5       5  \n",
       "\n",
       "[5 rows x 264 columns]"
      ]
     },
     "execution_count": 226,
     "metadata": {},
     "output_type": "execute_result"
    }
   ],
   "source": [
    "df_new.head()"
   ]
  },
  {
   "cell_type": "code",
   "execution_count": null,
   "metadata": {
    "collapsed": false
   },
   "outputs": [],
   "source": []
  },
  {
   "cell_type": "code",
   "execution_count": 337,
   "metadata": {
    "collapsed": true
   },
   "outputs": [],
   "source": [
    "class neighbors:\n",
    "    def __init__(self, X, y):\n",
    "        self.model = KNeighborsClassifier(n_neighbors=10)\n",
    "        self.model.fit(X,y)\n",
    "    def get_neighbors_data(self, user, itemID):\n",
    "        #all_neighbors_indices = self.model.kneighbors(user[2:-1])[1][0]\n",
    "        #print(all_neighbors_indices)\n",
    "        #neighbors_data = df_new.iloc[all_neighbors_indices]\n",
    "        neighbors_data = df_new[(df_new.itemID == itemID)]\n",
    "        #print(neighbors_data)\n",
    "        self.good_neighbors = pd.DataFrame()\n",
    "        #print(neighbors_data.shape)\n",
    "        threshold = 0.0\n",
    "        for index, row in neighbors_data.iterrows():\n",
    "            similarity = jaccard_similarity_score(row[2:-1], user[2:-1])\n",
    "            #print(similarity)\n",
    "            if similarity > threshold:\n",
    "                self.good_neighbors=self.good_neighbors.append(row, ignore_index=True)\n",
    "                #print(row)\n",
    "                #print(good_neighbors)\n",
    "                #print(\"Inside Threshold\")\n",
    "            #print(self.good_neighbors)\n",
    "        #print(self.good_neighbors.userID)\n",
    "        return self.good_neighbors"
   ]
  },
  {
   "cell_type": "code",
   "execution_count": 278,
   "metadata": {
    "collapsed": true
   },
   "outputs": [],
   "source": [
    "class neighborhood_contribution:\n",
    "    def __init__(self):\n",
    "        pass\n",
    "    def neighbor_rating(self, neighbor, itemID, sigma, threshold):\n",
    "        self.ratings_sum=0\n",
    "        self.similarity_sum=0\n",
    "        #print(type(user))\n",
    "        #print(user)\n",
    "        #print(neighbor[2:10])\n",
    "        #print(df_new.itemID)\n",
    "        threshold=0\n",
    "        ratings = df_new[(df_new.userID == neighbor.userID) & (df_new.itemID == itemID)]\n",
    "        #print(ratings.shape)\n",
    "        for index, user_rating in ratings.iterrows():\n",
    "            similarity = jaccard_similarity_score(neighbor[2:-1],user_rating[2:-1])\n",
    "            #print(similarity)\n",
    "            if similarity > threshold:\n",
    "                self.ratings_sum += user_rating.Rating * similarity\n",
    "                self.similarity_sum += similarity\n",
    "                #print(self.similarity_sum)\n",
    "            #print(self.ratings_sum)\n",
    "            #print(neighbor[-10:],user_rating[-10:])\n",
    "        #print(\"Rating sum\")\n",
    "        #print(self.ratings_sum)\n",
    "        #print(\"Similarity Sum\")\n",
    "        #print(self.similarity_sum)\n",
    "        try:\n",
    "            rating = self.ratings_sum / self.similarity_sum\n",
    "            #rating = ratings.rating.mean()\n",
    "        except:\n",
    "            rating = 0\n",
    "        #print(rating)\n",
    "        return rating\n",
    "    def neighbor_average(self,neighbor,sigma,threshold):\n",
    "        ratings_of_neighbor_mean = df_new[df_new.userID == neighbor.userID].Rating.mean()\n",
    "#         rating_sum=0;\n",
    "#         count=0;\n",
    "#         threshold=0\n",
    "#         for index, row in ratings_of_neighbor.iterrows():\n",
    "#             similarity = jaccard_similarity_score(row[2:-1], neighbor[2:-1])\n",
    "#             if similarity > threshold:\n",
    "#                 rating_sum+=row.Rating\n",
    "#                 count+=1\n",
    "        #average_rating_in_given_context = rating_sum/count\n",
    "        #print(average_rating_in_given_context)\n",
    "        #print(ratings_of_neighbor_mean)\n",
    "        return ratings_of_neighbor_mean\n",
    "    def baseline_rating(self, itemID):\n",
    "        average_item_rating = df_new[df_new.itemID == itemID].Rating.mean()\n",
    "        #print(average_item_rating)\n",
    "        return average_item_rating"
   ]
  },
  {
   "cell_type": "code",
   "execution_count": 283,
   "metadata": {
    "collapsed": true
   },
   "outputs": [],
   "source": [
    "def numerator(neighborhood_contribution_rating, similarity_of_neighbors):\n",
    "    numerator_sum=0\n",
    "    #print(neighborhood_contribution_rating)\n",
    "    #print(similarity_of_neighbors)\n",
    "    for neighbor_rating, similarity in zip(neighborhood_contribution_rating,similarity_of_neighbors):\n",
    "        numerator_sum+= neighbor_rating*similarity\n",
    "    #print(numerator_sum)\n",
    "    return numerator_sum"
   ]
  },
  {
   "cell_type": "code",
   "execution_count": 357,
   "metadata": {
    "collapsed": true
   },
   "outputs": [],
   "source": [
    "def predict_rating(user,itemID):\n",
    "    #similarity_function = similarity_class()\n",
    "    user_neighbors = neighbors(X,y)\n",
    "    user_neighborhood_contribution = neighborhood_contribution()\n",
    "    neighbors_data = user_neighbors.get_neighbors_data(user,itemID)\n",
    "    #print(neighbors_data.userID)\n",
    "    #print(neighbors_data.shape)\n",
    "    #print(neighbors_data)\n",
    "    #similarity_of_neighbors = [similarity_function.jaccard_similarity(neighbor[2:-1],user[2:-1]) for neighbor in neighbors_data]\n",
    "    similarity_of_neighbors = []\n",
    "    neighborhood_contribution_rating = []\n",
    "    #print(neighbors_data.shape)\n",
    "    for index, neighbor in neighbors_data.iterrows():\n",
    "        print(neighbor.tolist()[2:-1])\n",
    "        similarity_between_user_and_neighbor = jaccard_similarity_score(neighbor.tolist()[2:-1],user.tolist()[2:-1])\n",
    "        similarity_of_neighbors.append(similarity_between_user_and_neighbor)\n",
    "        #print(similarity_between_user_and_neighbor)\n",
    "        neighborhood_contribution_rating.append(user_neighborhood_contribution.neighbor_rating(neighbor,itemID,1,0.1) - user_neighborhood_contribution.neighbor_average(neighbor,1,0.1))\n",
    "#     neighborhood_contribution_rating = [user_neighborhood_contribution.neighbor_rating(neighbor,item) - user_neighborhood_contribution.neighbor_average(neighbor)\n",
    "#                                         for neighbor in neighbors_data]\n",
    "    numerator_value = numerator(neighborhood_contribution_rating, similarity_of_neighbors)\n",
    "    print(similarity_of_neighbors)\n",
    "    baseline_rating = user_neighborhood_contribution.baseline_rating(itemID)\n",
    "    #print(numerator_value)\n",
    "    #print(similarity_of_neighbors)\n",
    "    #print(baseline_rating)\n",
    "    try:\n",
    "        a = numerator_value/ sum(similarity_of_neighbors)\n",
    "    except:\n",
    "        a=0\n",
    "    final_rating = baseline_rating + a\n",
    "    return final_rating"
   ]
  },
  {
   "cell_type": "code",
   "execution_count": 358,
   "metadata": {
    "collapsed": true
   },
   "outputs": [],
   "source": [
    "def nth_root(self,value, n_root):\n",
    "    root_value = 1/float(n_root)\n",
    "    return round (Decimal(value) ** Decimal(root_value),3)\n",
    "def jaccard_similarity_score(x,y):\n",
    "    #print(len(x))\n",
    "    #print(len(y))\n",
    "    intersection = np.logical_and(np.array(x),np.array(y)).astype('int')\n",
    "    #print(intersection)\n",
    "    union = np.logical_or(np.array(x), np.array(y)).astype('int')\n",
    "    #print(len(union))\n",
    "    numerator = np.dot(np.array(weights), intersection)\n",
    "    denom = np.dot(np.array(weights), union)\n",
    "    similarity = numerator/denom\n",
    "    #print(similarity)\n",
    "    return similarity\n",
    "\n",
    "def euclidean_similarity_function(x,y):\n",
    "    similarity = sqrt(sum(pow(a-b,2)*weight for a, b, weight in zip(x, y, weights)))\n",
    "    return 1/similarity\n",
    "def manhattan_distance(x,y):\n",
    "    similarity = sum(abs(a-b)*weight for a, b, weight in zip(x, y,weights))\n",
    "    return 1/similarity\n",
    "def minkowski_distance(x,y,p_value):\n",
    "    similarity = (sum(pow(abs(a-b),p_value)*weight for a, b, weight in zip(x, y, weights)),p_value)\n",
    "    return 1/similarity\n",
    "def dice_similarity_score(x,y):\n",
    "    intersection = np.logical_and(np.array(x),np.array(y)).astype('int')\n",
    "    numerator = np.dot(np.array(weights), intersection)*2\n",
    "    denom = sum(np.dot(np.array(weights), x)) + sum(np.dot(np.array(weights), y))\n",
    "    similarity = numerator/denom\n",
    "    return similarity\n",
    "\n",
    "def cosine_similarity(x,y):\n",
    "    numerator = sum(a*b*weight for a,b in zip(x, y, weights))\n",
    "    denominator = self.square_rooted(np.dot(x,weights))*self.square_rooted(np.dot(y, weights))\n",
    "    return round(numerator/float(denominator),3)"
   ]
  },
  {
   "cell_type": "code",
   "execution_count": 359,
   "metadata": {
    "collapsed": false
   },
   "outputs": [
    {
     "name": "stdout",
     "output_type": "stream",
     "text": [
      "[0.0, 0.0, 0.0, 0.0, 0.0, 0.0, 0.0, 0.0, 0.0, 0.0, 0.0, 0.0, 0.0, 0.0, 0.0, 0.0, 0.0, 0.0, 0.0, 0.0, 0.0, 0.0, 0.0, 0.0, 0.0, 0.0, 0.0, 0.0, 0.0, 0.0, 0.0, 0.0, 0.0, 0.0, 0.0, 0.0, 0.0, 0.0, 0.0, 0.0, 0.0, 0.0, 0.0, 0.0, 0.0, 0.0, 0.0, 0.0, 0.0, 0.0, 0.0, 0.0, 0.0, 0.0, 0.0, 0.0, 0.0, 0.0, 0.0, 0.0, 0.0, 0.0, 0.0, 0.0, 0.0, 0.0, 0.0, 0.0, 0.0, 0.0, 0.0, 0.0, 0.0, 0.0, 0.0, 0.0, 0.0, 0.0, 0.0, 0.0, 0.0, 0.0, 0.0, 0.0, 0.0, 0.0, 0.0, 0.0, 0.0, 0.0, 0.0, 0.0, 0.0, 0.0, 0.0, 0.0, 0.0, 0.0, 0.0, 0.0, 0.0, 0.0, 0.0, 0.0, 0.0, 0.0, 1.0, 0.0, 0.0, 0.0, 0.0, 0.0, 0.0, 0.0, 0.0, 0.0, 0.0, 0.0, 0.0, 0.0, 0.0, 0.0, 0.0, 0.0, 0.0, 0.0, 0.0, 0.0, 0.0, 0.0, 0.0, 0.0, 0.0, 0.0, 0.0, 0.0, 0.0, 0.0, 0.0, 1.0, 5.0, 0.0, 0.0, 1.0, 0.0, 0.0, 1.0, 0.0, 0.0, 0.0, 0.0, 0.0, 0.0, 0.0, 0.0, 0.0, 0.0, 0.0, 0.0, 0.0, 0.0, 0.0, 0.0, 0.0, 0.0, 0.0, 0.0, 0.0, 0.0, 0.0, 0.0, 0.0, 0.0, 0.0, 0.0, 0.0, 0.0, 0.0, 0.0, 0.0, 0.0, 0.0, 0.0, 0.0, 0.0, 0.0, 0.0, 0.0, 0.0, 0.0, 0.0, 0.0, 0.0, 0.0, 0.0, 0.0, 0.0, 0.0, 0.0, 0.0, 0.0, 0.0, 0.0, 0.0, 0.0, 0.0, 0.0, 0.0, 0.0, 0.0, 0.0, 0.0, 0.0, 0.0, 0.0, 0.0, 0.0, 0.0, 0.0, 0.0, 0.0, 0.0, 0.0, 0.0, 0.0, 1.0, 0.0, 0.0, 0.0, 0.0, 0.0, 0.0, 0.0, 0.0, 0.0, 0.0, 0.0, 0.0, 0.0, 0.0, 0.0, 0.0, 0.0, 0.0, 0.0, 0.0, 0.0, 0.0, 0.0, 0.0, 0.0, 0.0, 0.0, 0.0, 0.0, 0.0, 0.0, 0.0, 0.0, 0.0, 75680.0]\n",
      "[0.0, 0.0, 0.0, 0.0, 0.0, 0.0, 0.0, 0.0, 0.0, 0.0, 0.0, 0.0, 0.0, 0.0, 0.0, 0.0, 0.0, 0.0, 0.0, 0.0, 0.0, 0.0, 0.0, 0.0, 0.0, 0.0, 0.0, 0.0, 0.0, 0.0, 0.0, 0.0, 0.0, 0.0, 0.0, 0.0, 0.0, 0.0, 0.0, 0.0, 0.0, 0.0, 0.0, 0.0, 0.0, 0.0, 0.0, 0.0, 0.0, 0.0, 0.0, 0.0, 0.0, 0.0, 0.0, 0.0, 0.0, 0.0, 0.0, 0.0, 0.0, 0.0, 0.0, 0.0, 0.0, 0.0, 0.0, 0.0, 0.0, 0.0, 0.0, 0.0, 0.0, 0.0, 0.0, 0.0, 0.0, 0.0, 0.0, 0.0, 0.0, 0.0, 0.0, 0.0, 0.0, 0.0, 0.0, 0.0, 0.0, 0.0, 0.0, 0.0, 0.0, 0.0, 0.0, 0.0, 0.0, 0.0, 0.0, 0.0, 0.0, 0.0, 0.0, 0.0, 0.0, 0.0, 1.0, 0.0, 0.0, 0.0, 0.0, 0.0, 0.0, 0.0, 0.0, 0.0, 0.0, 0.0, 0.0, 0.0, 0.0, 0.0, 0.0, 0.0, 0.0, 0.0, 0.0, 0.0, 0.0, 0.0, 0.0, 0.0, 0.0, 0.0, 0.0, 0.0, 0.0, 0.0, 0.0, 1.0, 5.0, 0.0, 0.0, 1.0, 0.0, 0.0, 0.0, 0.0, 0.0, 0.0, 0.0, 0.0, 0.0, 0.0, 0.0, 0.0, 0.0, 0.0, 0.0, 0.0, 0.0, 0.0, 0.0, 0.0, 0.0, 0.0, 0.0, 0.0, 0.0, 0.0, 0.0, 0.0, 0.0, 0.0, 0.0, 0.0, 0.0, 0.0, 0.0, 0.0, 1.0, 0.0, 0.0, 0.0, 0.0, 0.0, 0.0, 0.0, 0.0, 0.0, 0.0, 0.0, 0.0, 0.0, 0.0, 0.0, 0.0, 0.0, 0.0, 0.0, 0.0, 0.0, 0.0, 0.0, 0.0, 0.0, 0.0, 0.0, 0.0, 0.0, 0.0, 0.0, 0.0, 0.0, 0.0, 0.0, 0.0, 0.0, 0.0, 0.0, 0.0, 0.0, 0.0, 0.0, 0.0, 0.0, 0.0, 0.0, 0.0, 0.0, 0.0, 0.0, 0.0, 0.0, 0.0, 0.0, 0.0, 1.0, 0.0, 0.0, 0.0, 0.0, 0.0, 0.0, 0.0, 0.0, 0.0, 0.0, 0.0, 0.0, 0.0, 0.0, 0.0, 0.0, 0.0, 0.0, 0.0, 0.0, 0.0, 0.0, 75680.0]\n",
      "[0.0, 0.0, 0.0, 0.0, 0.0, 0.0, 0.0, 0.0, 0.0, 0.0, 0.0, 0.0, 0.0, 0.0, 0.0, 0.0, 0.0, 0.0, 0.0, 0.0, 0.0, 0.0, 0.0, 0.0, 0.0, 0.0, 0.0, 0.0, 0.0, 0.0, 0.0, 0.0, 0.0, 0.0, 0.0, 0.0, 0.0, 0.0, 0.0, 0.0, 0.0, 0.0, 0.0, 0.0, 0.0, 0.0, 0.0, 0.0, 0.0, 0.0, 0.0, 0.0, 0.0, 0.0, 0.0, 0.0, 0.0, 0.0, 0.0, 0.0, 0.0, 0.0, 0.0, 0.0, 0.0, 0.0, 0.0, 0.0, 0.0, 0.0, 0.0, 0.0, 0.0, 0.0, 0.0, 0.0, 0.0, 0.0, 0.0, 0.0, 0.0, 0.0, 0.0, 0.0, 0.0, 0.0, 0.0, 0.0, 0.0, 0.0, 0.0, 0.0, 0.0, 0.0, 0.0, 0.0, 0.0, 0.0, 0.0, 0.0, 0.0, 0.0, 0.0, 0.0, 0.0, 0.0, 1.0, 0.0, 0.0, 0.0, 0.0, 0.0, 0.0, 0.0, 0.0, 0.0, 0.0, 0.0, 0.0, 0.0, 0.0, 0.0, 0.0, 0.0, 0.0, 0.0, 0.0, 0.0, 0.0, 0.0, 0.0, 0.0, 0.0, 0.0, 0.0, 0.0, 0.0, 0.0, 0.0, 1.0, 5.0, 0.0, 0.0, 1.0, 0.0, 0.0, 0.0, 0.0, 0.0, 0.0, 0.0, 0.0, 0.0, 0.0, 0.0, 0.0, 0.0, 0.0, 0.0, 0.0, 0.0, 0.0, 0.0, 0.0, 0.0, 0.0, 0.0, 0.0, 0.0, 0.0, 0.0, 0.0, 0.0, 0.0, 0.0, 0.0, 0.0, 0.0, 0.0, 0.0, 0.0, 0.0, 0.0, 0.0, 0.0, 0.0, 0.0, 0.0, 0.0, 0.0, 0.0, 0.0, 0.0, 0.0, 0.0, 0.0, 0.0, 0.0, 0.0, 0.0, 0.0, 0.0, 0.0, 0.0, 0.0, 0.0, 0.0, 0.0, 0.0, 0.0, 0.0, 0.0, 0.0, 0.0, 0.0, 0.0, 0.0, 0.0, 0.0, 0.0, 0.0, 0.0, 0.0, 0.0, 1.0, 0.0, 0.0, 0.0, 0.0, 0.0, 0.0, 0.0, 0.0, 0.0, 0.0, 0.0, 0.0, 0.0, 0.0, 0.0, 0.0, 0.0, 0.0, 0.0, 0.0, 1.0, 0.0, 0.0, 0.0, 0.0, 0.0, 0.0, 0.0, 0.0, 0.0, 0.0, 0.0, 0.0, 0.0, 0.0, 75680.0]\n",
      "[0.0, 0.0, 0.0, 0.0, 0.0, 0.0, 0.0, 0.0, 0.0, 0.0, 0.0, 0.0, 0.0, 0.0, 0.0, 0.0, 0.0, 0.0, 0.0, 0.0, 0.0, 0.0, 0.0, 0.0, 0.0, 0.0, 0.0, 0.0, 0.0, 0.0, 0.0, 0.0, 0.0, 0.0, 0.0, 0.0, 0.0, 0.0, 0.0, 0.0, 0.0, 0.0, 0.0, 0.0, 0.0, 0.0, 0.0, 0.0, 0.0, 0.0, 0.0, 0.0, 0.0, 0.0, 0.0, 0.0, 0.0, 0.0, 0.0, 0.0, 0.0, 0.0, 0.0, 0.0, 0.0, 0.0, 0.0, 0.0, 0.0, 0.0, 0.0, 0.0, 0.0, 0.0, 0.0, 0.0, 0.0, 0.0, 0.0, 0.0, 0.0, 0.0, 0.0, 0.0, 0.0, 0.0, 0.0, 0.0, 0.0, 0.0, 0.0, 0.0, 0.0, 0.0, 0.0, 0.0, 0.0, 0.0, 0.0, 0.0, 0.0, 0.0, 0.0, 0.0, 0.0, 0.0, 1.0, 0.0, 0.0, 0.0, 0.0, 0.0, 0.0, 0.0, 0.0, 0.0, 0.0, 0.0, 0.0, 0.0, 0.0, 0.0, 0.0, 0.0, 0.0, 0.0, 0.0, 0.0, 0.0, 0.0, 0.0, 0.0, 0.0, 0.0, 0.0, 0.0, 0.0, 0.0, 0.0, 1.0, 5.0, 0.0, 1.0, 0.0, 0.0, 0.0, 0.0, 0.0, 1.0, 0.0, 0.0, 0.0, 0.0, 0.0, 0.0, 0.0, 0.0, 0.0, 0.0, 0.0, 0.0, 0.0, 0.0, 0.0, 0.0, 0.0, 0.0, 0.0, 0.0, 0.0, 0.0, 0.0, 0.0, 0.0, 0.0, 0.0, 0.0, 0.0, 0.0, 0.0, 0.0, 0.0, 0.0, 0.0, 0.0, 0.0, 0.0, 0.0, 0.0, 0.0, 0.0, 0.0, 0.0, 0.0, 0.0, 0.0, 0.0, 0.0, 0.0, 0.0, 0.0, 0.0, 0.0, 0.0, 0.0, 0.0, 0.0, 0.0, 0.0, 0.0, 0.0, 0.0, 0.0, 0.0, 0.0, 0.0, 0.0, 0.0, 0.0, 0.0, 0.0, 0.0, 0.0, 0.0, 0.0, 0.0, 0.0, 0.0, 0.0, 0.0, 0.0, 0.0, 0.0, 0.0, 0.0, 0.0, 0.0, 0.0, 0.0, 0.0, 0.0, 0.0, 0.0, 0.0, 0.0, 0.0, 0.0, 0.0, 0.0, 0.0, 0.0, 0.0, 0.0, 0.0, 0.0, 0.0, 1.0, 0.0, 0.0, 0.0, 75680.0]\n",
      "[0.0, 0.0, 0.0, 0.0, 0.0, 0.0, 0.0, 0.0, 0.0, 0.0, 0.0, 0.0, 0.0, 0.0, 0.0, 0.0, 0.0, 0.0, 0.0, 0.0, 0.0, 0.0, 0.0, 0.0, 0.0, 0.0, 0.0, 0.0, 0.0, 0.0, 0.0, 0.0, 0.0, 0.0, 0.0, 0.0, 0.0, 0.0, 0.0, 0.0, 0.0, 0.0, 0.0, 0.0, 0.0, 0.0, 0.0, 0.0, 0.0, 0.0, 0.0, 0.0, 0.0, 0.0, 0.0, 0.0, 0.0, 0.0, 0.0, 0.0, 0.0, 0.0, 0.0, 0.0, 0.0, 0.0, 0.0, 0.0, 0.0, 0.0, 0.0, 0.0, 0.0, 0.0, 0.0, 0.0, 0.0, 0.0, 0.0, 0.0, 0.0, 0.0, 0.0, 0.0, 0.0, 0.0, 0.0, 0.0, 0.0, 0.0, 0.0, 0.0, 0.0, 0.0, 0.0, 0.0, 0.0, 0.0, 0.0, 0.0, 0.0, 0.0, 0.0, 0.0, 0.0, 0.0, 1.0, 0.0, 0.0, 0.0, 0.0, 0.0, 0.0, 0.0, 0.0, 0.0, 0.0, 0.0, 0.0, 0.0, 0.0, 0.0, 0.0, 0.0, 0.0, 0.0, 0.0, 0.0, 0.0, 0.0, 0.0, 0.0, 0.0, 0.0, 0.0, 0.0, 0.0, 0.0, 0.0, 1.0, 5.0, 0.0, 0.0, 1.0, 0.0, 0.0, 0.0, 0.0, 0.0, 0.0, 0.0, 0.0, 0.0, 0.0, 0.0, 0.0, 0.0, 0.0, 0.0, 0.0, 0.0, 0.0, 0.0, 0.0, 0.0, 0.0, 0.0, 0.0, 0.0, 0.0, 0.0, 0.0, 0.0, 0.0, 0.0, 0.0, 0.0, 0.0, 0.0, 0.0, 0.0, 0.0, 0.0, 0.0, 0.0, 0.0, 0.0, 0.0, 0.0, 0.0, 0.0, 0.0, 0.0, 0.0, 0.0, 0.0, 1.0, 0.0, 0.0, 0.0, 0.0, 0.0, 0.0, 0.0, 0.0, 0.0, 0.0, 0.0, 0.0, 0.0, 0.0, 0.0, 0.0, 0.0, 0.0, 0.0, 0.0, 0.0, 0.0, 0.0, 0.0, 0.0, 0.0, 0.0, 0.0, 0.0, 0.0, 0.0, 0.0, 0.0, 0.0, 0.0, 0.0, 0.0, 0.0, 0.0, 0.0, 0.0, 0.0, 0.0, 0.0, 0.0, 0.0, 0.0, 1.0, 0.0, 0.0, 0.0, 0.0, 0.0, 0.0, 0.0, 0.0, 0.0, 0.0, 0.0, 0.0, 0.0, 0.0, 0.0, 75680.0]\n",
      "[0.0, 0.0, 0.0, 0.0, 0.0, 0.0, 0.0, 0.0, 0.0, 0.0, 0.0, 0.0, 0.0, 0.0, 0.0, 0.0, 0.0, 0.0, 0.0, 0.0, 0.0, 0.0, 0.0, 0.0, 0.0, 0.0, 0.0, 0.0, 0.0, 0.0, 0.0, 0.0, 0.0, 0.0, 0.0, 0.0, 0.0, 0.0, 0.0, 0.0, 0.0, 0.0, 0.0, 0.0, 0.0, 0.0, 0.0, 0.0, 0.0, 0.0, 0.0, 0.0, 0.0, 0.0, 0.0, 0.0, 0.0, 0.0, 0.0, 0.0, 0.0, 0.0, 0.0, 0.0, 0.0, 0.0, 0.0, 0.0, 0.0, 0.0, 0.0, 0.0, 0.0, 0.0, 0.0, 0.0, 0.0, 0.0, 0.0, 0.0, 0.0, 0.0, 0.0, 0.0, 0.0, 0.0, 0.0, 0.0, 0.0, 0.0, 0.0, 0.0, 0.0, 0.0, 0.0, 0.0, 0.0, 0.0, 0.0, 0.0, 0.0, 0.0, 0.0, 0.0, 0.0, 0.0, 1.0, 0.0, 0.0, 0.0, 0.0, 0.0, 0.0, 0.0, 0.0, 0.0, 0.0, 0.0, 0.0, 0.0, 0.0, 0.0, 0.0, 0.0, 0.0, 0.0, 0.0, 0.0, 0.0, 0.0, 0.0, 0.0, 0.0, 0.0, 0.0, 0.0, 0.0, 0.0, 0.0, 1.0, 5.0, 0.0, 0.0, 1.0, 0.0, 0.0, 0.0, 0.0, 0.0, 0.0, 0.0, 0.0, 0.0, 0.0, 0.0, 0.0, 0.0, 0.0, 0.0, 0.0, 0.0, 0.0, 0.0, 0.0, 0.0, 0.0, 0.0, 0.0, 0.0, 0.0, 0.0, 0.0, 0.0, 0.0, 0.0, 0.0, 0.0, 0.0, 0.0, 0.0, 0.0, 0.0, 0.0, 0.0, 0.0, 0.0, 0.0, 0.0, 0.0, 0.0, 0.0, 0.0, 0.0, 0.0, 0.0, 0.0, 0.0, 0.0, 0.0, 0.0, 0.0, 0.0, 0.0, 0.0, 0.0, 0.0, 0.0, 0.0, 0.0, 0.0, 0.0, 0.0, 0.0, 0.0, 0.0, 0.0, 0.0, 0.0, 0.0, 1.0, 0.0, 0.0, 0.0, 0.0, 0.0, 0.0, 0.0, 0.0, 0.0, 0.0, 0.0, 0.0, 0.0, 0.0, 0.0, 0.0, 0.0, 0.0, 0.0, 0.0, 0.0, 0.0, 0.0, 0.0, 0.0, 1.0, 0.0, 0.0, 0.0, 0.0, 0.0, 0.0, 0.0, 0.0, 0.0, 0.0, 0.0, 0.0, 0.0, 0.0, 75680.0]\n",
      "[0.0, 0.0, 0.0, 0.0, 0.0, 0.0, 0.0, 0.0, 0.0, 0.0, 0.0, 0.0, 0.0, 0.0, 0.0, 0.0, 0.0, 0.0, 0.0, 0.0, 0.0, 0.0, 0.0, 0.0, 0.0, 0.0, 0.0, 0.0, 0.0, 0.0, 0.0, 0.0, 0.0, 0.0, 0.0, 0.0, 0.0, 0.0, 0.0, 0.0, 0.0, 0.0, 0.0, 0.0, 0.0, 0.0, 0.0, 0.0, 0.0, 0.0, 0.0, 0.0, 0.0, 0.0, 0.0, 0.0, 0.0, 0.0, 0.0, 0.0, 0.0, 0.0, 0.0, 0.0, 0.0, 0.0, 0.0, 0.0, 0.0, 0.0, 0.0, 0.0, 0.0, 0.0, 0.0, 0.0, 0.0, 0.0, 0.0, 0.0, 0.0, 0.0, 0.0, 0.0, 0.0, 0.0, 0.0, 0.0, 0.0, 0.0, 0.0, 0.0, 0.0, 0.0, 0.0, 0.0, 0.0, 0.0, 0.0, 0.0, 0.0, 0.0, 0.0, 0.0, 0.0, 0.0, 1.0, 0.0, 0.0, 0.0, 0.0, 0.0, 0.0, 0.0, 0.0, 0.0, 0.0, 0.0, 0.0, 0.0, 0.0, 0.0, 0.0, 0.0, 0.0, 0.0, 0.0, 0.0, 0.0, 0.0, 0.0, 0.0, 0.0, 0.0, 0.0, 0.0, 0.0, 0.0, 0.0, 1.0, 4.0, 0.0, 0.0, 1.0, 0.0, 0.0, 0.0, 0.0, 0.0, 0.0, 0.0, 0.0, 0.0, 0.0, 0.0, 0.0, 0.0, 0.0, 0.0, 0.0, 0.0, 0.0, 0.0, 0.0, 0.0, 0.0, 0.0, 0.0, 0.0, 0.0, 0.0, 0.0, 0.0, 0.0, 0.0, 0.0, 0.0, 0.0, 0.0, 0.0, 0.0, 0.0, 0.0, 0.0, 0.0, 0.0, 0.0, 0.0, 0.0, 0.0, 0.0, 0.0, 0.0, 0.0, 0.0, 0.0, 0.0, 0.0, 0.0, 0.0, 0.0, 0.0, 0.0, 0.0, 0.0, 0.0, 0.0, 0.0, 0.0, 0.0, 0.0, 0.0, 0.0, 0.0, 0.0, 0.0, 0.0, 0.0, 0.0, 0.0, 0.0, 0.0, 0.0, 0.0, 1.0, 0.0, 0.0, 0.0, 0.0, 0.0, 0.0, 0.0, 0.0, 0.0, 0.0, 0.0, 0.0, 0.0, 0.0, 0.0, 0.0, 0.0, 0.0, 0.0, 0.0, 1.0, 0.0, 0.0, 0.0, 0.0, 0.0, 0.0, 0.0, 0.0, 0.0, 0.0, 0.0, 0.0, 0.0, 0.0, 75680.0]\n",
      "[0.0, 0.0, 0.0, 0.0, 0.0, 0.0, 0.0, 0.0, 0.0, 0.0, 0.0, 0.0, 0.0, 0.0, 0.0, 0.0, 0.0, 0.0, 0.0, 0.0, 0.0, 0.0, 0.0, 0.0, 0.0, 0.0, 0.0, 0.0, 0.0, 0.0, 0.0, 0.0, 0.0, 0.0, 0.0, 0.0, 0.0, 0.0, 0.0, 0.0, 0.0, 0.0, 0.0, 0.0, 0.0, 0.0, 0.0, 0.0, 0.0, 0.0, 0.0, 0.0, 0.0, 0.0, 0.0, 0.0, 0.0, 0.0, 0.0, 0.0, 0.0, 0.0, 0.0, 0.0, 0.0, 0.0, 0.0, 0.0, 0.0, 0.0, 0.0, 0.0, 0.0, 0.0, 0.0, 0.0, 0.0, 0.0, 0.0, 0.0, 0.0, 0.0, 0.0, 0.0, 0.0, 0.0, 0.0, 0.0, 0.0, 0.0, 0.0, 0.0, 0.0, 0.0, 0.0, 0.0, 0.0, 0.0, 0.0, 0.0, 0.0, 0.0, 0.0, 0.0, 0.0, 0.0, 1.0, 0.0, 0.0, 0.0, 0.0, 0.0, 0.0, 0.0, 0.0, 0.0, 0.0, 0.0, 0.0, 0.0, 0.0, 0.0, 0.0, 0.0, 0.0, 0.0, 0.0, 0.0, 0.0, 0.0, 0.0, 0.0, 0.0, 0.0, 0.0, 0.0, 0.0, 0.0, 0.0, 1.0, 4.0, 0.0, 0.0, 1.0, 0.0, 0.0, 0.0, 0.0, 0.0, 0.0, 0.0, 0.0, 0.0, 0.0, 0.0, 0.0, 0.0, 0.0, 0.0, 0.0, 0.0, 0.0, 0.0, 0.0, 0.0, 0.0, 0.0, 0.0, 0.0, 0.0, 0.0, 0.0, 0.0, 0.0, 0.0, 0.0, 0.0, 0.0, 0.0, 0.0, 0.0, 0.0, 0.0, 0.0, 0.0, 0.0, 0.0, 0.0, 0.0, 0.0, 0.0, 0.0, 0.0, 0.0, 0.0, 0.0, 0.0, 0.0, 0.0, 0.0, 0.0, 0.0, 0.0, 0.0, 0.0, 0.0, 0.0, 0.0, 0.0, 0.0, 0.0, 0.0, 1.0, 0.0, 0.0, 0.0, 0.0, 0.0, 0.0, 0.0, 0.0, 0.0, 0.0, 0.0, 0.0, 0.0, 0.0, 0.0, 0.0, 0.0, 0.0, 0.0, 0.0, 0.0, 0.0, 0.0, 0.0, 0.0, 0.0, 0.0, 0.0, 0.0, 0.0, 0.0, 0.0, 0.0, 0.0, 0.0, 0.0, 0.0, 0.0, 0.0, 0.0, 0.0, 0.0, 0.0, 0.0, 1.0, 0.0, 0.0, 75680.0]\n",
      "[0.0, 0.0, 0.0, 0.0, 0.0, 0.0, 0.0, 0.0]\n"
     ]
    },
    {
     "data": {
      "text/plain": [
       "nan"
      ]
     },
     "execution_count": 359,
     "metadata": {},
     "output_type": "execute_result"
    }
   ],
   "source": [
    "rating = predict_rating(df_new.iloc[2], df_new.iloc[2][1])\n",
    "rating\n",
    "#df_new.iloc[36]"
   ]
  },
  {
   "cell_type": "code",
   "execution_count": 331,
   "metadata": {
    "collapsed": false
   },
   "outputs": [
    {
     "data": {
      "text/plain": [
       "1.0"
      ]
     },
     "execution_count": 331,
     "metadata": {},
     "output_type": "execute_result"
    }
   ],
   "source": [
    "jaccard_similarity_score(df_new.iloc[2][2:-1],df_new.iloc[2][2:-1])"
   ]
  },
  {
   "cell_type": "code",
   "execution_count": 335,
   "metadata": {
    "collapsed": false
   },
   "outputs": [],
   "source": [
    "#df_new.iloc[36][-1]\n",
    "#df_new[df_new.UserID == \"6900F892B7C42CEABB83C4E8C7589428\"]\n",
    "# for i in range(15):\n",
    "#     print(predict_rating(df_new.iloc[i], df_new.iloc[i][1]))"
   ]
  },
  {
   "cell_type": "code",
   "execution_count": 210,
   "metadata": {
    "collapsed": false
   },
   "outputs": [
    {
     "data": {
      "text/html": [
       "<div>\n",
       "<table border=\"1\" class=\"dataframe\">\n",
       "  <thead>\n",
       "    <tr style=\"text-align: right;\">\n",
       "      <th></th>\n",
       "      <th>UserState_0</th>\n",
       "      <th>UserState_1</th>\n",
       "      <th>UserState_2</th>\n",
       "      <th>UserState_3</th>\n",
       "      <th>UserState_4</th>\n",
       "      <th>UserState_5</th>\n",
       "      <th>UserState_6</th>\n",
       "      <th>UserState_7</th>\n",
       "      <th>UserState_8</th>\n",
       "      <th>UserState_9</th>\n",
       "      <th>...</th>\n",
       "      <th>ItemState_30</th>\n",
       "      <th>ItemTimeZone_0</th>\n",
       "      <th>ItemTimeZone_1</th>\n",
       "      <th>ItemTimeZone_2</th>\n",
       "      <th>ItemTimeZone_3</th>\n",
       "      <th>TripType_0</th>\n",
       "      <th>TripType_1</th>\n",
       "      <th>TripType_2</th>\n",
       "      <th>TripType_3</th>\n",
       "      <th>TripType_4</th>\n",
       "    </tr>\n",
       "  </thead>\n",
       "  <tbody>\n",
       "    <tr>\n",
       "      <th>count</th>\n",
       "      <td>2371.000000</td>\n",
       "      <td>2371.000000</td>\n",
       "      <td>2371.000000</td>\n",
       "      <td>2371.000000</td>\n",
       "      <td>2371.000000</td>\n",
       "      <td>2371.000000</td>\n",
       "      <td>2371.000000</td>\n",
       "      <td>2371.000000</td>\n",
       "      <td>2371.000000</td>\n",
       "      <td>2371.000000</td>\n",
       "      <td>...</td>\n",
       "      <td>2371.000000</td>\n",
       "      <td>2371.000000</td>\n",
       "      <td>2371.000000</td>\n",
       "      <td>2371.000000</td>\n",
       "      <td>2371.000000</td>\n",
       "      <td>2371.000000</td>\n",
       "      <td>2371.000000</td>\n",
       "      <td>2371.000000</td>\n",
       "      <td>2371.000000</td>\n",
       "      <td>2371.000000</td>\n",
       "    </tr>\n",
       "    <tr>\n",
       "      <th>mean</th>\n",
       "      <td>0.002531</td>\n",
       "      <td>0.005061</td>\n",
       "      <td>0.005061</td>\n",
       "      <td>0.000844</td>\n",
       "      <td>0.012231</td>\n",
       "      <td>0.000844</td>\n",
       "      <td>0.024884</td>\n",
       "      <td>0.000844</td>\n",
       "      <td>0.000422</td>\n",
       "      <td>0.134542</td>\n",
       "      <td>...</td>\n",
       "      <td>0.018136</td>\n",
       "      <td>0.204555</td>\n",
       "      <td>0.399831</td>\n",
       "      <td>0.101645</td>\n",
       "      <td>0.293969</td>\n",
       "      <td>0.158161</td>\n",
       "      <td>0.308730</td>\n",
       "      <td>0.216786</td>\n",
       "      <td>0.064108</td>\n",
       "      <td>0.252214</td>\n",
       "    </tr>\n",
       "    <tr>\n",
       "      <th>std</th>\n",
       "      <td>0.050252</td>\n",
       "      <td>0.070977</td>\n",
       "      <td>0.070977</td>\n",
       "      <td>0.029037</td>\n",
       "      <td>0.109939</td>\n",
       "      <td>0.029037</td>\n",
       "      <td>0.155804</td>\n",
       "      <td>0.029037</td>\n",
       "      <td>0.020537</td>\n",
       "      <td>0.341306</td>\n",
       "      <td>...</td>\n",
       "      <td>0.133471</td>\n",
       "      <td>0.403461</td>\n",
       "      <td>0.489967</td>\n",
       "      <td>0.302244</td>\n",
       "      <td>0.455674</td>\n",
       "      <td>0.364969</td>\n",
       "      <td>0.462067</td>\n",
       "      <td>0.412143</td>\n",
       "      <td>0.244997</td>\n",
       "      <td>0.434375</td>\n",
       "    </tr>\n",
       "    <tr>\n",
       "      <th>min</th>\n",
       "      <td>0.000000</td>\n",
       "      <td>0.000000</td>\n",
       "      <td>0.000000</td>\n",
       "      <td>0.000000</td>\n",
       "      <td>0.000000</td>\n",
       "      <td>0.000000</td>\n",
       "      <td>0.000000</td>\n",
       "      <td>0.000000</td>\n",
       "      <td>0.000000</td>\n",
       "      <td>0.000000</td>\n",
       "      <td>...</td>\n",
       "      <td>0.000000</td>\n",
       "      <td>0.000000</td>\n",
       "      <td>0.000000</td>\n",
       "      <td>0.000000</td>\n",
       "      <td>0.000000</td>\n",
       "      <td>0.000000</td>\n",
       "      <td>0.000000</td>\n",
       "      <td>0.000000</td>\n",
       "      <td>0.000000</td>\n",
       "      <td>0.000000</td>\n",
       "    </tr>\n",
       "    <tr>\n",
       "      <th>25%</th>\n",
       "      <td>0.000000</td>\n",
       "      <td>0.000000</td>\n",
       "      <td>0.000000</td>\n",
       "      <td>0.000000</td>\n",
       "      <td>0.000000</td>\n",
       "      <td>0.000000</td>\n",
       "      <td>0.000000</td>\n",
       "      <td>0.000000</td>\n",
       "      <td>0.000000</td>\n",
       "      <td>0.000000</td>\n",
       "      <td>...</td>\n",
       "      <td>0.000000</td>\n",
       "      <td>0.000000</td>\n",
       "      <td>0.000000</td>\n",
       "      <td>0.000000</td>\n",
       "      <td>0.000000</td>\n",
       "      <td>0.000000</td>\n",
       "      <td>0.000000</td>\n",
       "      <td>0.000000</td>\n",
       "      <td>0.000000</td>\n",
       "      <td>0.000000</td>\n",
       "    </tr>\n",
       "    <tr>\n",
       "      <th>50%</th>\n",
       "      <td>0.000000</td>\n",
       "      <td>0.000000</td>\n",
       "      <td>0.000000</td>\n",
       "      <td>0.000000</td>\n",
       "      <td>0.000000</td>\n",
       "      <td>0.000000</td>\n",
       "      <td>0.000000</td>\n",
       "      <td>0.000000</td>\n",
       "      <td>0.000000</td>\n",
       "      <td>0.000000</td>\n",
       "      <td>...</td>\n",
       "      <td>0.000000</td>\n",
       "      <td>0.000000</td>\n",
       "      <td>0.000000</td>\n",
       "      <td>0.000000</td>\n",
       "      <td>0.000000</td>\n",
       "      <td>0.000000</td>\n",
       "      <td>0.000000</td>\n",
       "      <td>0.000000</td>\n",
       "      <td>0.000000</td>\n",
       "      <td>0.000000</td>\n",
       "    </tr>\n",
       "    <tr>\n",
       "      <th>75%</th>\n",
       "      <td>0.000000</td>\n",
       "      <td>0.000000</td>\n",
       "      <td>0.000000</td>\n",
       "      <td>0.000000</td>\n",
       "      <td>0.000000</td>\n",
       "      <td>0.000000</td>\n",
       "      <td>0.000000</td>\n",
       "      <td>0.000000</td>\n",
       "      <td>0.000000</td>\n",
       "      <td>0.000000</td>\n",
       "      <td>...</td>\n",
       "      <td>0.000000</td>\n",
       "      <td>0.000000</td>\n",
       "      <td>1.000000</td>\n",
       "      <td>0.000000</td>\n",
       "      <td>1.000000</td>\n",
       "      <td>0.000000</td>\n",
       "      <td>1.000000</td>\n",
       "      <td>0.000000</td>\n",
       "      <td>0.000000</td>\n",
       "      <td>1.000000</td>\n",
       "    </tr>\n",
       "    <tr>\n",
       "      <th>max</th>\n",
       "      <td>1.000000</td>\n",
       "      <td>1.000000</td>\n",
       "      <td>1.000000</td>\n",
       "      <td>1.000000</td>\n",
       "      <td>1.000000</td>\n",
       "      <td>1.000000</td>\n",
       "      <td>1.000000</td>\n",
       "      <td>1.000000</td>\n",
       "      <td>1.000000</td>\n",
       "      <td>1.000000</td>\n",
       "      <td>...</td>\n",
       "      <td>1.000000</td>\n",
       "      <td>1.000000</td>\n",
       "      <td>1.000000</td>\n",
       "      <td>1.000000</td>\n",
       "      <td>1.000000</td>\n",
       "      <td>1.000000</td>\n",
       "      <td>1.000000</td>\n",
       "      <td>1.000000</td>\n",
       "      <td>1.000000</td>\n",
       "      <td>1.000000</td>\n",
       "    </tr>\n",
       "  </tbody>\n",
       "</table>\n",
       "<p>8 rows × 261 columns</p>\n",
       "</div>"
      ],
      "text/plain": [
       "       UserState_0  UserState_1  UserState_2  UserState_3  UserState_4  \\\n",
       "count  2371.000000  2371.000000  2371.000000  2371.000000  2371.000000   \n",
       "mean      0.002531     0.005061     0.005061     0.000844     0.012231   \n",
       "std       0.050252     0.070977     0.070977     0.029037     0.109939   \n",
       "min       0.000000     0.000000     0.000000     0.000000     0.000000   \n",
       "25%       0.000000     0.000000     0.000000     0.000000     0.000000   \n",
       "50%       0.000000     0.000000     0.000000     0.000000     0.000000   \n",
       "75%       0.000000     0.000000     0.000000     0.000000     0.000000   \n",
       "max       1.000000     1.000000     1.000000     1.000000     1.000000   \n",
       "\n",
       "       UserState_5  UserState_6  UserState_7  UserState_8  UserState_9  \\\n",
       "count  2371.000000  2371.000000  2371.000000  2371.000000  2371.000000   \n",
       "mean      0.000844     0.024884     0.000844     0.000422     0.134542   \n",
       "std       0.029037     0.155804     0.029037     0.020537     0.341306   \n",
       "min       0.000000     0.000000     0.000000     0.000000     0.000000   \n",
       "25%       0.000000     0.000000     0.000000     0.000000     0.000000   \n",
       "50%       0.000000     0.000000     0.000000     0.000000     0.000000   \n",
       "75%       0.000000     0.000000     0.000000     0.000000     0.000000   \n",
       "max       1.000000     1.000000     1.000000     1.000000     1.000000   \n",
       "\n",
       "          ...       ItemState_30  ItemTimeZone_0  ItemTimeZone_1  \\\n",
       "count     ...        2371.000000     2371.000000     2371.000000   \n",
       "mean      ...           0.018136        0.204555        0.399831   \n",
       "std       ...           0.133471        0.403461        0.489967   \n",
       "min       ...           0.000000        0.000000        0.000000   \n",
       "25%       ...           0.000000        0.000000        0.000000   \n",
       "50%       ...           0.000000        0.000000        0.000000   \n",
       "75%       ...           0.000000        0.000000        1.000000   \n",
       "max       ...           1.000000        1.000000        1.000000   \n",
       "\n",
       "       ItemTimeZone_2  ItemTimeZone_3   TripType_0   TripType_1   TripType_2  \\\n",
       "count     2371.000000     2371.000000  2371.000000  2371.000000  2371.000000   \n",
       "mean         0.101645        0.293969     0.158161     0.308730     0.216786   \n",
       "std          0.302244        0.455674     0.364969     0.462067     0.412143   \n",
       "min          0.000000        0.000000     0.000000     0.000000     0.000000   \n",
       "25%          0.000000        0.000000     0.000000     0.000000     0.000000   \n",
       "50%          0.000000        0.000000     0.000000     0.000000     0.000000   \n",
       "75%          0.000000        1.000000     0.000000     1.000000     0.000000   \n",
       "max          1.000000        1.000000     1.000000     1.000000     1.000000   \n",
       "\n",
       "        TripType_3   TripType_4  \n",
       "count  2371.000000  2371.000000  \n",
       "mean      0.064108     0.252214  \n",
       "std       0.244997     0.434375  \n",
       "min       0.000000     0.000000  \n",
       "25%       0.000000     0.000000  \n",
       "50%       0.000000     0.000000  \n",
       "75%       0.000000     1.000000  \n",
       "max       1.000000     1.000000  \n",
       "\n",
       "[8 rows x 261 columns]"
      ]
     },
     "execution_count": 210,
     "metadata": {},
     "output_type": "execute_result"
    }
   ],
   "source": [
    "df_new[df_new.columns[2:-1]].describe()"
   ]
  },
  {
   "cell_type": "code",
   "execution_count": null,
   "metadata": {
    "collapsed": true
   },
   "outputs": [],
   "source": [
    "from sklearn.metrics import mean_squared_error"
   ]
  },
  {
   "cell_type": "code",
   "execution_count": null,
   "metadata": {
    "collapsed": false
   },
   "outputs": [],
   "source": [
    "mean_squared_error(df)"
   ]
  },
  {
   "cell_type": "markdown",
   "metadata": {},
   "source": [
    "## Plot Graphs Here"
   ]
  },
  {
   "cell_type": "code",
   "execution_count": 31,
   "metadata": {
    "collapsed": false
   },
   "outputs": [],
   "source": [
    "import seaborn as sns\n",
    "import matplotlib.pyplot as plt\n",
    "import matplotlib.cm as cm\n",
    "sns.set_style(\"white\")"
   ]
  },
  {
   "cell_type": "code",
   "execution_count": 32,
   "metadata": {
    "collapsed": true
   },
   "outputs": [],
   "source": [
    "%matplotlib inline"
   ]
  },
  {
   "cell_type": "code",
   "execution_count": 33,
   "metadata": {
    "collapsed": false
   },
   "outputs": [],
   "source": [
    "pso_data = pd.read_csv('./pso.csv')\n",
    "#columns = pso_data.columns[:4]\n",
    "#pso.columns = ['swarm_size','max_iter','finish_time','error']"
   ]
  },
  {
   "cell_type": "code",
   "execution_count": 34,
   "metadata": {
    "collapsed": true
   },
   "outputs": [],
   "source": [
    "columns = pso_data.columns[:4]"
   ]
  },
  {
   "cell_type": "code",
   "execution_count": 35,
   "metadata": {
    "collapsed": false
   },
   "outputs": [],
   "source": [
    "pso_data = pso_data[columns]"
   ]
  },
  {
   "cell_type": "code",
   "execution_count": 36,
   "metadata": {
    "collapsed": false
   },
   "outputs": [],
   "source": [
    "pso_data\n",
    "pso_data.columns = ['swarm_size','max_iter','finish_time','error']"
   ]
  },
  {
   "cell_type": "code",
   "execution_count": 37,
   "metadata": {
    "collapsed": false
   },
   "outputs": [
    {
     "data": {
      "text/html": [
       "<div>\n",
       "<table border=\"1\" class=\"dataframe\">\n",
       "  <thead>\n",
       "    <tr style=\"text-align: right;\">\n",
       "      <th></th>\n",
       "      <th>swarm_size</th>\n",
       "      <th>max_iter</th>\n",
       "      <th>finish_time</th>\n",
       "      <th>error</th>\n",
       "    </tr>\n",
       "  </thead>\n",
       "  <tbody>\n",
       "    <tr>\n",
       "      <th>0</th>\n",
       "      <td>50.0</td>\n",
       "      <td>100.0</td>\n",
       "      <td>177.158601</td>\n",
       "      <td>1.479834</td>\n",
       "    </tr>\n",
       "    <tr>\n",
       "      <th>1</th>\n",
       "      <td>50.0</td>\n",
       "      <td>150.0</td>\n",
       "      <td>241.674865</td>\n",
       "      <td>1.890904</td>\n",
       "    </tr>\n",
       "    <tr>\n",
       "      <th>2</th>\n",
       "      <td>50.0</td>\n",
       "      <td>200.0</td>\n",
       "      <td>214.649045</td>\n",
       "      <td>2.106500</td>\n",
       "    </tr>\n",
       "    <tr>\n",
       "      <th>3</th>\n",
       "      <td>50.0</td>\n",
       "      <td>250.0</td>\n",
       "      <td>155.957212</td>\n",
       "      <td>0.698449</td>\n",
       "    </tr>\n",
       "    <tr>\n",
       "      <th>4</th>\n",
       "      <td>50.0</td>\n",
       "      <td>300.0</td>\n",
       "      <td>213.245414</td>\n",
       "      <td>2.367376</td>\n",
       "    </tr>\n",
       "  </tbody>\n",
       "</table>\n",
       "</div>"
      ],
      "text/plain": [
       "   swarm_size  max_iter  finish_time     error\n",
       "0        50.0     100.0   177.158601  1.479834\n",
       "1        50.0     150.0   241.674865  1.890904\n",
       "2        50.0     200.0   214.649045  2.106500\n",
       "3        50.0     250.0   155.957212  0.698449\n",
       "4        50.0     300.0   213.245414  2.367376"
      ]
     },
     "execution_count": 37,
     "metadata": {},
     "output_type": "execute_result"
    }
   ],
   "source": [
    "pso_data"
   ]
  },
  {
   "cell_type": "code",
   "execution_count": 38,
   "metadata": {
    "collapsed": true
   },
   "outputs": [],
   "source": [
    "firefly_data = pd.read_csv('./firefly.csv')\n",
    "columns = firefly_data.columns[:4]\n",
    "firefly_data = firefly_data[columns]\n",
    "firefly_data.columns = ['swarm_size','max_iter','finish_time','error']"
   ]
  },
  {
   "cell_type": "code",
   "execution_count": 39,
   "metadata": {
    "collapsed": false
   },
   "outputs": [
    {
     "data": {
      "text/html": [
       "<div>\n",
       "<table border=\"1\" class=\"dataframe\">\n",
       "  <thead>\n",
       "    <tr style=\"text-align: right;\">\n",
       "      <th></th>\n",
       "      <th>swarm_size</th>\n",
       "      <th>max_iter</th>\n",
       "      <th>finish_time</th>\n",
       "      <th>error</th>\n",
       "    </tr>\n",
       "  </thead>\n",
       "  <tbody>\n",
       "    <tr>\n",
       "      <th>0</th>\n",
       "      <td>60.0</td>\n",
       "      <td>150.0</td>\n",
       "      <td>442.618117</td>\n",
       "      <td>8.810258</td>\n",
       "    </tr>\n",
       "    <tr>\n",
       "      <th>1</th>\n",
       "      <td>60.0</td>\n",
       "      <td>200.0</td>\n",
       "      <td>467.142484</td>\n",
       "      <td>8.239817</td>\n",
       "    </tr>\n",
       "    <tr>\n",
       "      <th>2</th>\n",
       "      <td>60.0</td>\n",
       "      <td>250.0</td>\n",
       "      <td>652.306356</td>\n",
       "      <td>8.503800</td>\n",
       "    </tr>\n",
       "    <tr>\n",
       "      <th>3</th>\n",
       "      <td>60.0</td>\n",
       "      <td>300.0</td>\n",
       "      <td>681.937402</td>\n",
       "      <td>17.805143</td>\n",
       "    </tr>\n",
       "    <tr>\n",
       "      <th>4</th>\n",
       "      <td>60.0</td>\n",
       "      <td>350.0</td>\n",
       "      <td>820.989617</td>\n",
       "      <td>9.039854</td>\n",
       "    </tr>\n",
       "  </tbody>\n",
       "</table>\n",
       "</div>"
      ],
      "text/plain": [
       "   swarm_size  max_iter  finish_time      error\n",
       "0        60.0     150.0   442.618117   8.810258\n",
       "1        60.0     200.0   467.142484   8.239817\n",
       "2        60.0     250.0   652.306356   8.503800\n",
       "3        60.0     300.0   681.937402  17.805143\n",
       "4        60.0     350.0   820.989617   9.039854"
      ]
     },
     "execution_count": 39,
     "metadata": {},
     "output_type": "execute_result"
    }
   ],
   "source": [
    "firefly_data.head()"
   ]
  },
  {
   "cell_type": "code",
   "execution_count": 46,
   "metadata": {
    "collapsed": false
   },
   "outputs": [
    {
     "data": {
      "image/png": "[encoded data removed]",
      "text/plain": [
       "<matplotlib.figure.Figure at 0x19401d88390>"
      ]
     },
     "metadata": {},
     "output_type": "display_data"
    }
   ],
   "source": [
    "plt.figure(figsize=(12,8))\n",
    "plt.plot(firefly_data.max_iter, firefly_data.finish_time, '-', label=\"FA\",c=\"0.1\")\n",
    "plt.plot(pso_data.max_iter, pso_data.finish_time, '--', label=\"PSO\",c=\"0.1\")\n",
    "plt.title(\"Number of Iterations vs Completion Time (in sec)\")\n",
    "plt.legend()\n",
    "plt.xlim([100,550])\n",
    "plt.xlabel(\"Number of Iterations\")\n",
    "plt.ylabel(\"Completion Time\")\n",
    "plt.savefig(filename=\"iteration_time.jpg\",bbox_inches='tight')"
   ]
  },
  {
   "cell_type": "code",
   "execution_count": 41,
   "metadata": {
    "collapsed": false
   },
   "outputs": [
    {
     "data": {
      "text/plain": [
       "0.69844934618881604"
      ]
     },
     "execution_count": 41,
     "metadata": {},
     "output_type": "execute_result"
    }
   ],
   "source": [
    "# import math\n",
    "# rmse_pso = math.sqrt(calculate_mse(weights))\n",
    "pso_data['error'][3]"
   ]
  },
  {
   "cell_type": "code",
   "execution_count": 42,
   "metadata": {
    "collapsed": false
   },
   "outputs": [],
   "source": [
    "firefly_weights = [1.68025248e-01,   6.33696638e-01,\n",
    "          1.66857644e-01,   9.56715600e-01,   1.40681305e-02,\n",
    "          5.67212948e-01,   1.00000000e+00,   6.86592048e-02,\n",
    "          5.79232355e-01,   1.61788904e-01,   4.37825980e-01,\n",
    "          3.69704405e-01,   0.00000000e+00,   4.01681141e-03,\n",
    "          8.79106525e-01,   1.00000000e+00,   1.05052174e-01,\n",
    "          1.07819948e-01,   2.72514379e-01,   3.28510792e-01,\n",
    "          6.13944565e-01,   9.51533687e-02,   4.47570215e-01,\n",
    "          1.30900553e-01,   2.16290656e-01,   6.44635553e-01,\n",
    "          5.39704064e-01,   3.07633150e-01,   4.08444731e-01,\n",
    "          1.21906170e-01,   8.90305749e-01,   7.84412855e-01,\n",
    "          1.27553341e-02,   3.72605965e-01,   1.00000000e+00,\n",
    "          9.32838295e-01,   4.78820245e-02,   5.38214725e-01,\n",
    "          1.17678254e-01,   8.90642164e-01,   9.63329961e-01,\n",
    "          5.95070050e-01,   1.71280877e-01,   8.36161037e-01,\n",
    "          8.92182043e-01,   8.49683813e-01,   7.79639685e-01,\n",
    "          4.30269157e-01,   1.47509001e-01,   6.26900403e-01,\n",
    "          0.00000000e+00,   1.85521377e-01,   0.00000000e+00,\n",
    "          8.12236457e-01,   3.09164602e-01,   9.12206287e-01,\n",
    "          1.30752794e-01,   6.50837607e-01,   7.96365160e-01,\n",
    "          2.73648179e-01,   7.36400471e-01,   0.00000000e+00,\n",
    "          8.11443812e-01,   2.90960605e-01,   5.66172405e-01,\n",
    "          2.83946883e-01,   1.93584952e-02,   0.00000000e+00,\n",
    "          7.15086381e-01,   1.55208457e-01,   3.60413957e-01,\n",
    "          1.00000000e+00,   1.36068943e-01,   5.51236193e-01]\n",
    "pso_weights = [6.991025340806624744e-01,6.864600601424905024e-01,4.577271812056464828e-01,6.149641724232440820e-01,9.233228441591770919e-01,1.472056226177070534e-02,8.430557787731045583e-01,6.751057965208809852e-01,9.911109797898056684e-01,3.862303349207192871e-01,0.000000000000000000e+00,1.036704318254458052e-04,2.173106328552092403e-01,5.726397444991686569e-01,0.000000000000000000e+00,3.643106146455452610e-01,6.817808724091881656e-01,8.239947398097096087e-01,8.677191086806317344e-01,1.544605817412877669e-01,5.341773493326725797e-01,1.983626238302186250e-04,1.000000000000000000e+00,2.262375227399178804e-02,0.000000000000000000e+00,3.032814779006614558e-01,5.493174581777889864e-01,3.710592650635394785e-01,2.078290345498789993e-02,6.119626618786409011e-01,0.000000000000000000e+00,0.000000000000000000e+00,6.299069535185680691e-01,6.357850800082401888e-01,6.654054099204487205e-01,6.216289028085781460e-02,8.997043478538357952e-01,4.735720257070915595e-01,2.573173267430859945e-01,3.043953400517680485e-01,7.185977794447576672e-01,1.637464352945744439e-02,3.458274241513435432e-01,1.109355051208655261e-02,6.170920155398555984e-01,5.763464806065040635e-01,5.835127099390990946e-01,2.480718849071708865e-01,1.815783140317607791e-01,9.475015416394066969e-01,7.692050348184397695e-06,6.593428423157277063e-01,3.866610975531077909e-01,8.269520957416945928e-01,4.555524577485187132e-01,4.555217118352588024e-01,6.654185311852937046e-01,6.778156336804584958e-01,4.849310694210372842e-06,6.341067771092458692e-03,6.907898250408722740e-02,1.968814704515519376e-01,1.888917821851804901e-01,1.000000000000000000e+00,4.880525609153650857e-01,7.984339061873557686e-02,0.000000000000000000e+00,1.586031845535752771e-01,0.000000000000000000e+00,9.192661670781081540e-01,7.055951888894982336e-03,4.910685979937167156e-01,2.679131244364733599e-01,1.161900433009498551e-01]"
   ]
  },
  {
   "cell_type": "code",
   "execution_count": 45,
   "metadata": {
    "collapsed": false
   },
   "outputs": [
    {
     "ename": "ValueError",
     "evalue": "shapes (74,) and (261,) not aligned: 74 (dim 0) != 261 (dim 0)",
     "output_type": "error",
     "traceback": [
      "\u001b[1;31m---------------------------------------------------------------------------\u001b[0m",
      "\u001b[1;31mValueError\u001b[0m                                Traceback (most recent call last)",
      "\u001b[1;32m<ipython-input-45-5fb2d747b115>\u001b[0m in \u001b[0;36m<module>\u001b[1;34m()\u001b[0m\n\u001b[0;32m      1\u001b[0m \u001b[1;32mimport\u001b[0m \u001b[0mmath\u001b[0m\u001b[1;33m\u001b[0m\u001b[0m\n\u001b[1;32m----> 2\u001b[1;33m \u001b[0mrmse_pso\u001b[0m \u001b[1;33m=\u001b[0m \u001b[0mmath\u001b[0m\u001b[1;33m.\u001b[0m\u001b[0msqrt\u001b[0m\u001b[1;33m(\u001b[0m\u001b[0mcalculate_mse\u001b[0m\u001b[1;33m(\u001b[0m\u001b[0mpso_weights\u001b[0m\u001b[1;33m)\u001b[0m\u001b[1;33m)\u001b[0m\u001b[1;33m\u001b[0m\u001b[0m\n\u001b[0m\u001b[0;32m      3\u001b[0m \u001b[0mrmse_firefly\u001b[0m \u001b[1;33m=\u001b[0m \u001b[0mmath\u001b[0m\u001b[1;33m.\u001b[0m\u001b[0msqrt\u001b[0m\u001b[1;33m(\u001b[0m\u001b[0mcalculate_mse\u001b[0m\u001b[1;33m(\u001b[0m\u001b[0mfirefly_weights\u001b[0m\u001b[1;33m)\u001b[0m\u001b[1;33m)\u001b[0m\u001b[1;33m\u001b[0m\u001b[0m\n",
      "\u001b[1;32m<ipython-input-44-e86ffab830d6>\u001b[0m in \u001b[0;36mcalculate_mse\u001b[1;34m(weights)\u001b[0m\n\u001b[0;32m      3\u001b[0m \u001b[1;32mdef\u001b[0m \u001b[0mcalculate_mse\u001b[0m\u001b[1;33m(\u001b[0m\u001b[0mweights\u001b[0m\u001b[1;33m)\u001b[0m\u001b[1;33m:\u001b[0m\u001b[1;33m\u001b[0m\u001b[0m\n\u001b[0;32m      4\u001b[0m     \u001b[0moriginal_rating\u001b[0m \u001b[1;33m=\u001b[0m \u001b[1;33m[\u001b[0m\u001b[0mdf_new\u001b[0m\u001b[1;33m.\u001b[0m\u001b[0miloc\u001b[0m\u001b[1;33m[\u001b[0m\u001b[0mi\u001b[0m\u001b[1;33m]\u001b[0m\u001b[1;33m[\u001b[0m\u001b[1;33m-\u001b[0m\u001b[1;36m1\u001b[0m\u001b[1;33m]\u001b[0m \u001b[1;32mfor\u001b[0m \u001b[0mi\u001b[0m \u001b[1;32min\u001b[0m \u001b[0mrange\u001b[0m\u001b[1;33m(\u001b[0m\u001b[1;36m1000\u001b[0m\u001b[1;33m)\u001b[0m\u001b[1;33m]\u001b[0m\u001b[1;33m\u001b[0m\u001b[0m\n\u001b[1;32m----> 5\u001b[1;33m     \u001b[0mpredicted_rating\u001b[0m \u001b[1;33m=\u001b[0m \u001b[1;33m[\u001b[0m\u001b[0mnp\u001b[0m\u001b[1;33m.\u001b[0m\u001b[0mdot\u001b[0m\u001b[1;33m(\u001b[0m\u001b[0mweights\u001b[0m\u001b[1;33m,\u001b[0m \u001b[0mdf_new\u001b[0m\u001b[1;33m.\u001b[0m\u001b[0miloc\u001b[0m\u001b[1;33m[\u001b[0m\u001b[0mi\u001b[0m\u001b[1;33m]\u001b[0m\u001b[1;33m[\u001b[0m\u001b[1;36m2\u001b[0m\u001b[1;33m:\u001b[0m\u001b[1;33m-\u001b[0m\u001b[1;36m1\u001b[0m\u001b[1;33m]\u001b[0m\u001b[1;33m.\u001b[0m\u001b[0mtolist\u001b[0m\u001b[1;33m(\u001b[0m\u001b[1;33m)\u001b[0m\u001b[1;33m)\u001b[0m \u001b[1;32mfor\u001b[0m \u001b[0mi\u001b[0m \u001b[1;32min\u001b[0m \u001b[0mrange\u001b[0m\u001b[1;33m(\u001b[0m\u001b[1;36m1000\u001b[0m\u001b[1;33m)\u001b[0m\u001b[1;33m]\u001b[0m\u001b[1;33m\u001b[0m\u001b[0m\n\u001b[0m\u001b[0;32m      6\u001b[0m     \u001b[1;31m#print(\"----------------------  RMSE VALUE IS  ---------------------\")\u001b[0m\u001b[1;33m\u001b[0m\u001b[1;33m\u001b[0m\u001b[0m\n\u001b[0;32m      7\u001b[0m     \u001b[1;32mreturn\u001b[0m \u001b[0mmean_squared_error\u001b[0m\u001b[1;33m(\u001b[0m\u001b[0moriginal_rating\u001b[0m\u001b[1;33m,\u001b[0m\u001b[0mpredicted_rating\u001b[0m\u001b[1;33m)\u001b[0m\u001b[1;33m\u001b[0m\u001b[0m\n",
      "\u001b[1;32m<ipython-input-44-e86ffab830d6>\u001b[0m in \u001b[0;36m<listcomp>\u001b[1;34m(.0)\u001b[0m\n\u001b[0;32m      3\u001b[0m \u001b[1;32mdef\u001b[0m \u001b[0mcalculate_mse\u001b[0m\u001b[1;33m(\u001b[0m\u001b[0mweights\u001b[0m\u001b[1;33m)\u001b[0m\u001b[1;33m:\u001b[0m\u001b[1;33m\u001b[0m\u001b[0m\n\u001b[0;32m      4\u001b[0m     \u001b[0moriginal_rating\u001b[0m \u001b[1;33m=\u001b[0m \u001b[1;33m[\u001b[0m\u001b[0mdf_new\u001b[0m\u001b[1;33m.\u001b[0m\u001b[0miloc\u001b[0m\u001b[1;33m[\u001b[0m\u001b[0mi\u001b[0m\u001b[1;33m]\u001b[0m\u001b[1;33m[\u001b[0m\u001b[1;33m-\u001b[0m\u001b[1;36m1\u001b[0m\u001b[1;33m]\u001b[0m \u001b[1;32mfor\u001b[0m \u001b[0mi\u001b[0m \u001b[1;32min\u001b[0m \u001b[0mrange\u001b[0m\u001b[1;33m(\u001b[0m\u001b[1;36m1000\u001b[0m\u001b[1;33m)\u001b[0m\u001b[1;33m]\u001b[0m\u001b[1;33m\u001b[0m\u001b[0m\n\u001b[1;32m----> 5\u001b[1;33m     \u001b[0mpredicted_rating\u001b[0m \u001b[1;33m=\u001b[0m \u001b[1;33m[\u001b[0m\u001b[0mnp\u001b[0m\u001b[1;33m.\u001b[0m\u001b[0mdot\u001b[0m\u001b[1;33m(\u001b[0m\u001b[0mweights\u001b[0m\u001b[1;33m,\u001b[0m \u001b[0mdf_new\u001b[0m\u001b[1;33m.\u001b[0m\u001b[0miloc\u001b[0m\u001b[1;33m[\u001b[0m\u001b[0mi\u001b[0m\u001b[1;33m]\u001b[0m\u001b[1;33m[\u001b[0m\u001b[1;36m2\u001b[0m\u001b[1;33m:\u001b[0m\u001b[1;33m-\u001b[0m\u001b[1;36m1\u001b[0m\u001b[1;33m]\u001b[0m\u001b[1;33m.\u001b[0m\u001b[0mtolist\u001b[0m\u001b[1;33m(\u001b[0m\u001b[1;33m)\u001b[0m\u001b[1;33m)\u001b[0m \u001b[1;32mfor\u001b[0m \u001b[0mi\u001b[0m \u001b[1;32min\u001b[0m \u001b[0mrange\u001b[0m\u001b[1;33m(\u001b[0m\u001b[1;36m1000\u001b[0m\u001b[1;33m)\u001b[0m\u001b[1;33m]\u001b[0m\u001b[1;33m\u001b[0m\u001b[0m\n\u001b[0m\u001b[0;32m      6\u001b[0m     \u001b[1;31m#print(\"----------------------  RMSE VALUE IS  ---------------------\")\u001b[0m\u001b[1;33m\u001b[0m\u001b[1;33m\u001b[0m\u001b[0m\n\u001b[0;32m      7\u001b[0m     \u001b[1;32mreturn\u001b[0m \u001b[0mmean_squared_error\u001b[0m\u001b[1;33m(\u001b[0m\u001b[0moriginal_rating\u001b[0m\u001b[1;33m,\u001b[0m\u001b[0mpredicted_rating\u001b[0m\u001b[1;33m)\u001b[0m\u001b[1;33m\u001b[0m\u001b[0m\n",
      "\u001b[1;31mValueError\u001b[0m: shapes (74,) and (261,) not aligned: 74 (dim 0) != 261 (dim 0)"
     ]
    }
   ],
   "source": [
    "import math\n",
    "rmse_pso = math.sqrt(calculate_mse(pso_weights))\n",
    "rmse_firefly = math.sqrt(calculate_mse(firefly_weights))"
   ]
  },
  {
   "cell_type": "code",
   "execution_count": null,
   "metadata": {
    "collapsed": false
   },
   "outputs": [],
   "source": [
    "# ax = plt.axes()\n",
    "# plt.bar([1,2], [rmse_pso,rmse_firefly], width=0.2, label=['pso','firefly'],align='center')\n",
    "# plt.xlim([0,3])\n",
    "# plt.ylim([0,3])\n",
    "# # plt.tick_params(\n",
    "# #     axis='x',          # changes apply to the x-axis\n",
    "# #     which='both',      # both major and minor ticks are affected\n",
    "# #     bottom='off',      # ticks along the bottom edge are off\n",
    "# #     top='off',         # ticks along the top edge are off\n",
    "# #     labelbottom='off')\n",
    "# ax.set_xticks(x)\n",
    "# ax.set_xticklabels(['PSO', 'Firefly'])\n",
    "# plt.legend()"
   ]
  },
  {
   "cell_type": "code",
   "execution_count": null,
   "metadata": {
    "collapsed": false
   },
   "outputs": [],
   "source": [
    "import pylab\n",
    "x = [1,1.6]\n",
    "y = [rmse_pso,rmse_firefly]\n",
    "f = pylab.figure(figsize=(12,8))\n",
    "ax = f.add_axes([0.1, 0.1, 0.8, 0.8])\n",
    "ax.bar(x, y, align='center',width=0.2, color=\"black\")\n",
    "ax.set_xticks(x)\n",
    "ax.set_xticklabels(['PSO','Firefly'])\n",
    "ax.set_xlim([0.5,2])\n",
    "ax.set_ylim([0,3])\n",
    "ax.set_title(\"RMSE comparison between PSO and FA.\")\n",
    "f.savefig(filename=\"Rmse_comparison.jpg\",bbox_inches='tight')"
   ]
  },
  {
   "cell_type": "code",
   "execution_count": 47,
   "metadata": {
    "collapsed": false
   },
   "outputs": [
    {
     "ename": "NameError",
     "evalue": "name 'rmse_pso' is not defined",
     "output_type": "error",
     "traceback": [
      "\u001b[1;31m---------------------------------------------------------------------------\u001b[0m",
      "\u001b[1;31mNameError\u001b[0m                                 Traceback (most recent call last)",
      "\u001b[1;32m<ipython-input-47-2a8c5c98d1ad>\u001b[0m in \u001b[0;36m<module>\u001b[1;34m()\u001b[0m\n\u001b[1;32m----> 1\u001b[1;33m \u001b[0mrmse_pso\u001b[0m\u001b[1;33m,\u001b[0m \u001b[0mrmse_firefly\u001b[0m\u001b[1;33m\u001b[0m\u001b[0m\n\u001b[0m",
      "\u001b[1;31mNameError\u001b[0m: name 'rmse_pso' is not defined"
     ]
    }
   ],
   "source": [
    "rmse_pso, rmse_firefly"
   ]
  },
  {
   "cell_type": "code",
   "execution_count": null,
   "metadata": {
    "collapsed": true
   },
   "outputs": [],
   "source": []
  }
 ],
 "metadata": {
  "kernelspec": {
   "display_name": "Python 3",
   "language": "python",
   "name": "python3"
  },
  "language_info": {
   "codemirror_mode": {
    "name": "ipython",
    "version": 3
   },
   "file_extension": ".py",
   "mimetype": "text/x-python",
   "name": "python",
   "nbconvert_exporter": "python",
   "pygments_lexer": "ipython3",
   "version": "3.5.2"
  }
 },
 "nbformat": 4,
 "nbformat_minor": 0
}
