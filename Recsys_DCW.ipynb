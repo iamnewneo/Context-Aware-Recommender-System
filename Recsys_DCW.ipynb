{
 "cells": [
  {
   "cell_type": "code",
   "execution_count": 1,
   "metadata": {
    "collapsed": true
   },
   "outputs": [],
   "source": [
    "import numpy as np\n",
    "#from sklearn.metrics import jaccard_similarity_score"
   ]
  },
  {
   "cell_type": "code",
   "execution_count": 2,
   "metadata": {
    "collapsed": true
   },
   "outputs": [],
   "source": [
    "from sklearn.neighbors import KNeighborsClassifier\n",
    "import warnings\n",
    "warnings.filterwarnings(\"ignore\")"
   ]
  },
  {
   "cell_type": "code",
   "execution_count": 3,
   "metadata": {
    "collapsed": true
   },
   "outputs": [],
   "source": [
    "import pandas as pd"
   ]
  },
  {
   "cell_type": "code",
   "execution_count": 4,
   "metadata": {
    "collapsed": true
   },
   "outputs": [],
   "source": [
    "df = pd.read_csv(\"data/comoda_data.csv\")"
   ]
  },
  {
   "cell_type": "code",
   "execution_count": 5,
   "metadata": {
    "collapsed": true
   },
   "outputs": [],
   "source": [
    "df = df.replace(-1.0, np.nan)\n",
    "df = df.dropna(how=\"any\")"
   ]
  },
  {
   "cell_type": "code",
   "execution_count": 6,
   "metadata": {
    "collapsed": true
   },
   "outputs": [],
   "source": [
    "## CONSTANTS ASSUMPTION\n",
    "sigma = 1\n",
    "threshold = 0.1\n",
    "columns = df.columns.tolist()\n",
    "columns.remove(\"rating\")\n",
    "columns.append(\"rating\")\n",
    "df = df[columns]\n",
    "X = df[columns[2:-1]]\n",
    "y = df[columns[-1:]]\n",
    "df = df.reset_index(drop=True)"
   ]
  },
  {
   "cell_type": "markdown",
   "metadata": {},
   "source": [
    "## Clean Data"
   ]
  },
  {
   "cell_type": "code",
   "execution_count": 7,
   "metadata": {
    "collapsed": true
   },
   "outputs": [],
   "source": [
    "columns = df.columns"
   ]
  },
  {
   "cell_type": "code",
   "execution_count": 8,
   "metadata": {
    "collapsed": true
   },
   "outputs": [],
   "source": [
    "columns = columns[2:-1]"
   ]
  },
  {
   "cell_type": "code",
   "execution_count": 9,
   "metadata": {
    "collapsed": true
   },
   "outputs": [],
   "source": [
    "df_new = df.drop(['city','physical','director','movieCountry','movieLanguage','movieYear','genre1', 'genre2',\n",
    "       'genre3', 'actor1', 'actor2', 'actor3','budget'], axis=1,)"
   ]
  },
  {
   "cell_type": "code",
   "execution_count": 10,
   "metadata": {
    "collapsed": true
   },
   "outputs": [],
   "source": [
    "from collections import defaultdict\n",
    "new_size_of_feature = defaultdict(dict)\n",
    "for column in df_new.columns:\n",
    "    new_size_of_feature[column]['length'] = len(df_new[column].unique())\n",
    "    new_size_of_feature[column]['names'] = df_new[column].unique()"
   ]
  },
  {
   "cell_type": "code",
   "execution_count": 11,
   "metadata": {
    "collapsed": true
   },
   "outputs": [],
   "source": [
    "sum_of_features = 0\n",
    "for k,v in new_size_of_feature.items():\n",
    "    sum_of_features += v['length']"
   ]
  },
  {
   "cell_type": "code",
   "execution_count": 12,
   "metadata": {
    "collapsed": false
   },
   "outputs": [
    {
     "data": {
      "text/plain": [
       "752"
      ]
     },
     "execution_count": 12,
     "metadata": {},
     "output_type": "execute_result"
    }
   ],
   "source": [
    "sum_of_features"
   ]
  },
  {
   "cell_type": "code",
   "execution_count": 13,
   "metadata": {
    "collapsed": true
   },
   "outputs": [],
   "source": [
    "## Get Dummy Variables\n",
    "for column in df_new.columns[2:-1]:\n",
    "    df_col = pd.get_dummies(df_new[column], prefix=column)\n",
    "    df_new = pd.concat([df_new, df_col], axis=1)"
   ]
  },
  {
   "cell_type": "code",
   "execution_count": 14,
   "metadata": {
    "collapsed": true
   },
   "outputs": [],
   "source": [
    "df_new = df_new.drop(['age', 'sex', 'country', 'time', 'daytype',\n",
    "       'season', 'location', 'weather', 'social', 'endEmo', 'dominantEmo',\n",
    "       'mood', 'decision', 'interaction'], axis=1)"
   ]
  },
  {
   "cell_type": "code",
   "execution_count": 15,
   "metadata": {
    "collapsed": false
   },
   "outputs": [
    {
     "data": {
      "text/plain": [
       "(1114, 77)"
      ]
     },
     "execution_count": 15,
     "metadata": {},
     "output_type": "execute_result"
    }
   ],
   "source": [
    "df_new.shape"
   ]
  },
  {
   "cell_type": "code",
   "execution_count": 16,
   "metadata": {
    "collapsed": true
   },
   "outputs": [],
   "source": [
    "columns = df_new.columns.tolist()\n",
    "columns.remove(\"rating\")\n",
    "columns.append(\"rating\")\n",
    "df_new = df_new[columns]"
   ]
  },
  {
   "cell_type": "code",
   "execution_count": 17,
   "metadata": {
    "collapsed": true
   },
   "outputs": [],
   "source": [
    "entriesToRemove = ('userID','itemID','city','physical','director','movieCountry','movieLanguage','movieYear','genre1', 'genre2',\n",
    "       'genre3', 'actor1', 'actor2', 'actor3','budget','rating')"
   ]
  },
  {
   "cell_type": "code",
   "execution_count": 18,
   "metadata": {
    "collapsed": true
   },
   "outputs": [],
   "source": [
    "for k in entriesToRemove:\n",
    "    new_size_of_feature.pop(k, None)"
   ]
  },
  {
   "cell_type": "code",
   "execution_count": 19,
   "metadata": {
    "collapsed": false
   },
   "outputs": [],
   "source": [
    "# for k,v in new_size_of_feature.items():\n",
    "#     print(v['length'])"
   ]
  },
  {
   "cell_type": "markdown",
   "metadata": {},
   "source": [
    "### Index limits for setting Constraints"
   ]
  },
  {
   "cell_type": "code",
   "execution_count": 20,
   "metadata": {
    "collapsed": true
   },
   "outputs": [],
   "source": [
    "index_limit=[]\n",
    "for x in df.columns:\n",
    "    index_limit.append(new_size_of_feature[x])"
   ]
  },
  {
   "cell_type": "code",
   "execution_count": 21,
   "metadata": {
    "collapsed": true
   },
   "outputs": [],
   "source": [
    "index_limit = index_limit[2:-12]"
   ]
  },
  {
   "cell_type": "code",
   "execution_count": 22,
   "metadata": {
    "collapsed": false
   },
   "outputs": [
    {
     "data": {
      "text/plain": [
       "[{'length': 21,\n",
       "  'names': array([ 28.,  30.,  33.,  25.,  26.,  27.,  24.,  34.,  63.,  29.,  21.,\n",
       "          22.,  15.,  18.,  17.,  23.,  31.,  20.,  35.,  19.,  36.])},\n",
       " {'length': 2, 'names': array([1, 2], dtype=int64)},\n",
       " {},\n",
       " {'length': 4, 'names': array([3, 2, 5, 4], dtype=int64)},\n",
       " {'length': 4, 'names': array([ 2.,  4.,  3.,  1.])},\n",
       " {'length': 3, 'names': array([ 2.,  1.,  3.])},\n",
       " {'length': 4, 'names': array([ 2.,  3.,  1.,  4.])},\n",
       " {'length': 3, 'names': array([ 1.,  2.,  3.])},\n",
       " {'length': 5, 'names': array([ 1.,  2.,  5.,  3.,  4.])},\n",
       " {'length': 7, 'names': array([ 2.,  3.,  1.,  5.,  7.,  6.,  4.])},\n",
       " {'length': 7, 'names': array([ 2.,  1.,  7.,  4.,  5.,  6.,  3.])},\n",
       " {'length': 7, 'names': array([ 2.,  3.,  7.,  5.,  4.,  6.,  1.])},\n",
       " {'length': 3, 'names': array([ 2.,  1.,  3.])},\n",
       " {},\n",
       " {'length': 2, 'names': array([ 2.,  1.])},\n",
       " {'length': 2, 'names': array([ 2.,  1.])}]"
      ]
     },
     "execution_count": 22,
     "metadata": {},
     "output_type": "execute_result"
    }
   ],
   "source": [
    "index_limit"
   ]
  },
  {
   "cell_type": "code",
   "execution_count": 23,
   "metadata": {
    "collapsed": true
   },
   "outputs": [],
   "source": [
    "final_index_limit= []\n",
    "for i in range(len(index_limit)):\n",
    "    x = index_limit[i]\n",
    "    try:\n",
    "        final_index_limit.append(x['length'])\n",
    "    except:\n",
    "        pass"
   ]
  },
  {
   "cell_type": "code",
   "execution_count": 24,
   "metadata": {
    "collapsed": false
   },
   "outputs": [
    {
     "data": {
      "text/plain": [
       "([21, 2, 4, 4, 3, 4, 3, 5, 7, 7, 7, 3, 2, 2], 74)"
      ]
     },
     "execution_count": 24,
     "metadata": {},
     "output_type": "execute_result"
    }
   ],
   "source": [
    "final_index_limit, sum(final_index_limit)"
   ]
  },
  {
   "cell_type": "markdown",
   "metadata": {},
   "source": [
    "# Pyswarm Implementation"
   ]
  },
  {
   "cell_type": "code",
   "execution_count": 25,
   "metadata": {
    "collapsed": true
   },
   "outputs": [],
   "source": [
    "# from pyswarm import pso\n",
    "# import time\n",
    "# from random import *"
   ]
  },
  {
   "cell_type": "code",
   "execution_count": 26,
   "metadata": {
    "collapsed": false
   },
   "outputs": [],
   "source": [
    "# start_time = time.time()\n",
    "# #user_context = df_new.iloc[0][2:-1].tolist()\n",
    "# user_rating = df_new.rating.tolist()[:30]\n",
    "# def banana(x):\n",
    "#     lhs = 0.0\n",
    "#     square_error = 0.0\n",
    "#     for i in range(30):\n",
    "#         user_context = df_new.iloc[i][2:-1].tolist()\n",
    "#         lhs = np.dot(x,user_context)\n",
    "# #         for weight, context in zip(x, user_context):\n",
    "# #             lhs += weight * context\n",
    "#         square_error += (user_rating[i] - lhs)**2\n",
    "#     #print(square_error)\n",
    "#     return square_error/2\n",
    "\n",
    "# def con(x):\n",
    "#     con_index = []\n",
    "#     final_index_limit = [21, 2, 4, 4, 3, 4, 3, 5, 7, 7, 7, 3, 2, 2]\n",
    "#     start_index=0\n",
    "#     con_index = []\n",
    "#     for index in final_index_limit:\n",
    "#         temp = []\n",
    "#         temp.append(sum(x[start_index:start_index+index]) - 1)\n",
    "#         temp = temp*index\n",
    "#         con_index=con_index + temp\n",
    "#         start_index = index\n",
    "#     return con_index\n",
    "\n",
    "# lb = [0]*74\n",
    "# ub = [1]*74\n",
    "\n",
    "# xopt, fopt = pso(banana,lb, ub,f_ieqcons=con,swarmsize=50,maxiter=200)\n",
    "# print(\"--- %s seconds ---\" % (time.time() - start_time))"
   ]
  },
  {
   "cell_type": "code",
   "execution_count": 27,
   "metadata": {
    "collapsed": false
   },
   "outputs": [],
   "source": [
    "# print(\"----------------------Difference Between Ratings---------------------\")\n",
    "# for i in range(10):\n",
    "#     rating = 0\n",
    "#     count = 0\n",
    "#     original_rating = df_new.iloc[i][-1]\n",
    "#     predicted_rating = np.dot(xopt, df_new.iloc[i][2:-1].tolist())\n",
    "#     print(predicted_rating, original_rating)\n",
    "#     #print(str(float(original_rating - original_rating)))"
   ]
  },
  {
   "cell_type": "code",
   "execution_count": 28,
   "metadata": {
    "collapsed": true
   },
   "outputs": [],
   "source": [
    "# from sklearn.metrics import mean_squared_error"
   ]
  },
  {
   "cell_type": "code",
   "execution_count": 29,
   "metadata": {
    "collapsed": false
   },
   "outputs": [],
   "source": [
    "# original_rating = [df_new.iloc[i][-1] for i in range(1000)]\n",
    "# predicted_rating = [np.dot(xopt, df_new.iloc[i][2:-1].tolist()) for i in range(1000)]\n",
    "# print(\"----------------------  RMSE VALUE IS  ---------------------\")\n",
    "# mean_squared_error(original_rating,predicted_rating)"
   ]
  },
  {
   "cell_type": "code",
   "execution_count": 30,
   "metadata": {
    "collapsed": true
   },
   "outputs": [],
   "source": [
    "## Save Pso result to csv"
   ]
  },
  {
   "cell_type": "code",
   "execution_count": 31,
   "metadata": {
    "collapsed": false
   },
   "outputs": [],
   "source": [
    "# ## Append swarmsize, max_iter, the beginning of the result list\n",
    "# pso_param = [740, 100]\n",
    "# result = pso_param + xopt.tolist()"
   ]
  },
  {
   "cell_type": "code",
   "execution_count": 32,
   "metadata": {
    "collapsed": false
   },
   "outputs": [],
   "source": [
    "#np.savetxt(\"pso.csv\", result, delimiter=\",\")"
   ]
  },
  {
   "cell_type": "markdown",
   "metadata": {},
   "source": [
    "# Firefly Optimization Implementation"
   ]
  },
  {
   "cell_type": "code",
   "execution_count": 33,
   "metadata": {
    "collapsed": true
   },
   "outputs": [],
   "source": [
    "user_rating = df_new.rating.tolist()[:20]"
   ]
  },
  {
   "cell_type": "code",
   "execution_count": 34,
   "metadata": {
    "collapsed": true
   },
   "outputs": [],
   "source": [
    "from metaheuristic_algorithms.function_wrappers.abstract_wrapper import AbstractWrapper\n",
    "class MinimizeWeightsSumSquareError(AbstractWrapper):\n",
    "\n",
    "    def maximum_decision_variable_values(self):\n",
    "        return [1]*74\n",
    "\n",
    "    def minimum_decision_variable_values(self):\n",
    "        return [0]*74\n",
    "\n",
    "    def objective_function_value(self, decision_variable_values):\n",
    "        user_rating = df_new.rating.tolist()[:20]\n",
    "        lhs = 0.0\n",
    "        square_error = 0.0\n",
    "        for i in range(20):\n",
    "            user_context = df_new.iloc[i][2:-1].tolist()\n",
    "            lhs = np.dot(decision_variable_values,user_context)\n",
    "            square_error += (user_rating[i] - lhs)**2\n",
    "        return square_error/20\n",
    "\n",
    "    def initial_decision_variable_value_estimates(self):\n",
    "        return [0.0]*74"
   ]
  },
  {
   "cell_type": "code",
   "execution_count": 35,
   "metadata": {
    "collapsed": false
   },
   "outputs": [],
   "source": [
    "import time"
   ]
  },
  {
   "cell_type": "code",
   "execution_count": 36,
   "metadata": {
    "collapsed": false
   },
   "outputs": [
    {
     "name": "stdout",
     "output_type": "stream",
     "text": [
      "--- 0.012008905410766602 seconds ---\n"
     ]
    }
   ],
   "source": [
    "from metaheuristic_algorithms.firefly_algorithm import FireflyAlgorithm\n",
    "start_time = time.time()\n",
    "#from metaheuristic_algorithms.function_wrappers.rosenbrook_function_wrapper import RosenbrookFunctionWrapper\n",
    "#from metaheuristic_algorithms.function_wrappers.nonsmooth_multipeak_function_wrapper import NonsmoothMultipeakFunctionWrapper\n",
    "minimize_weights_function_wrapper = MinimizeWeightsSumSquareError()\n",
    "\n",
    "number_of_variables = 74\n",
    "objective = \"minimization\"\n",
    "\n",
    "firefly_algo = FireflyAlgorithm(minimize_weights_function_wrapper, number_of_variables, objective)\n",
    "\n",
    "\n",
    "number_of_fireflies = 50\n",
    "maximun_generation = 100\n",
    "randomization_parameter_alpha = 0.1\n",
    "absorption_coefficient_gamma = 1.0\n",
    "\n",
    "# result = firefly_algo.search(number_of_fireflies = number_of_fireflies, \n",
    "#                                maximun_generation = maximun_generation, \n",
    "#                                randomization_parameter_alpha = randomization_parameter_alpha, \n",
    "#                                absorption_coefficient_gamma = absorption_coefficient_gamma)\n",
    "#rint(result[\"best_decision_variable_values\"])\n",
    "print(\"--- %s seconds ---\" % (time.time() - start_time))\n",
    "#rint(result[\"best_objective_function_value\"])"
   ]
  },
  {
   "cell_type": "code",
   "execution_count": 37,
   "metadata": {
    "collapsed": false
   },
   "outputs": [],
   "source": [
    "# print(\"----------------------Difference Between Ratings---------------------\")\n",
    "# for i in range(20):\n",
    "#     rating = 0\n",
    "#     count = 0\n",
    "#     original_rating = df_new.iloc[i][-1]\n",
    "#     predicted_rating = np.dot(result[\"best_decision_variable_values\"], df_new.iloc[i][2:-1].tolist())\n",
    "#     #print(predicted_rating, original_rating)\n",
    "#     print(predicted_rating)\n",
    "#     #print(str(float(original_rating - original_rating)))"
   ]
  },
  {
   "cell_type": "code",
   "execution_count": 38,
   "metadata": {
    "collapsed": false
   },
   "outputs": [],
   "source": [
    "# from sklearn.metrics import mean_squared_error\n",
    "\n",
    "# original_rating = [df_new.iloc[i][-1] for i in range(1000)]\n",
    "# predicted_rating = [np.dot(result[\"best_decision_variable_values\"], df_new.iloc[i][2:-1].tolist()) for i in range(1000)]\n",
    "# print(\"----------------------  RMSE VALUE IS  ---------------------\")\n",
    "# mean_squared_error(original_rating,predicted_rating)"
   ]
  },
  {
   "cell_type": "code",
   "execution_count": 39,
   "metadata": {
    "collapsed": true
   },
   "outputs": [],
   "source": [
    "from sklearn.metrics import mean_squared_error\n",
    "def calculate_mse(weights):\n",
    "    original_rating = [df_new.iloc[i][-1] for i in range(1000)]\n",
    "    predicted_rating = [np.dot(weights, df_new.iloc[i][2:-1].tolist()) for i in range(1000)]\n",
    "    #print(\"----------------------  RMSE VALUE IS  ---------------------\")\n",
    "    return mean_squared_error(original_rating,predicted_rating)"
   ]
  },
  {
   "cell_type": "code",
   "execution_count": 44,
   "metadata": {
    "collapsed": true
   },
   "outputs": [],
   "source": [
    "def run_firefly_multiple_times():\n",
    "    number_of_fireflies = 60\n",
    "    randomization_parameter_alpha = 0.2\n",
    "    absorption_coefficient_gamma = 1.0\n",
    "    swarm_size = 100\n",
    "    indi_results = []\n",
    "    for max_iter in range(100,400,50):\n",
    "        print(\"Current number of Iteration\", str(max_iter))\n",
    "        start_time = time.time()\n",
    "        result = firefly_algo.search(number_of_fireflies = number_of_fireflies, \n",
    "                               maximun_generation = max_iter, \n",
    "                               randomization_parameter_alpha = randomization_parameter_alpha, \n",
    "                               absorption_coefficient_gamma = absorption_coefficient_gamma)\n",
    "        rmse = calculate_mse(result[\"best_decision_variable_values\"])\n",
    "        print(rmse)\n",
    "        finish_time = time.time() - start_time\n",
    "        firefly_param = [number_of_fireflies, max_iter, finish_time, rmse]\n",
    "        indi_results.append(firefly_param + result[\"best_decision_variable_values\"])\n",
    "    indi_results = np.array(indi_results)\n",
    "    np.savetxt(\"firefly.csv\", indi_results, delimiter=\",\")"
   ]
  },
  {
   "cell_type": "code",
   "execution_count": 45,
   "metadata": {
    "collapsed": false
   },
   "outputs": [
    {
     "name": "stdout",
     "output_type": "stream",
     "text": [
      "Current number of Iteration 100\n",
      "7.48804373649\n",
      "Current number of Iteration 150\n",
      "8.81025797094\n",
      "Current number of Iteration 200\n",
      "8.23981713153\n",
      "Current number of Iteration 250\n",
      "8.50379988033\n",
      "Current number of Iteration 300\n",
      "17.8051430717\n",
      "Current number of Iteration 350\n",
      "9.03985368658\n"
     ]
    }
   ],
   "source": [
    "run_firefly_multiple_times()"
   ]
  },
  {
   "cell_type": "markdown",
   "metadata": {},
   "source": [
    "## Save firefly results to csv file here"
   ]
  },
  {
   "cell_type": "code",
   "execution_count": 42,
   "metadata": {
    "collapsed": true
   },
   "outputs": [],
   "source": [
    "# ## append fireflynum, max_iter to the beginning of weights array\n",
    "# firefly_param = [740, 100]\n",
    "# result_fire = firefly_param + result[\"best_decision_variable_values\"].tolist()"
   ]
  },
  {
   "cell_type": "code",
   "execution_count": 43,
   "metadata": {
    "collapsed": true
   },
   "outputs": [],
   "source": [
    "# np.savetxt(\"firefly.csv\", np.array(result_fire), delimiter=\",\")"
   ]
  },
  {
   "cell_type": "markdown",
   "metadata": {},
   "source": [
    "## Firefly Weight"
   ]
  },
  {
   "cell_type": "code",
   "execution_count": 47,
   "metadata": {
    "collapsed": true
   },
   "outputs": [],
   "source": [
    "fire_weights = [  7.00000000e+01,   2.00000000e+02,   3.79900957e+02,\n",
    "          4.76773859e+00,   1.68025248e-01,   6.33696638e-01,\n",
    "          1.66857644e-01,   9.56715600e-01,   1.40681305e-02,\n",
    "          5.67212948e-01,   1.00000000e+00,   6.86592048e-02,\n",
    "          5.79232355e-01,   1.61788904e-01,   4.37825980e-01,\n",
    "          3.69704405e-01,   0.00000000e+00,   4.01681141e-03,\n",
    "          8.79106525e-01,   1.00000000e+00,   1.05052174e-01,\n",
    "          1.07819948e-01,   2.72514379e-01,   3.28510792e-01,\n",
    "          6.13944565e-01,   9.51533687e-02,   4.47570215e-01,\n",
    "          1.30900553e-01,   2.16290656e-01,   6.44635553e-01,\n",
    "          5.39704064e-01,   3.07633150e-01,   4.08444731e-01,\n",
    "          1.21906170e-01,   8.90305749e-01,   7.84412855e-01,\n",
    "          1.27553341e-02,   3.72605965e-01,   1.00000000e+00,\n",
    "          9.32838295e-01,   4.78820245e-02,   5.38214725e-01,\n",
    "          1.17678254e-01,   8.90642164e-01,   9.63329961e-01,\n",
    "          5.95070050e-01,   1.71280877e-01,   8.36161037e-01,\n",
    "          8.92182043e-01,   8.49683813e-01,   7.79639685e-01,\n",
    "          4.30269157e-01,   1.47509001e-01,   6.26900403e-01,\n",
    "          0.00000000e+00,   1.85521377e-01,   0.00000000e+00,\n",
    "          8.12236457e-01,   3.09164602e-01,   9.12206287e-01,\n",
    "          1.30752794e-01,   6.50837607e-01,   7.96365160e-01,\n",
    "          2.73648179e-01,   7.36400471e-01,   0.00000000e+00,\n",
    "          8.11443812e-01,   2.90960605e-01,   5.66172405e-01,\n",
    "          2.83946883e-01,   1.93584952e-02,   0.00000000e+00,\n",
    "          7.15086381e-01,   1.55208457e-01,   3.60413957e-01,\n",
    "          1.00000000e+00,   1.36068943e-01,   5.51236193e-01]"
   ]
  },
  {
   "cell_type": "code",
   "execution_count": 51,
   "metadata": {
    "collapsed": false
   },
   "outputs": [
    {
     "data": {
      "text/plain": [
       "3.3445877384982814"
      ]
     },
     "execution_count": 51,
     "metadata": {},
     "output_type": "execute_result"
    }
   ],
   "source": [
    "calculate_mse(fire_weights[4:])"
   ]
  },
  {
   "cell_type": "markdown",
   "metadata": {},
   "source": [
    "## Code DCW Here"
   ]
  },
  {
   "cell_type": "code",
   "execution_count": 108,
   "metadata": {
    "collapsed": true
   },
   "outputs": [],
   "source": [
    "weights = xopt\n",
    "X = df_new[columns[2:-1]]\n",
    "y = df_new[columns[-1:]]"
   ]
  },
  {
   "cell_type": "code",
   "execution_count": 109,
   "metadata": {
    "collapsed": true
   },
   "outputs": [],
   "source": [
    "class neighbors:\n",
    "    def __init__(self, X, y):\n",
    "        self.model = KNeighborsClassifier(n_neighbors=10)\n",
    "        self.model.fit(X,y)\n",
    "    def get_neighbors_data(self, user, itemID):\n",
    "        #all_neighbors_indices = self.model.kneighbors(user[2:-1])[1][0]\n",
    "        #print(all_neighbors_indices)\n",
    "        #neighbors_data = df_new.iloc[all_neighbors_indices]\n",
    "        neighbors_data = df_new[(df_new.itemID == itemID)]\n",
    "        #print(neighbors_data)\n",
    "        self.good_neighbors = pd.DataFrame()\n",
    "        #print(neighbors_data.shape)\n",
    "        threshold = 0.0\n",
    "        for index, row in neighbors_data.iterrows():\n",
    "            similarity = jaccard_similarity_score(row[2:-1], user[2:-1])\n",
    "            #print(similarity)\n",
    "            if similarity > threshold:\n",
    "                self.good_neighbors=self.good_neighbors.append(row, ignore_index=True)\n",
    "                #print(row)\n",
    "                #print(good_neighbors)\n",
    "                #print(\"Inside Threshold\")\n",
    "            #print(self.good_neighbors)\n",
    "        #print(self.good_neighbors)\n",
    "        return self.good_neighbors"
   ]
  },
  {
   "cell_type": "code",
   "execution_count": 110,
   "metadata": {
    "collapsed": true
   },
   "outputs": [],
   "source": [
    "class neighborhood_contribution:\n",
    "    def __init__(self):\n",
    "        pass\n",
    "    def neighbor_rating(self, neighbor, itemID, sigma, threshold):\n",
    "        self.ratings_sum=0\n",
    "        self.similarity_sum=0\n",
    "        #print(type(user))\n",
    "        #print(user)\n",
    "        #print(neighbor[2:10])\n",
    "        #print(df_new.itemID)\n",
    "        threshold=0\n",
    "        ratings = df_new[(df_new.userID == neighbor.userID) & (df_new.itemID == itemID)]\n",
    "        #print(ratings.shape)\n",
    "        for index, user_rating in ratings.iterrows():\n",
    "            similarity = jaccard_similarity_score(neighbor[2:-1],user_rating[2:-1])\n",
    "            #print(similarity)\n",
    "            if similarity > threshold:\n",
    "                self.ratings_sum += user_rating.rating * similarity\n",
    "                self.similarity_sum += similarity\n",
    "                #print(self.similarity_sum)\n",
    "            #print(self.ratings_sum)\n",
    "            #print(neighbor[-10:],user_rating[-10:])\n",
    "        #print(\"Rating sum\")\n",
    "        #print(self.ratings_sum)\n",
    "        #print(\"Similarity Sum\")\n",
    "        #print(self.similarity_sum)\n",
    "        try:\n",
    "            rating = self.ratings_sum / self.similarity_sum\n",
    "            #rating = ratings.rating.mean()\n",
    "        except:\n",
    "            rating = 0\n",
    "        #print(rating)\n",
    "        return rating\n",
    "    def neighbor_average(self,neighbor,sigma,threshold):\n",
    "        ratings_of_neighbor = df_new[df_new.userID == neighbor.userID]#.rating.mean()\n",
    "        rating_sum=0;\n",
    "        count=0;\n",
    "        threshold=0\n",
    "        for index, row in ratings_of_neighbor.iterrows():\n",
    "            similarity = jaccard_similarity_score(row[2:-1], neighbor[2:-1])\n",
    "            if similarity > threshold:\n",
    "                rating_sum+=row.rating\n",
    "                count+=1\n",
    "        average_rating_in_given_context = rating_sum/count\n",
    "        #print(average_rating_in_given_context)\n",
    "        return average_rating_in_given_context\n",
    "    def baseline_rating(self, itemID):\n",
    "        average_item_rating = df_new[df_new.itemID == itemID].rating.mean()\n",
    "        return average_item_rating"
   ]
  },
  {
   "cell_type": "code",
   "execution_count": 111,
   "metadata": {
    "collapsed": true
   },
   "outputs": [],
   "source": [
    "def numerator(neighborhood_contribution_rating, similarity_of_neighbors):\n",
    "    numerator_sum=0\n",
    "    #print(neighborhood_contribution_rating)\n",
    "    #print(similarity_of_neighbors)\n",
    "    for neighbor_rating, similarity in zip(neighborhood_contribution_rating,similarity_of_neighbors):\n",
    "        numerator_sum+= neighbor_rating*similarity\n",
    "    return numerator_sum"
   ]
  },
  {
   "cell_type": "code",
   "execution_count": 112,
   "metadata": {
    "collapsed": true
   },
   "outputs": [],
   "source": [
    "def predict_rating(user,itemID):\n",
    "    #similarity_function = similarity_class()\n",
    "    user_neighbors = neighbors(X,y)\n",
    "    user_neighborhood_contribution = neighborhood_contribution()\n",
    "    neighbors_data = user_neighbors.get_neighbors_data(user,itemID)\n",
    "    #print(neighbors_data.shape)\n",
    "    #print(neighbors_data)\n",
    "    #similarity_of_neighbors = [similarity_function.jaccard_similarity(neighbor[2:-1],user[2:-1]) for neighbor in neighbors_data]\n",
    "    similarity_of_neighbors = []\n",
    "    neighborhood_contribution_rating = []\n",
    "    #print(neighbors_data.shape)\n",
    "    for index, neighbor in neighbors_data.iterrows():\n",
    "        similarity_of_neighbors.append(jaccard_similarity_score(neighbor[2:-1],user[2:-1]))\n",
    "        neighborhood_contribution_rating.append(user_neighborhood_contribution.neighbor_rating(neighbor,itemID,1,0.1) - user_neighborhood_contribution.neighbor_average(neighbor,1,0.1))\n",
    "#     neighborhood_contribution_rating = [user_neighborhood_contribution.neighbor_rating(neighbor,item) - user_neighborhood_contribution.neighbor_average(neighbor)\n",
    "#                                         for neighbor in neighbors_data]\n",
    "    numerator_value = numerator(neighborhood_contribution_rating, similarity_of_neighbors)\n",
    "    baseline_rating = user_neighborhood_contribution.baseline_rating(itemID)\n",
    "    #print(numerator_value)\n",
    "    #print(similarity_of_neighbors)\n",
    "    #print(baseline_rating)\n",
    "    final_rating = baseline_rating + numerator_value/ sum(similarity_of_neighbors)\n",
    "    return final_rating"
   ]
  },
  {
   "cell_type": "code",
   "execution_count": 113,
   "metadata": {
    "collapsed": true
   },
   "outputs": [],
   "source": [
    "def jaccard_similarity_score(x,y):\n",
    "    intersection = np.logical_and(np.array(x),np.array(y)).astype('int')\n",
    "    union = np.logical_or(np.array(x), np.array(y)).astype('int')\n",
    "    numerator = np.dot(np.array(weights), intersection)\n",
    "    denom = np.dot(np.array(weights), union)\n",
    "    similarity = numerator/denom\n",
    "    return similarity"
   ]
  },
  {
   "cell_type": "code",
   "execution_count": 114,
   "metadata": {
    "collapsed": false
   },
   "outputs": [
    {
     "data": {
      "text/plain": [
       "4.494372307694233"
      ]
     },
     "execution_count": 114,
     "metadata": {},
     "output_type": "execute_result"
    }
   ],
   "source": [
    "predict_rating(df_new.iloc[36], 9)\n",
    "#df_new.iloc[37]"
   ]
  },
  {
   "cell_type": "code",
   "execution_count": 118,
   "metadata": {
    "collapsed": false
   },
   "outputs": [
    {
     "data": {
      "text/plain": [
       "4.0"
      ]
     },
     "execution_count": 118,
     "metadata": {},
     "output_type": "execute_result"
    }
   ],
   "source": [
    "df_new.iloc[36][-1]"
   ]
  },
  {
   "cell_type": "code",
   "execution_count": null,
   "metadata": {
    "collapsed": false
   },
   "outputs": [],
   "source": []
  },
  {
   "cell_type": "code",
   "execution_count": 119,
   "metadata": {
    "collapsed": true
   },
   "outputs": [],
   "source": [
    "from sklearn.metrics import mean_squared_error"
   ]
  },
  {
   "cell_type": "code",
   "execution_count": 160,
   "metadata": {
    "collapsed": false
   },
   "outputs": [
    {
     "ename": "TypeError",
     "evalue": "mean_squared_error() missing 1 required positional argument: 'y_pred'",
     "output_type": "error",
     "traceback": [
      "\u001b[1;31m---------------------------------------------------------------------------\u001b[0m",
      "\u001b[1;31mTypeError\u001b[0m                                 Traceback (most recent call last)",
      "\u001b[1;32m<ipython-input-160-728e960ffd95>\u001b[0m in \u001b[0;36m<module>\u001b[1;34m()\u001b[0m\n\u001b[1;32m----> 1\u001b[1;33m \u001b[0mmean_squared_error\u001b[0m\u001b[1;33m(\u001b[0m\u001b[0mdf\u001b[0m\u001b[1;33m)\u001b[0m\u001b[1;33m\u001b[0m\u001b[0m\n\u001b[0m",
      "\u001b[1;31mTypeError\u001b[0m: mean_squared_error() missing 1 required positional argument: 'y_pred'"
     ]
    }
   ],
   "source": [
    "mean_squared_error(df)"
   ]
  },
  {
   "cell_type": "markdown",
   "metadata": {},
   "source": [
    "## Plot Graphs Here"
   ]
  },
  {
   "cell_type": "code",
   "execution_count": 161,
   "metadata": {
    "collapsed": false
   },
   "outputs": [],
   "source": [
    "import seaborn as sns\n",
    "import matplotlib.pyplot as plt\n",
    "import matplotlib.cm as cm\n",
    "sns.set_style(\"white\")"
   ]
  },
  {
   "cell_type": "code",
   "execution_count": 162,
   "metadata": {
    "collapsed": true
   },
   "outputs": [],
   "source": [
    "%matplotlib inline"
   ]
  },
  {
   "cell_type": "code",
   "execution_count": 163,
   "metadata": {
    "collapsed": false
   },
   "outputs": [],
   "source": [
    "pso_data = pd.read_csv('./pso.csv')\n",
    "#columns = pso_data.columns[:4]\n",
    "#pso.columns = ['swarm_size','max_iter','finish_time','error']"
   ]
  },
  {
   "cell_type": "code",
   "execution_count": 164,
   "metadata": {
    "collapsed": true
   },
   "outputs": [],
   "source": [
    "columns = pso_data.columns[:4]"
   ]
  },
  {
   "cell_type": "code",
   "execution_count": 165,
   "metadata": {
    "collapsed": false
   },
   "outputs": [],
   "source": [
    "pso_data = pso_data[columns]"
   ]
  },
  {
   "cell_type": "code",
   "execution_count": 166,
   "metadata": {
    "collapsed": false
   },
   "outputs": [],
   "source": [
    "pso_data\n",
    "pso_data.columns = ['swarm_size','max_iter','finish_time','error']"
   ]
  },
  {
   "cell_type": "code",
   "execution_count": 167,
   "metadata": {
    "collapsed": false
   },
   "outputs": [
    {
     "data": {
      "text/html": [
       "<div>\n",
       "<table border=\"1\" class=\"dataframe\">\n",
       "  <thead>\n",
       "    <tr style=\"text-align: right;\">\n",
       "      <th></th>\n",
       "      <th>swarm_size</th>\n",
       "      <th>max_iter</th>\n",
       "      <th>finish_time</th>\n",
       "      <th>error</th>\n",
       "    </tr>\n",
       "  </thead>\n",
       "  <tbody>\n",
       "    <tr>\n",
       "      <th>0</th>\n",
       "      <td>100.0</td>\n",
       "      <td>150.0</td>\n",
       "      <td>317.005374</td>\n",
       "      <td>1.182067</td>\n",
       "    </tr>\n",
       "    <tr>\n",
       "      <th>1</th>\n",
       "      <td>100.0</td>\n",
       "      <td>200.0</td>\n",
       "      <td>194.965096</td>\n",
       "      <td>1.098396</td>\n",
       "    </tr>\n",
       "    <tr>\n",
       "      <th>2</th>\n",
       "      <td>100.0</td>\n",
       "      <td>300.0</td>\n",
       "      <td>413.466969</td>\n",
       "      <td>1.279668</td>\n",
       "    </tr>\n",
       "    <tr>\n",
       "      <th>3</th>\n",
       "      <td>100.0</td>\n",
       "      <td>400.0</td>\n",
       "      <td>353.063929</td>\n",
       "      <td>1.710631</td>\n",
       "    </tr>\n",
       "    <tr>\n",
       "      <th>4</th>\n",
       "      <td>100.0</td>\n",
       "      <td>500.0</td>\n",
       "      <td>597.785276</td>\n",
       "      <td>1.208668</td>\n",
       "    </tr>\n",
       "  </tbody>\n",
       "</table>\n",
       "</div>"
      ],
      "text/plain": [
       "   swarm_size  max_iter  finish_time     error\n",
       "0       100.0     150.0   317.005374  1.182067\n",
       "1       100.0     200.0   194.965096  1.098396\n",
       "2       100.0     300.0   413.466969  1.279668\n",
       "3       100.0     400.0   353.063929  1.710631\n",
       "4       100.0     500.0   597.785276  1.208668"
      ]
     },
     "execution_count": 167,
     "metadata": {},
     "output_type": "execute_result"
    }
   ],
   "source": [
    "pso_data"
   ]
  },
  {
   "cell_type": "code",
   "execution_count": 168,
   "metadata": {
    "collapsed": true
   },
   "outputs": [],
   "source": [
    "firefly_data = pd.read_csv('./firefly.csv')\n",
    "columns = firefly_data.columns[:4]\n",
    "firefly_data = firefly_data[columns]\n",
    "firefly_data.columns = ['swarm_size','max_iter','finish_time','error']"
   ]
  },
  {
   "cell_type": "code",
   "execution_count": 169,
   "metadata": {
    "collapsed": false
   },
   "outputs": [
    {
     "data": {
      "text/html": [
       "<div>\n",
       "<table border=\"1\" class=\"dataframe\">\n",
       "  <thead>\n",
       "    <tr style=\"text-align: right;\">\n",
       "      <th></th>\n",
       "      <th>swarm_size</th>\n",
       "      <th>max_iter</th>\n",
       "      <th>finish_time</th>\n",
       "      <th>error</th>\n",
       "    </tr>\n",
       "  </thead>\n",
       "  <tbody>\n",
       "    <tr>\n",
       "      <th>0</th>\n",
       "      <td>60.0</td>\n",
       "      <td>150.0</td>\n",
       "      <td>442.618117</td>\n",
       "      <td>8.810258</td>\n",
       "    </tr>\n",
       "    <tr>\n",
       "      <th>1</th>\n",
       "      <td>60.0</td>\n",
       "      <td>200.0</td>\n",
       "      <td>467.142484</td>\n",
       "      <td>8.239817</td>\n",
       "    </tr>\n",
       "    <tr>\n",
       "      <th>2</th>\n",
       "      <td>60.0</td>\n",
       "      <td>250.0</td>\n",
       "      <td>652.306356</td>\n",
       "      <td>8.503800</td>\n",
       "    </tr>\n",
       "    <tr>\n",
       "      <th>3</th>\n",
       "      <td>60.0</td>\n",
       "      <td>300.0</td>\n",
       "      <td>681.937402</td>\n",
       "      <td>17.805143</td>\n",
       "    </tr>\n",
       "    <tr>\n",
       "      <th>4</th>\n",
       "      <td>60.0</td>\n",
       "      <td>350.0</td>\n",
       "      <td>820.989617</td>\n",
       "      <td>9.039854</td>\n",
       "    </tr>\n",
       "  </tbody>\n",
       "</table>\n",
       "</div>"
      ],
      "text/plain": [
       "   swarm_size  max_iter  finish_time      error\n",
       "0        60.0     150.0   442.618117   8.810258\n",
       "1        60.0     200.0   467.142484   8.239817\n",
       "2        60.0     250.0   652.306356   8.503800\n",
       "3        60.0     300.0   681.937402  17.805143\n",
       "4        60.0     350.0   820.989617   9.039854"
      ]
     },
     "execution_count": 169,
     "metadata": {},
     "output_type": "execute_result"
    }
   ],
   "source": [
    "firefly_data.head()"
   ]
  },
  {
   "cell_type": "code",
   "execution_count": 181,
   "metadata": {
    "collapsed": false
   },
   "outputs": [
    {
     "data": {
      "image/png": "[encoded data removed]",
      "text/plain": [
       "<matplotlib.figure.Figure at 0x23f641309e8>"
      ]
     },
     "metadata": {},
     "output_type": "display_data"
    }
   ],
   "source": [
    "plt.figure(figsize=(12,8))\n",
    "plt.plot(firefly_data.max_iter, firefly_data.finish_time, '-', label=\"Firefly\",c=\"0.1\")\n",
    "plt.plot(pso_data.max_iter, pso_data.finish_time, '--', label=\"PSO\",c=\"0.1\")\n",
    "plt.title(\"Number of iteration vs completion time (in sec)\")\n",
    "plt.legend()\n",
    "plt.xlim([100,550])\n",
    "plt.xlabel(\"Number of iteration\")\n",
    "plt.ylabel(\"Completion time\")\n",
    "plt.savefig(filename=\"iteration_time.jpg\",bbox_inches='tight')"
   ]
  },
  {
   "cell_type": "code",
   "execution_count": 176,
   "metadata": {
    "collapsed": false
   },
   "outputs": [
    {
     "data": {
      "text/plain": [
       "1.7106308940677915"
      ]
     },
     "execution_count": 176,
     "metadata": {},
     "output_type": "execute_result"
    }
   ],
   "source": [
    "# import math\n",
    "# rmse_pso = math.sqrt(calculate_mse(weights))\n",
    "pso_data['error'][3]"
   ]
  },
  {
   "cell_type": "code",
   "execution_count": 177,
   "metadata": {
    "collapsed": false
   },
   "outputs": [],
   "source": [
    "firefly_weights = [1.68025248e-01,   6.33696638e-01,\n",
    "          1.66857644e-01,   9.56715600e-01,   1.40681305e-02,\n",
    "          5.67212948e-01,   1.00000000e+00,   6.86592048e-02,\n",
    "          5.79232355e-01,   1.61788904e-01,   4.37825980e-01,\n",
    "          3.69704405e-01,   0.00000000e+00,   4.01681141e-03,\n",
    "          8.79106525e-01,   1.00000000e+00,   1.05052174e-01,\n",
    "          1.07819948e-01,   2.72514379e-01,   3.28510792e-01,\n",
    "          6.13944565e-01,   9.51533687e-02,   4.47570215e-01,\n",
    "          1.30900553e-01,   2.16290656e-01,   6.44635553e-01,\n",
    "          5.39704064e-01,   3.07633150e-01,   4.08444731e-01,\n",
    "          1.21906170e-01,   8.90305749e-01,   7.84412855e-01,\n",
    "          1.27553341e-02,   3.72605965e-01,   1.00000000e+00,\n",
    "          9.32838295e-01,   4.78820245e-02,   5.38214725e-01,\n",
    "          1.17678254e-01,   8.90642164e-01,   9.63329961e-01,\n",
    "          5.95070050e-01,   1.71280877e-01,   8.36161037e-01,\n",
    "          8.92182043e-01,   8.49683813e-01,   7.79639685e-01,\n",
    "          4.30269157e-01,   1.47509001e-01,   6.26900403e-01,\n",
    "          0.00000000e+00,   1.85521377e-01,   0.00000000e+00,\n",
    "          8.12236457e-01,   3.09164602e-01,   9.12206287e-01,\n",
    "          1.30752794e-01,   6.50837607e-01,   7.96365160e-01,\n",
    "          2.73648179e-01,   7.36400471e-01,   0.00000000e+00,\n",
    "          8.11443812e-01,   2.90960605e-01,   5.66172405e-01,\n",
    "          2.83946883e-01,   1.93584952e-02,   0.00000000e+00,\n",
    "          7.15086381e-01,   1.55208457e-01,   3.60413957e-01,\n",
    "          1.00000000e+00,   1.36068943e-01,   5.51236193e-01]\n",
    "pso_weights = [6.991025340806624744e-01,6.864600601424905024e-01,4.577271812056464828e-01,6.149641724232440820e-01,9.233228441591770919e-01,1.472056226177070534e-02,8.430557787731045583e-01,6.751057965208809852e-01,9.911109797898056684e-01,3.862303349207192871e-01,0.000000000000000000e+00,1.036704318254458052e-04,2.173106328552092403e-01,5.726397444991686569e-01,0.000000000000000000e+00,3.643106146455452610e-01,6.817808724091881656e-01,8.239947398097096087e-01,8.677191086806317344e-01,1.544605817412877669e-01,5.341773493326725797e-01,1.983626238302186250e-04,1.000000000000000000e+00,2.262375227399178804e-02,0.000000000000000000e+00,3.032814779006614558e-01,5.493174581777889864e-01,3.710592650635394785e-01,2.078290345498789993e-02,6.119626618786409011e-01,0.000000000000000000e+00,0.000000000000000000e+00,6.299069535185680691e-01,6.357850800082401888e-01,6.654054099204487205e-01,6.216289028085781460e-02,8.997043478538357952e-01,4.735720257070915595e-01,2.573173267430859945e-01,3.043953400517680485e-01,7.185977794447576672e-01,1.637464352945744439e-02,3.458274241513435432e-01,1.109355051208655261e-02,6.170920155398555984e-01,5.763464806065040635e-01,5.835127099390990946e-01,2.480718849071708865e-01,1.815783140317607791e-01,9.475015416394066969e-01,7.692050348184397695e-06,6.593428423157277063e-01,3.866610975531077909e-01,8.269520957416945928e-01,4.555524577485187132e-01,4.555217118352588024e-01,6.654185311852937046e-01,6.778156336804584958e-01,4.849310694210372842e-06,6.341067771092458692e-03,6.907898250408722740e-02,1.968814704515519376e-01,1.888917821851804901e-01,1.000000000000000000e+00,4.880525609153650857e-01,7.984339061873557686e-02,0.000000000000000000e+00,1.586031845535752771e-01,0.000000000000000000e+00,9.192661670781081540e-01,7.055951888894982336e-03,4.910685979937167156e-01,2.679131244364733599e-01,1.161900433009498551e-01]"
   ]
  },
  {
   "cell_type": "code",
   "execution_count": 178,
   "metadata": {
    "collapsed": false
   },
   "outputs": [],
   "source": [
    "import math\n",
    "rmse_pso = math.sqrt(calculate_mse(pso_weights))\n",
    "rmse_firefly = math.sqrt(calculate_mse(firefly_weights))"
   ]
  },
  {
   "cell_type": "code",
   "execution_count": 179,
   "metadata": {
    "collapsed": false
   },
   "outputs": [],
   "source": [
    "# ax = plt.axes()\n",
    "# plt.bar([1,2], [rmse_pso,rmse_firefly], width=0.2, label=['pso','firefly'],align='center')\n",
    "# plt.xlim([0,3])\n",
    "# plt.ylim([0,3])\n",
    "# # plt.tick_params(\n",
    "# #     axis='x',          # changes apply to the x-axis\n",
    "# #     which='both',      # both major and minor ticks are affected\n",
    "# #     bottom='off',      # ticks along the bottom edge are off\n",
    "# #     top='off',         # ticks along the top edge are off\n",
    "# #     labelbottom='off')\n",
    "# ax.set_xticks(x)\n",
    "# ax.set_xticklabels(['PSO', 'Firefly'])\n",
    "# plt.legend()"
   ]
  },
  {
   "cell_type": "code",
   "execution_count": 186,
   "metadata": {
    "collapsed": false
   },
   "outputs": [
    {
     "data": {
      "image/png": "[encoded data removed]",
      "text/plain": [
       "<matplotlib.figure.Figure at 0x23f62576080>"
      ]
     },
     "metadata": {},
     "output_type": "display_data"
    }
   ],
   "source": [
    "import pylab\n",
    "x = [1,1.6]\n",
    "y = [rmse_pso,rmse_firefly]\n",
    "f = pylab.figure(figsize=(12,8))\n",
    "ax = f.add_axes([0.1, 0.1, 0.8, 0.8])\n",
    "ax.bar(x, y, align='center',width=0.2, color=\"black\")\n",
    "ax.set_xticks(x)\n",
    "ax.set_xticklabels(['PSO','Firefly'])\n",
    "ax.set_xlim([0.5,2])\n",
    "ax.set_ylim([0,3])\n",
    "ax.set_title(\"RMSE comparison between PSO and FA.\")\n",
    "f.savefig(filename=\"Rmse_comparison.jpg\",bbox_inches='tight')"
   ]
  },
  {
   "cell_type": "code",
   "execution_count": null,
   "metadata": {
    "collapsed": true
   },
   "outputs": [],
   "source": []
  }
 ],
 "metadata": {
  "kernelspec": {
   "display_name": "Python 3",
   "language": "python",
   "name": "python3"
  },
  "language_info": {
   "codemirror_mode": {
    "name": "ipython",
    "version": 3
   },
   "file_extension": ".py",
   "mimetype": "text/x-python",
   "name": "python",
   "nbconvert_exporter": "python",
   "pygments_lexer": "ipython3",
   "version": "3.5.2"
  }
 },
 "nbformat": 4,
 "nbformat_minor": 0
}
