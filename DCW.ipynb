{
 "cells": [
  {
   "cell_type": "code",
   "execution_count": 3,
   "metadata": {
    "collapsed": true
   },
   "outputs": [],
   "source": [
    "import numpy as np\n",
    "from sklearn.metrics import jaccard_similarity_score"
   ]
  },
  {
   "cell_type": "code",
   "execution_count": 5,
   "metadata": {
    "collapsed": true
   },
   "outputs": [],
   "source": [
    "from sklearn.neighbors import KNeighborsClassifier"
   ]
  },
  {
   "cell_type": "code",
   "execution_count": 67,
   "metadata": {
    "collapsed": true
   },
   "outputs": [],
   "source": [
    "import pandas as pd"
   ]
  },
  {
   "cell_type": "code",
   "execution_count": 86,
   "metadata": {
    "collapsed": true
   },
   "outputs": [],
   "source": [
    "df = pd.read_csv(\"data/comoda_data.csv\")"
   ]
  },
  {
   "cell_type": "code",
   "execution_count": 92,
   "metadata": {
    "collapsed": false
   },
   "outputs": [],
   "source": [
    "df = df.replace(-1.0, np.nan)\n",
    "df = df.dropna(how=\"any\")"
   ]
  },
  {
   "cell_type": "code",
   "execution_count": 93,
   "metadata": {
    "collapsed": true
   },
   "outputs": [],
   "source": [
    "class neighbors(object):\n",
    "    def __init__(self, X, y):\n",
    "        self.model = KNeighborsClassifier(n_neighbors=5, n_jobs=-1)\n",
    "        self.model.fit(X,y)\n",
    "    def get_neighbors_data(self, user):\n",
    "        similar_user_indices = self.model.kneighbors(user)[1]\n",
    "        neighbors_data = df.loc[all_neighbors_indices]\n",
    "        return neighbors_data"
   ]
  },
  {
   "cell_type": "code",
   "execution_count": 94,
   "metadata": {
    "collapsed": true
   },
   "outputs": [],
   "source": [
    "class similariy(object):\n",
    "    def __init__(self):\n",
    "        pass\n",
    "    def jaccard_similarity(x,y):\n",
    "        return jaccard_similarity_score(x,y)"
   ]
  },
  {
   "cell_type": "code",
   "execution_count": 95,
   "metadata": {
    "collapsed": true
   },
   "outputs": [],
   "source": [
    "class neighborhood_contribution():\n",
    "    def __init__(self):\n",
    "        pass\n",
    "    def neighbor_rating(self, user, item, sigma, threshold):\n",
    "        rating = df[df.userId == user & df.itemId == item].rating\n",
    "        return rating\n",
    "    def neighbor_average(self,neighbor,sigma,threshold):\n",
    "        average_rating_of_neighbor = df[df.userId == neighbor].rating.mean()\n",
    "        return average_rating_of_neighbor\n",
    "    def baseline_rating(self, user):\n",
    "        average_user_rating = df[df.userId == user].rating.mean()\n",
    "        return average_user_rating\n",
    "        "
   ]
  },
  {
   "cell_type": "code",
   "execution_count": 96,
   "metadata": {
    "collapsed": true
   },
   "outputs": [],
   "source": [
    "def numerator(neighborhood_contribution_rating, similarity_of_neighbors):\n",
    "    numerator_sum=0\n",
    "    for neighbor_rating, similarity in zip(neighborhood_contribution_rating,similarity_of_neighbors):\n",
    "        numerator_sum+= neighbor_rating*similarity\n",
    "    return numerator_sum"
   ]
  },
  {
   "cell_type": "code",
   "execution_count": 97,
   "metadata": {
    "collapsed": false
   },
   "outputs": [],
   "source": [
    "def predict_rating(user,item):\n",
    "    similarity_function = similariy()\n",
    "    neighbors = neighbors(X,y)\n",
    "    neighborhood_contribution = neighborhood_contribution()\n",
    "    neighbors_data = neighbors.get_neighbors_data(user)\n",
    "    similarity_of_neighbors = [similarity_function(neighbor,user) for neighbor in neighbors_data]\n",
    "    neighborhood_contribution_rating = [neighborhood_contribution.neighbor_rating(neighbor,item) - neighborhood_contribution.neighbor_average(neighbor)\n",
    "                                        for neighbor in neighbors_data]\n",
    "    numerator_value = numerator(neighborhood_contribution_rating, similarity_of_neighbors)\n",
    "    baseline_rating = neighborhood_contribution.baseline_rating(user)\n",
    "    final_rating = baseline_rating + numerator_value.sum()/similarity_of_neighbors.sum()\n",
    "    return final_rating\n",
    "    "
   ]
  },
  {
   "cell_type": "code",
   "execution_count": null,
   "metadata": {
    "collapsed": false
   },
   "outputs": [],
   "source": []
  },
  {
   "cell_type": "code",
   "execution_count": null,
   "metadata": {
    "collapsed": true
   },
   "outputs": [],
   "source": []
  },
  {
   "cell_type": "code",
   "execution_count": null,
   "metadata": {
    "collapsed": true
   },
   "outputs": [],
   "source": []
  }
 ],
 "metadata": {
  "kernelspec": {
   "display_name": "Python 3",
   "language": "python",
   "name": "python3"
  },
  "language_info": {
   "codemirror_mode": {
    "name": "ipython",
    "version": 3
   },
   "file_extension": ".py",
   "mimetype": "text/x-python",
   "name": "python",
   "nbconvert_exporter": "python",
   "pygments_lexer": "ipython3",
   "version": "3.4.3"
  }
 },
 "nbformat": 4,
 "nbformat_minor": 0
}
