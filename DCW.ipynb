{
 "cells": [
  {
   "cell_type": "code",
   "execution_count": 1,
   "metadata": {
    "collapsed": true
   },
   "outputs": [],
   "source": [
    "import numpy as np\n",
    "from sklearn.metrics import jaccard_similarity_score"
   ]
  },
  {
   "cell_type": "code",
   "execution_count": 2,
   "metadata": {
    "collapsed": true
   },
   "outputs": [],
   "source": [
    "from sklearn.neighbors import KNeighborsClassifier\n",
    "import warnings\n",
    "warnings.filterwarnings(\"ignore\")"
   ]
  },
  {
   "cell_type": "code",
   "execution_count": 3,
   "metadata": {
    "collapsed": true
   },
   "outputs": [],
   "source": [
    "import pandas as pd"
   ]
  },
  {
   "cell_type": "code",
   "execution_count": 4,
   "metadata": {
    "collapsed": true
   },
   "outputs": [],
   "source": [
    "df = pd.read_csv(\"data/comoda_data.csv\")"
   ]
  },
  {
   "cell_type": "code",
   "execution_count": 5,
   "metadata": {
    "collapsed": false
   },
   "outputs": [],
   "source": [
    "df = df.replace(-1.0, np.nan)\n",
    "df = df.dropna(how=\"any\")"
   ]
  },
  {
   "cell_type": "markdown",
   "metadata": {},
   "source": [
    "## Clean Data Here"
   ]
  },
  {
   "cell_type": "code",
   "execution_count": 6,
   "metadata": {
    "collapsed": false
   },
   "outputs": [],
   "source": [
    "## CONSTANTS ASSUMPTION\n",
    "sigma = 1\n",
    "threshold = 0.1\n",
    "columns = df.columns.tolist()\n",
    "columns.remove(\"rating\")\n",
    "columns.append(\"rating\")\n",
    "df = df[columns]\n",
    "X = df[columns[2:-1]]\n",
    "y = df[columns[-1:]]\n",
    "df = df.reset_index(drop=True)\n",
    "#df"
   ]
  },
  {
   "cell_type": "code",
   "execution_count": 7,
   "metadata": {
    "collapsed": false
   },
   "outputs": [],
   "source": [
    "class neighbors:\n",
    "    def __init__(self, X, y):\n",
    "        self.model = KNeighborsClassifier(n_neighbors=10)\n",
    "        self.model.fit(X,y)\n",
    "    def get_neighbors_data(self, user, itemID):\n",
    "        #all_neighbors_indices = self.model.kneighbors(user[2:-1])[1][0]\n",
    "        #print(all_neighbors_indices)\n",
    "        #neighbors_data = df.iloc[all_neighbors_indices]\n",
    "        neighbors_data = df[(df.itemID == itemID)]\n",
    "        #print(neighbors_data)\n",
    "        self.good_neighbors = pd.DataFrame()\n",
    "        #print(neighbors_data.shape)\n",
    "        threshold = 0.3\n",
    "        for index, row in neighbors_data.iterrows():\n",
    "            similarity = jaccard_similarity_score(row[2:-1], user[2:-1])\n",
    "            #print(similarity)\n",
    "            if similarity > threshold:\n",
    "                self.good_neighbors=self.good_neighbors.append(row, ignore_index=True)\n",
    "                #print(row)\n",
    "                #print(good_neighbors)\n",
    "                #print(\"Inside Threshold\")\n",
    "            #print(self.good_neighbors)\n",
    "        #print(self.good_neighbors)\n",
    "        return self.good_neighbors"
   ]
  },
  {
   "cell_type": "code",
   "execution_count": 8,
   "metadata": {
    "collapsed": true
   },
   "outputs": [],
   "source": [
    "class similarity_class:\n",
    "    def __init__(self):\n",
    "        pass\n",
    "    def jaccard_similarity(self, x, y):\n",
    "        return jaccard_similarity_score(x,y)"
   ]
  },
  {
   "cell_type": "code",
   "execution_count": 9,
   "metadata": {
    "collapsed": false
   },
   "outputs": [],
   "source": [
    "class neighborhood_contribution:\n",
    "    def __init__(self):\n",
    "        pass\n",
    "    def neighbor_rating(self, neighbor, itemID, sigma, threshold):\n",
    "        self.ratings_sum=0\n",
    "        self.similarity_sum=0\n",
    "        #print(type(user))\n",
    "        #print(user)\n",
    "        #print(neighbor[2:10])\n",
    "        #print(df.itemID)\n",
    "        ratings = df[(df.userID == neighbor.userID) & (df.itemID == itemID)]\n",
    "        #print(ratings.shape)\n",
    "        for index, user_rating in ratings.iterrows():\n",
    "            similarity = jaccard_similarity_score(neighbor[2:-1],user_rating[2:-1])\n",
    "            #print(similarity)\n",
    "            if similarity > threshold:\n",
    "                self.ratings_sum += user_rating.rating * similarity\n",
    "                self.similarity_sum += similarity\n",
    "                #print(self.similarity_sum)\n",
    "            #print(self.ratings_sum)\n",
    "            #print(neighbor[-10:],user_rating[-10:])\n",
    "        #print(\"Rating sum\")\n",
    "        #print(self.ratings_sum)\n",
    "        #print(\"Similarity Sum\")\n",
    "        #print(self.similarity_sum)\n",
    "        try:\n",
    "            rating = self.ratings_sum / self.similarity_sum\n",
    "            #rating = ratings.rating.mean()\n",
    "        except:\n",
    "            rating = 0\n",
    "        #print(rating)\n",
    "        return rating\n",
    "    def neighbor_average(self,neighbor,sigma,threshold):\n",
    "        ratings_of_neighbor = df[df.userID == neighbor.userID]#.rating.mean()\n",
    "        rating_sum=0;\n",
    "        count=0;\n",
    "        for index, row in ratings_of_neighbor.iterrows():\n",
    "            similarity = jaccard_similarity_score(row[2:-1], neighbor[2:-1])\n",
    "            if similarity > threshold:\n",
    "                rating_sum+=row.rating\n",
    "                count+=1\n",
    "        average_rating_in_given_context = rating_sum/count\n",
    "        #print(average_rating_in_given_context)\n",
    "        return average_rating_in_given_context\n",
    "    def baseline_rating(self, itemID):\n",
    "        average_item_rating = df[df.itemID == itemID].rating.mean()\n",
    "        return average_item_rating"
   ]
  },
  {
   "cell_type": "code",
   "execution_count": 10,
   "metadata": {
    "collapsed": true
   },
   "outputs": [],
   "source": [
    "def numerator(neighborhood_contribution_rating, similarity_of_neighbors):\n",
    "    numerator_sum=0\n",
    "    #print(neighborhood_contribution_rating)\n",
    "    #print(similarity_of_neighbors)\n",
    "    for neighbor_rating, similarity in zip(neighborhood_contribution_rating,similarity_of_neighbors):\n",
    "        numerator_sum+= neighbor_rating*similarity\n",
    "    return numerator_sum"
   ]
  },
  {
   "cell_type": "code",
   "execution_count": 11,
   "metadata": {
    "collapsed": false
   },
   "outputs": [],
   "source": [
    "def predict_rating(user,itemID):\n",
    "    similarity_function = similarity_class()\n",
    "    user_neighbors = neighbors(X,y)\n",
    "    user_neighborhood_contribution = neighborhood_contribution()\n",
    "    neighbors_data = user_neighbors.get_neighbors_data(user,itemID)\n",
    "    #print(neighbors_data.shape)\n",
    "    #print(neighbors_data)\n",
    "    #similarity_of_neighbors = [similarity_function.jaccard_similarity(neighbor[2:-1],user[2:-1]) for neighbor in neighbors_data]\n",
    "    similarity_of_neighbors = []\n",
    "    neighborhood_contribution_rating = []\n",
    "    #print(neighbors_data.shape)\n",
    "    for index, neighbor in neighbors_data.iterrows():\n",
    "        similarity_of_neighbors.append(similarity_function.jaccard_similarity(neighbor[2:-1],user[2:-1]))\n",
    "        neighborhood_contribution_rating.append(user_neighborhood_contribution.neighbor_rating(neighbor,itemID,1,0.1) - user_neighborhood_contribution.neighbor_average(neighbor,1,0.1))\n",
    "#     neighborhood_contribution_rating = [user_neighborhood_contribution.neighbor_rating(neighbor,item) - user_neighborhood_contribution.neighbor_average(neighbor)\n",
    "#                                         for neighbor in neighbors_data]\n",
    "    numerator_value = numerator(neighborhood_contribution_rating, similarity_of_neighbors)\n",
    "    baseline_rating = user_neighborhood_contribution.baseline_rating(itemID)\n",
    "    #print(numerator_value)\n",
    "    #print(similarity_of_neighbors)\n",
    "    #print(baseline_rating)\n",
    "    final_rating = baseline_rating + numerator_value/ sum(similarity_of_neighbors)\n",
    "    return final_rating"
   ]
  },
  {
   "cell_type": "code",
   "execution_count": 12,
   "metadata": {
    "collapsed": false
   },
   "outputs": [],
   "source": [
    "# if __name__ == \"main\":\n",
    "#     userId = 20\n",
    "#     iteId = 30\n",
    "#     rating = predict_rating(20,30)\n",
    "#     print(rating)"
   ]
  },
  {
   "cell_type": "code",
   "execution_count": 13,
   "metadata": {
    "collapsed": false
   },
   "outputs": [
    {
     "data": {
      "text/plain": [
       "5.0479068684211841"
      ]
     },
     "execution_count": 13,
     "metadata": {},
     "output_type": "execute_result"
    }
   ],
   "source": [
    "predict_rating(df.iloc[37], 47)\n",
    "#df.iloc[5]\""
   ]
  },
  {
   "cell_type": "code",
   "execution_count": 14,
   "metadata": {
    "collapsed": false
   },
   "outputs": [],
   "source": [
    "#df[df.itemID == 47]"
   ]
  },
  {
   "cell_type": "code",
   "execution_count": 15,
   "metadata": {
    "collapsed": false
   },
   "outputs": [],
   "source": [
    "#df.iloc[37]"
   ]
  },
  {
   "cell_type": "code",
   "execution_count": 16,
   "metadata": {
    "collapsed": false
   },
   "outputs": [],
   "source": [
    "from sklearn.metrics import mean_squared_error"
   ]
  },
  {
   "cell_type": "code",
   "execution_count": 19,
   "metadata": {
    "collapsed": false
   },
   "outputs": [],
   "source": [
    "#y_true = [df.iloc[i].rating for i in range(700,800)]"
   ]
  },
  {
   "cell_type": "code",
   "execution_count": 20,
   "metadata": {
    "collapsed": false
   },
   "outputs": [],
   "source": [
    "#y_pred = [predict_rating(df.iloc[i], df.iloc[i].itemID) for i in range(700,800)]"
   ]
  },
  {
   "cell_type": "code",
   "execution_count": null,
   "metadata": {
    "collapsed": false
   },
   "outputs": [],
   "source": [
    "#y_pred"
   ]
  },
  {
   "cell_type": "code",
   "execution_count": 21,
   "metadata": {
    "collapsed": false
   },
   "outputs": [],
   "source": [
    "#mean_squared_error(y_true, y_pred)"
   ]
  },
  {
   "cell_type": "markdown",
   "metadata": {},
   "source": [
    "## Pyswarm Implementation"
   ]
  },
  {
   "cell_type": "code",
   "execution_count": 23,
   "metadata": {
    "collapsed": false
   },
   "outputs": [],
   "source": [
    "# from pyswarm import pso\n",
    "\n",
    "# def banana(x):\n",
    "#     x1 = x[0]\n",
    "#     x2 = x[1]\n",
    "#     return x1**4 - 2*x2*x1**2 + x2**2 + x1**2 - 2*x1 + 5\n",
    "\n",
    "# def con(x):\n",
    "#     x1 = x[0]\n",
    "#     x2 = x[1]\n",
    "#     return [-(x1 + 0.25)**2 + 0.75*x2]\n",
    "\n",
    "# lb = [-3, -1]\n",
    "# ub = [2, 6]\n",
    "\n",
    "# xopt, fopt = pso(banana, lb, ub, f_ieqcons=con)"
   ]
  },
  {
   "cell_type": "code",
   "execution_count": 24,
   "metadata": {
    "collapsed": false
   },
   "outputs": [],
   "source": [
    "from pyswarm import pso"
   ]
  },
  {
   "cell_type": "code",
   "execution_count": 32,
   "metadata": {
    "collapsed": false
   },
   "outputs": [
    {
     "data": {
      "text/plain": [
       "5"
      ]
     },
     "execution_count": 32,
     "metadata": {},
     "output_type": "execute_result"
    }
   ],
   "source": [
    "len(df.rating.unique())"
   ]
  },
  {
   "cell_type": "code",
   "execution_count": 33,
   "metadata": {
    "collapsed": true
   },
   "outputs": [],
   "source": [
    "columns = df.columns"
   ]
  },
  {
   "cell_type": "code",
   "execution_count": 38,
   "metadata": {
    "collapsed": false
   },
   "outputs": [],
   "source": [
    "columns = columns[2:-1]"
   ]
  },
  {
   "cell_type": "code",
   "execution_count": 40,
   "metadata": {
    "collapsed": false
   },
   "outputs": [
    {
     "data": {
      "text/plain": [
       "Index(['city', 'country', 'time', 'daytype', 'season', 'location', 'weather',\n",
       "       'social', 'endEmo', 'dominantEmo', 'mood', 'physical', 'decision',\n",
       "       'interaction', 'director', 'movieCountry', 'movieLanguage', 'movieYear',\n",
       "       'genre1', 'genre2', 'genre3', 'actor1', 'actor2', 'actor3', 'budget'],\n",
       "      dtype='object')"
      ]
     },
     "execution_count": 40,
     "metadata": {},
     "output_type": "execute_result"
    }
   ],
   "source": [
    "columns"
   ]
  },
  {
   "cell_type": "code",
   "execution_count": 58,
   "metadata": {
    "collapsed": false
   },
   "outputs": [],
   "source": [
    "from collections import defaultdict\n",
    "size_of_feature = defaultdict(dict)\n",
    "for column in columns:\n",
    "    size_of_feature[column]['length'] = len(df[column].unique())\n",
    "    size_of_feature[column]['names'] = df[column].unique()\n",
    "    "
   ]
  },
  {
   "cell_type": "code",
   "execution_count": 61,
   "metadata": {
    "collapsed": false
   },
   "outputs": [],
   "source": [
    "#size_of_feature"
   ]
  },
  {
   "cell_type": "code",
   "execution_count": 51,
   "metadata": {
    "collapsed": false
   },
   "outputs": [
    {
     "data": {
      "text/plain": [
       "329"
      ]
     },
     "execution_count": 51,
     "metadata": {},
     "output_type": "execute_result"
    }
   ],
   "source": [
    "size_of_feature['actor1']"
   ]
  },
  {
   "cell_type": "code",
   "execution_count": 68,
   "metadata": {
    "collapsed": false
   },
   "outputs": [
    {
     "data": {
      "text/plain": [
       "1994.0"
      ]
     },
     "execution_count": 68,
     "metadata": {},
     "output_type": "execute_result"
    }
   ],
   "source": [
    "df.actor1.max()"
   ]
  },
  {
   "cell_type": "code",
   "execution_count": 69,
   "metadata": {
    "collapsed": false
   },
   "outputs": [
    {
     "data": {
      "text/plain": [
       "count    1114.000000\n",
       "mean     1012.370736\n",
       "std       568.663979\n",
       "min         4.000000\n",
       "25%       531.000000\n",
       "50%       969.000000\n",
       "75%      1518.250000\n",
       "max      1994.000000\n",
       "Name: actor1, dtype: float64"
      ]
     },
     "execution_count": 69,
     "metadata": {},
     "output_type": "execute_result"
    }
   ],
   "source": [
    "df.actor1.describe()"
   ]
  },
  {
   "cell_type": "code",
   "execution_count": 84,
   "metadata": {
    "collapsed": false
   },
   "outputs": [],
   "source": [
    "feature_dict = defaultdict(dict)\n",
    "for k,v in size_of_feature.items():\n",
    "    for i,j in v.items():\n",
    "        for name in v['names']:\n",
    "            feature_dict[k][name] = sum(df[k] == name)\n",
    "            #print(k,name)"
   ]
  },
  {
   "cell_type": "code",
   "execution_count": 92,
   "metadata": {
    "collapsed": false
   },
   "outputs": [],
   "source": [
    "#feature_dict"
   ]
  },
  {
   "cell_type": "code",
   "execution_count": 91,
   "metadata": {
    "collapsed": false
   },
   "outputs": [],
   "source": [
    "#df[df.columns[2:]].corr(method='kendall', min_periods=1)"
   ]
  },
  {
   "cell_type": "code",
   "execution_count": null,
   "metadata": {
    "collapsed": true
   },
   "outputs": [],
   "source": [
    "x = []"
   ]
  }
 ],
 "metadata": {
  "kernelspec": {
   "display_name": "Python 3",
   "language": "python",
   "name": "python3"
  },
  "language_info": {
   "codemirror_mode": {
    "name": "ipython",
    "version": 3
   },
   "file_extension": ".py",
   "mimetype": "text/x-python",
   "name": "python",
   "nbconvert_exporter": "python",
   "pygments_lexer": "ipython3",
   "version": "3.4.3"
  }
 },
 "nbformat": 4,
 "nbformat_minor": 0
}
