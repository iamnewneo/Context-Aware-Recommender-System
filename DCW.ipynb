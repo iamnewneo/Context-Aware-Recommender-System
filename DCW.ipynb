{
 "cells": [
  {
   "cell_type": "code",
   "execution_count": 1,
   "metadata": {
    "collapsed": true
   },
   "outputs": [],
   "source": [
    "import numpy as np\n",
    "#from sklearn.metrics import jaccard_similarity_score"
   ]
  },
  {
   "cell_type": "code",
   "execution_count": 2,
   "metadata": {
    "collapsed": true
   },
   "outputs": [],
   "source": [
    "from sklearn.neighbors import KNeighborsClassifier\n",
    "import warnings\n",
    "warnings.filterwarnings(\"ignore\")"
   ]
  },
  {
   "cell_type": "code",
   "execution_count": 3,
   "metadata": {
    "collapsed": true
   },
   "outputs": [],
   "source": [
    "import pandas as pd"
   ]
  },
  {
   "cell_type": "code",
   "execution_count": 4,
   "metadata": {
    "collapsed": true
   },
   "outputs": [],
   "source": [
    "df = pd.read_csv(\"data/comoda_data.csv\")"
   ]
  },
  {
   "cell_type": "code",
   "execution_count": 5,
   "metadata": {
    "collapsed": false
   },
   "outputs": [],
   "source": [
    "df = df.replace(-1.0, np.nan)\n",
    "df = df.dropna(how=\"any\")"
   ]
  },
  {
   "cell_type": "code",
   "execution_count": null,
   "metadata": {
    "collapsed": true
   },
   "outputs": [],
   "source": [
    "def jaccard_similarity_score(x, y):\n",
    "    instersection = np.array(x) & np.array(y)\n",
    "    union = np.logical_or(x, y).astype('int')\n",
    "    numerator = np.dot(weights, intersection)\n",
    "    denom = np.dot(weights, union)\n",
    "    similarity = numerator/denom\n",
    "    return similarity"
   ]
  },
  {
   "cell_type": "markdown",
   "metadata": {},
   "source": [
    "## Code DCW Here"
   ]
  },
  {
   "cell_type": "code",
   "execution_count": 6,
   "metadata": {
    "collapsed": false
   },
   "outputs": [],
   "source": [
    "## CONSTANTS ASSUMPTION\n",
    "sigma = 1\n",
    "threshold = 0.1\n",
    "columns = df.columns.tolist()\n",
    "columns.remove(\"rating\")\n",
    "columns.append(\"rating\")\n",
    "df = df[columns]\n",
    "X = df[columns[2:-1]]\n",
    "y = df[columns[-1:]]\n",
    "df = df.reset_index(drop=True)\n",
    "#df"
   ]
  },
  {
   "cell_type": "code",
   "execution_count": 7,
   "metadata": {
    "collapsed": false
   },
   "outputs": [],
   "source": [
    "class neighbors:\n",
    "    def __init__(self, X, y):\n",
    "        self.model = KNeighborsClassifier(n_neighbors=10)\n",
    "        self.model.fit(X,y)\n",
    "    def get_neighbors_data(self, user, itemID):\n",
    "        #all_neighbors_indices = self.model.kneighbors(user[2:-1])[1][0]\n",
    "        #print(all_neighbors_indices)\n",
    "        #neighbors_data = df.iloc[all_neighbors_indices]\n",
    "        neighbors_data = df[(df.itemID == itemID)]\n",
    "        #print(neighbors_data)\n",
    "        self.good_neighbors = pd.DataFrame()\n",
    "        #print(neighbors_data.shape)\n",
    "        threshold = 0.3\n",
    "        for index, row in neighbors_data.iterrows():\n",
    "            similarity = jaccard_similarity_score(row[2:-1], user[2:-1])\n",
    "            #print(similarity)\n",
    "            if similarity > threshold:\n",
    "                self.good_neighbors=self.good_neighbors.append(row, ignore_index=True)\n",
    "                #print(row)\n",
    "                #print(good_neighbors)\n",
    "                #print(\"Inside Threshold\")\n",
    "            #print(self.good_neighbors)\n",
    "        #print(self.good_neighbors)\n",
    "        return self.good_neighbors"
   ]
  },
  {
   "cell_type": "code",
   "execution_count": 12,
   "metadata": {
    "collapsed": true
   },
   "outputs": [],
   "source": [
    "class neighborhood_contribution:\n",
    "    def __init__(self):\n",
    "        pass\n",
    "    def neighbor_rating(self, neighbor, itemID, sigma, threshold):\n",
    "        self.ratings_sum=0\n",
    "        self.similarity_sum=0\n",
    "        #print(type(user))\n",
    "        #print(user)\n",
    "        #print(neighbor[2:10])\n",
    "        #print(df.itemID)\n",
    "        ratings = df[(df.userID == neighbor.userID) & (df.itemID == itemID)]\n",
    "        #print(ratings.shape)\n",
    "        for index, user_rating in ratings.iterrows():\n",
    "            similarity = jaccard_similarity_score(neighbor[2:-1],user_rating[2:-1])\n",
    "            #print(similarity)\n",
    "            if similarity > threshold:\n",
    "                self.ratings_sum += user_rating.rating * similarity\n",
    "                self.similarity_sum += similarity\n",
    "                #print(self.similarity_sum)\n",
    "            #print(self.ratings_sum)\n",
    "            #print(neighbor[-10:],user_rating[-10:])\n",
    "        #print(\"Rating sum\")\n",
    "        #print(self.ratings_sum)\n",
    "        #print(\"Similarity Sum\")\n",
    "        #print(self.similarity_sum)\n",
    "        try:\n",
    "            rating = self.ratings_sum / self.similarity_sum\n",
    "            #rating = ratings.rating.mean()\n",
    "        except:\n",
    "            rating = 0\n",
    "        #print(rating)\n",
    "        return rating\n",
    "    def neighbor_average(self,neighbor,sigma,threshold):\n",
    "        ratings_of_neighbor = df[df.userID == neighbor.userID]#.rating.mean()\n",
    "        rating_sum=0;\n",
    "        count=0;\n",
    "        for index, row in ratings_of_neighbor.iterrows():\n",
    "            similarity = jaccard_similarity_score(row[2:-1], neighbor[2:-1])\n",
    "            if similarity > threshold:\n",
    "                rating_sum+=row.rating\n",
    "                count+=1\n",
    "        average_rating_in_given_context = rating_sum/count\n",
    "        #print(average_rating_in_given_context)\n",
    "        return average_rating_in_given_context\n",
    "    def baseline_rating(self, itemID):\n",
    "        average_item_rating = df[df.itemID == itemID].rating.mean()\n",
    "        return average_item_rating"
   ]
  },
  {
   "cell_type": "code",
   "execution_count": 10,
   "metadata": {
    "collapsed": true
   },
   "outputs": [],
   "source": [
    "def numerator(neighborhood_contribution_rating, similarity_of_neighbors):\n",
    "    numerator_sum=0\n",
    "    #print(neighborhood_contribution_rating)\n",
    "    #print(similarity_of_neighbors)\n",
    "    for neighbor_rating, similarity in zip(neighborhood_contribution_rating,similarity_of_neighbors):\n",
    "        numerator_sum+= neighbor_rating*similarity\n",
    "    return numerator_sum"
   ]
  },
  {
   "cell_type": "code",
   "execution_count": 11,
   "metadata": {
    "collapsed": false
   },
   "outputs": [],
   "source": [
    "def predict_rating(user,itemID):\n",
    "    similarity_function = similarity_class()\n",
    "    user_neighbors = neighbors(X,y)\n",
    "    user_neighborhood_contribution = neighborhood_contribution()\n",
    "    neighbors_data = user_neighbors.get_neighbors_data(user,itemID)\n",
    "    #print(neighbors_data.shape)\n",
    "    #print(neighbors_data)\n",
    "    #similarity_of_neighbors = [similarity_function.jaccard_similarity(neighbor[2:-1],user[2:-1]) for neighbor in neighbors_data]\n",
    "    similarity_of_neighbors = []\n",
    "    neighborhood_contribution_rating = []\n",
    "    #print(neighbors_data.shape)\n",
    "    for index, neighbor in neighbors_data.iterrows():\n",
    "        similarity_of_neighbors.append(similarity_function.jaccard_similarity(neighbor[2:-1],user[2:-1]))\n",
    "        neighborhood_contribution_rating.append(user_neighborhood_contribution.neighbor_rating(neighbor,itemID,1,0.1) - user_neighborhood_contribution.neighbor_average(neighbor,1,0.1))\n",
    "#     neighborhood_contribution_rating = [user_neighborhood_contribution.neighbor_rating(neighbor,item) - user_neighborhood_contribution.neighbor_average(neighbor)\n",
    "#                                         for neighbor in neighbors_data]\n",
    "    numerator_value = numerator(neighborhood_contribution_rating, similarity_of_neighbors)\n",
    "    baseline_rating = user_neighborhood_contribution.baseline_rating(itemID)\n",
    "    #print(numerator_value)\n",
    "    #print(similarity_of_neighbors)\n",
    "    #print(baseline_rating)\n",
    "    final_rating = baseline_rating + numerator_value/ sum(similarity_of_neighbors)\n",
    "    return final_rating"
   ]
  },
  {
   "cell_type": "code",
   "execution_count": 12,
   "metadata": {
    "collapsed": false
   },
   "outputs": [],
   "source": [
    "# if __name__ == \"main\":\n",
    "#     userId = 20\n",
    "#     iteId = 30\n",
    "#     rating = predict_rating(20,30)\n",
    "#     print(rating)"
   ]
  },
  {
   "cell_type": "code",
   "execution_count": 13,
   "metadata": {
    "collapsed": false
   },
   "outputs": [
    {
     "data": {
      "text/plain": [
       "5.0479068684211841"
      ]
     },
     "execution_count": 13,
     "metadata": {},
     "output_type": "execute_result"
    }
   ],
   "source": [
    "predict_rating(df.iloc[37], 47)\n",
    "#df.iloc[5]\""
   ]
  },
  {
   "cell_type": "code",
   "execution_count": 14,
   "metadata": {
    "collapsed": false
   },
   "outputs": [],
   "source": [
    "#df[df.itemID == 47]"
   ]
  },
  {
   "cell_type": "code",
   "execution_count": 15,
   "metadata": {
    "collapsed": false
   },
   "outputs": [],
   "source": [
    "#df.iloc[37]"
   ]
  },
  {
   "cell_type": "code",
   "execution_count": 16,
   "metadata": {
    "collapsed": false
   },
   "outputs": [],
   "source": [
    "from sklearn.metrics import mean_squared_error"
   ]
  },
  {
   "cell_type": "code",
   "execution_count": 17,
   "metadata": {
    "collapsed": false
   },
   "outputs": [],
   "source": [
    "#y_true = [df.iloc[i].rating for i in range(700,800)]"
   ]
  },
  {
   "cell_type": "code",
   "execution_count": 18,
   "metadata": {
    "collapsed": false
   },
   "outputs": [],
   "source": [
    "#y_pred = [predict_rating(df.iloc[i], df.iloc[i].itemID) for i in range(700,800)]"
   ]
  },
  {
   "cell_type": "code",
   "execution_count": 19,
   "metadata": {
    "collapsed": false
   },
   "outputs": [],
   "source": [
    "#y_pred"
   ]
  },
  {
   "cell_type": "code",
   "execution_count": 20,
   "metadata": {
    "collapsed": false
   },
   "outputs": [],
   "source": [
    "#mean_squared_error(y_true, y_pred)"
   ]
  },
  {
   "cell_type": "markdown",
   "metadata": {},
   "source": [
    "## Clean Data"
   ]
  },
  {
   "cell_type": "code",
   "execution_count": 21,
   "metadata": {
    "collapsed": false
   },
   "outputs": [
    {
     "data": {
      "text/plain": [
       "5"
      ]
     },
     "execution_count": 21,
     "metadata": {},
     "output_type": "execute_result"
    }
   ],
   "source": [
    "len(df.rating.unique())"
   ]
  },
  {
   "cell_type": "code",
   "execution_count": 22,
   "metadata": {
    "collapsed": true
   },
   "outputs": [],
   "source": [
    "columns = df.columns"
   ]
  },
  {
   "cell_type": "code",
   "execution_count": 23,
   "metadata": {
    "collapsed": false
   },
   "outputs": [],
   "source": [
    "columns = columns[2:-1]"
   ]
  },
  {
   "cell_type": "code",
   "execution_count": 24,
   "metadata": {
    "collapsed": false
   },
   "outputs": [
    {
     "data": {
      "text/plain": [
       "Index(['age', 'sex', 'city', 'country', 'time', 'daytype', 'season',\n",
       "       'location', 'weather', 'social', 'endEmo', 'dominantEmo', 'mood',\n",
       "       'physical', 'decision', 'interaction', 'director', 'movieCountry',\n",
       "       'movieLanguage', 'movieYear', 'genre1', 'genre2', 'genre3', 'actor1',\n",
       "       'actor2', 'actor3', 'budget'],\n",
       "      dtype='object')"
      ]
     },
     "execution_count": 24,
     "metadata": {},
     "output_type": "execute_result"
    }
   ],
   "source": [
    "columns"
   ]
  },
  {
   "cell_type": "code",
   "execution_count": 25,
   "metadata": {
    "collapsed": false
   },
   "outputs": [],
   "source": [
    "#from collections import defaultdict\n",
    "# size_of_feature = defaultdict(dict)\n",
    "# for column in columns:\n",
    "#     size_of_feature[column]['length'] = len(df[column].unique())\n",
    "#     size_of_feature[column]['names'] = df[column].unique()\n",
    "    "
   ]
  },
  {
   "cell_type": "code",
   "execution_count": 26,
   "metadata": {
    "collapsed": false
   },
   "outputs": [],
   "source": [
    "#size_of_feature"
   ]
  },
  {
   "cell_type": "code",
   "execution_count": 27,
   "metadata": {
    "collapsed": false
   },
   "outputs": [],
   "source": [
    "#size_of_feature['actor1']"
   ]
  },
  {
   "cell_type": "code",
   "execution_count": 28,
   "metadata": {
    "collapsed": false
   },
   "outputs": [
    {
     "data": {
      "text/plain": [
       "1994.0"
      ]
     },
     "execution_count": 28,
     "metadata": {},
     "output_type": "execute_result"
    }
   ],
   "source": [
    "df.actor1.max()"
   ]
  },
  {
   "cell_type": "code",
   "execution_count": 29,
   "metadata": {
    "collapsed": false
   },
   "outputs": [
    {
     "data": {
      "text/plain": [
       "count    1114.000000\n",
       "mean     1012.370736\n",
       "std       568.663979\n",
       "min         4.000000\n",
       "25%       531.000000\n",
       "50%       969.000000\n",
       "75%      1518.250000\n",
       "max      1994.000000\n",
       "Name: actor1, dtype: float64"
      ]
     },
     "execution_count": 29,
     "metadata": {},
     "output_type": "execute_result"
    }
   ],
   "source": [
    "df.actor1.describe()"
   ]
  },
  {
   "cell_type": "code",
   "execution_count": 30,
   "metadata": {
    "collapsed": false
   },
   "outputs": [],
   "source": [
    "# #from collections import defaultdict\n",
    "# feature_dict = defaultdict(dict)\n",
    "# for k,v in size_of_feature.items():\n",
    "#     for i,j in v.items():\n",
    "#         for name in v['names']:\n",
    "#             feature_dict[k][name] = sum(df[k] == name)\n",
    "#             #print(k,name)"
   ]
  },
  {
   "cell_type": "code",
   "execution_count": 31,
   "metadata": {
    "collapsed": false
   },
   "outputs": [],
   "source": [
    "#feature_dict"
   ]
  },
  {
   "cell_type": "code",
   "execution_count": 32,
   "metadata": {
    "collapsed": false
   },
   "outputs": [],
   "source": [
    "#df[df.columns[2:]].corr(method='kendall', min_periods=1)"
   ]
  },
  {
   "cell_type": "code",
   "execution_count": 33,
   "metadata": {
    "collapsed": false
   },
   "outputs": [
    {
     "data": {
      "text/plain": [
       "Index(['userID', 'itemID', 'age', 'sex', 'city', 'country', 'time', 'daytype',\n",
       "       'season', 'location', 'weather', 'social', 'endEmo', 'dominantEmo',\n",
       "       'mood', 'physical', 'decision', 'interaction', 'director',\n",
       "       'movieCountry', 'movieLanguage', 'movieYear', 'genre1', 'genre2',\n",
       "       'genre3', 'actor1', 'actor2', 'actor3', 'budget', 'rating'],\n",
       "      dtype='object')"
      ]
     },
     "execution_count": 33,
     "metadata": {},
     "output_type": "execute_result"
    }
   ],
   "source": [
    "df.columns"
   ]
  },
  {
   "cell_type": "code",
   "execution_count": 34,
   "metadata": {
    "collapsed": false
   },
   "outputs": [],
   "source": [
    "df_new = df.drop(['city','physical','director','movieCountry','movieLanguage','movieYear','genre1', 'genre2',\n",
    "       'genre3', 'actor1', 'actor2', 'actor3','budget'], axis=1,)"
   ]
  },
  {
   "cell_type": "code",
   "execution_count": 35,
   "metadata": {
    "collapsed": false
   },
   "outputs": [],
   "source": [
    "#df_new.describe()"
   ]
  },
  {
   "cell_type": "code",
   "execution_count": 36,
   "metadata": {
    "collapsed": false
   },
   "outputs": [],
   "source": [
    "from collections import defaultdict\n",
    "new_size_of_feature = defaultdict(dict)\n",
    "for column in df_new.columns:\n",
    "    new_size_of_feature[column]['length'] = len(df_new[column].unique())\n",
    "    new_size_of_feature[column]['names'] = df_new[column].unique()"
   ]
  },
  {
   "cell_type": "code",
   "execution_count": 37,
   "metadata": {
    "collapsed": false
   },
   "outputs": [],
   "source": [
    "sum_of_features = 0\n",
    "for k,v in new_size_of_feature.items():\n",
    "    sum_of_features += v['length']"
   ]
  },
  {
   "cell_type": "code",
   "execution_count": 38,
   "metadata": {
    "collapsed": false
   },
   "outputs": [
    {
     "data": {
      "text/plain": [
       "752"
      ]
     },
     "execution_count": 38,
     "metadata": {},
     "output_type": "execute_result"
    }
   ],
   "source": [
    "sum_of_features"
   ]
  },
  {
   "cell_type": "code",
   "execution_count": 39,
   "metadata": {
    "collapsed": false
   },
   "outputs": [
    {
     "data": {
      "text/plain": [
       "Index(['userID', 'itemID', 'age', 'sex', 'country', 'time', 'daytype',\n",
       "       'season', 'location', 'weather', 'social', 'endEmo', 'dominantEmo',\n",
       "       'mood', 'decision', 'interaction', 'rating'],\n",
       "      dtype='object')"
      ]
     },
     "execution_count": 39,
     "metadata": {},
     "output_type": "execute_result"
    }
   ],
   "source": [
    "df_new.columns"
   ]
  },
  {
   "cell_type": "code",
   "execution_count": 40,
   "metadata": {
    "collapsed": true
   },
   "outputs": [],
   "source": [
    "df_age = pd.get_dummies(df.age, prefix='age')"
   ]
  },
  {
   "cell_type": "code",
   "execution_count": 41,
   "metadata": {
    "collapsed": false
   },
   "outputs": [
    {
     "data": {
      "text/html": [
       "<div>\n",
       "<table border=\"1\" class=\"dataframe\">\n",
       "  <thead>\n",
       "    <tr style=\"text-align: right;\">\n",
       "      <th></th>\n",
       "      <th>userID</th>\n",
       "      <th>itemID</th>\n",
       "      <th>age</th>\n",
       "      <th>sex</th>\n",
       "      <th>country</th>\n",
       "      <th>time</th>\n",
       "      <th>daytype</th>\n",
       "      <th>season</th>\n",
       "      <th>location</th>\n",
       "      <th>weather</th>\n",
       "      <th>social</th>\n",
       "      <th>endEmo</th>\n",
       "      <th>dominantEmo</th>\n",
       "      <th>mood</th>\n",
       "      <th>decision</th>\n",
       "      <th>interaction</th>\n",
       "      <th>rating</th>\n",
       "    </tr>\n",
       "  </thead>\n",
       "  <tbody>\n",
       "    <tr>\n",
       "      <th>0</th>\n",
       "      <td>21</td>\n",
       "      <td>5</td>\n",
       "      <td>28.0</td>\n",
       "      <td>1</td>\n",
       "      <td>3</td>\n",
       "      <td>2.0</td>\n",
       "      <td>2.0</td>\n",
       "      <td>2.0</td>\n",
       "      <td>1.0</td>\n",
       "      <td>1.0</td>\n",
       "      <td>2.0</td>\n",
       "      <td>2.0</td>\n",
       "      <td>2.0</td>\n",
       "      <td>2.0</td>\n",
       "      <td>2.0</td>\n",
       "      <td>2.0</td>\n",
       "      <td>3</td>\n",
       "    </tr>\n",
       "    <tr>\n",
       "      <th>1</th>\n",
       "      <td>21</td>\n",
       "      <td>6</td>\n",
       "      <td>28.0</td>\n",
       "      <td>1</td>\n",
       "      <td>3</td>\n",
       "      <td>4.0</td>\n",
       "      <td>2.0</td>\n",
       "      <td>2.0</td>\n",
       "      <td>1.0</td>\n",
       "      <td>1.0</td>\n",
       "      <td>2.0</td>\n",
       "      <td>2.0</td>\n",
       "      <td>2.0</td>\n",
       "      <td>1.0</td>\n",
       "      <td>2.0</td>\n",
       "      <td>1.0</td>\n",
       "      <td>4</td>\n",
       "    </tr>\n",
       "    <tr>\n",
       "      <th>2</th>\n",
       "      <td>22</td>\n",
       "      <td>13</td>\n",
       "      <td>28.0</td>\n",
       "      <td>1</td>\n",
       "      <td>2</td>\n",
       "      <td>3.0</td>\n",
       "      <td>2.0</td>\n",
       "      <td>3.0</td>\n",
       "      <td>2.0</td>\n",
       "      <td>2.0</td>\n",
       "      <td>3.0</td>\n",
       "      <td>2.0</td>\n",
       "      <td>3.0</td>\n",
       "      <td>1.0</td>\n",
       "      <td>1.0</td>\n",
       "      <td>1.0</td>\n",
       "      <td>4</td>\n",
       "    </tr>\n",
       "    <tr>\n",
       "      <th>3</th>\n",
       "      <td>21</td>\n",
       "      <td>7</td>\n",
       "      <td>28.0</td>\n",
       "      <td>1</td>\n",
       "      <td>3</td>\n",
       "      <td>4.0</td>\n",
       "      <td>2.0</td>\n",
       "      <td>2.0</td>\n",
       "      <td>1.0</td>\n",
       "      <td>1.0</td>\n",
       "      <td>2.0</td>\n",
       "      <td>1.0</td>\n",
       "      <td>7.0</td>\n",
       "      <td>1.0</td>\n",
       "      <td>2.0</td>\n",
       "      <td>1.0</td>\n",
       "      <td>3</td>\n",
       "    </tr>\n",
       "    <tr>\n",
       "      <th>4</th>\n",
       "      <td>21</td>\n",
       "      <td>15</td>\n",
       "      <td>28.0</td>\n",
       "      <td>1</td>\n",
       "      <td>3</td>\n",
       "      <td>3.0</td>\n",
       "      <td>1.0</td>\n",
       "      <td>2.0</td>\n",
       "      <td>1.0</td>\n",
       "      <td>5.0</td>\n",
       "      <td>1.0</td>\n",
       "      <td>7.0</td>\n",
       "      <td>5.0</td>\n",
       "      <td>1.0</td>\n",
       "      <td>2.0</td>\n",
       "      <td>2.0</td>\n",
       "      <td>3</td>\n",
       "    </tr>\n",
       "  </tbody>\n",
       "</table>\n",
       "</div>"
      ],
      "text/plain": [
       "   userID  itemID   age  sex  country  time  daytype  season  location  \\\n",
       "0      21       5  28.0    1        3   2.0      2.0     2.0       1.0   \n",
       "1      21       6  28.0    1        3   4.0      2.0     2.0       1.0   \n",
       "2      22      13  28.0    1        2   3.0      2.0     3.0       2.0   \n",
       "3      21       7  28.0    1        3   4.0      2.0     2.0       1.0   \n",
       "4      21      15  28.0    1        3   3.0      1.0     2.0       1.0   \n",
       "\n",
       "   weather  social  endEmo  dominantEmo  mood  decision  interaction  rating  \n",
       "0      1.0     2.0     2.0          2.0   2.0       2.0          2.0       3  \n",
       "1      1.0     2.0     2.0          2.0   1.0       2.0          1.0       4  \n",
       "2      2.0     3.0     2.0          3.0   1.0       1.0          1.0       4  \n",
       "3      1.0     2.0     1.0          7.0   1.0       2.0          1.0       3  \n",
       "4      5.0     1.0     7.0          5.0   1.0       2.0          2.0       3  "
      ]
     },
     "execution_count": 41,
     "metadata": {},
     "output_type": "execute_result"
    }
   ],
   "source": [
    "#df_age.head()\n",
    "df_new.head()"
   ]
  },
  {
   "cell_type": "code",
   "execution_count": 42,
   "metadata": {
    "collapsed": false
   },
   "outputs": [],
   "source": [
    "for column in df_new.columns[2:-1]:\n",
    "    df_col = pd.get_dummies(df_new[column], prefix=column)\n",
    "    df_new = pd.concat([df_new, df_col], axis=1)"
   ]
  },
  {
   "cell_type": "code",
   "execution_count": 43,
   "metadata": {
    "collapsed": false
   },
   "outputs": [],
   "source": [
    "df_new = df_new.drop(['age', 'sex', 'country', 'time', 'daytype',\n",
    "       'season', 'location', 'weather', 'social', 'endEmo', 'dominantEmo',\n",
    "       'mood', 'decision', 'interaction'], axis=1)"
   ]
  },
  {
   "cell_type": "code",
   "execution_count": 44,
   "metadata": {
    "collapsed": false
   },
   "outputs": [
    {
     "data": {
      "text/plain": [
       "(1114, 77)"
      ]
     },
     "execution_count": 44,
     "metadata": {},
     "output_type": "execute_result"
    }
   ],
   "source": [
    "df_new.shape"
   ]
  },
  {
   "cell_type": "code",
   "execution_count": 45,
   "metadata": {
    "collapsed": false
   },
   "outputs": [
    {
     "data": {
      "text/html": [
       "<div>\n",
       "<table border=\"1\" class=\"dataframe\">\n",
       "  <thead>\n",
       "    <tr style=\"text-align: right;\">\n",
       "      <th></th>\n",
       "      <th>userID</th>\n",
       "      <th>itemID</th>\n",
       "      <th>rating</th>\n",
       "      <th>age_15.0</th>\n",
       "      <th>age_17.0</th>\n",
       "      <th>age_18.0</th>\n",
       "      <th>age_19.0</th>\n",
       "      <th>age_20.0</th>\n",
       "      <th>age_21.0</th>\n",
       "      <th>age_22.0</th>\n",
       "      <th>...</th>\n",
       "      <th>dominantEmo_5.0</th>\n",
       "      <th>dominantEmo_6.0</th>\n",
       "      <th>dominantEmo_7.0</th>\n",
       "      <th>mood_1.0</th>\n",
       "      <th>mood_2.0</th>\n",
       "      <th>mood_3.0</th>\n",
       "      <th>decision_1.0</th>\n",
       "      <th>decision_2.0</th>\n",
       "      <th>interaction_1.0</th>\n",
       "      <th>interaction_2.0</th>\n",
       "    </tr>\n",
       "  </thead>\n",
       "  <tbody>\n",
       "    <tr>\n",
       "      <th>0</th>\n",
       "      <td>21</td>\n",
       "      <td>5</td>\n",
       "      <td>3</td>\n",
       "      <td>0.0</td>\n",
       "      <td>0.0</td>\n",
       "      <td>0.0</td>\n",
       "      <td>0.0</td>\n",
       "      <td>0.0</td>\n",
       "      <td>0.0</td>\n",
       "      <td>0.0</td>\n",
       "      <td>...</td>\n",
       "      <td>0.0</td>\n",
       "      <td>0.0</td>\n",
       "      <td>0.0</td>\n",
       "      <td>0.0</td>\n",
       "      <td>1.0</td>\n",
       "      <td>0.0</td>\n",
       "      <td>0.0</td>\n",
       "      <td>1.0</td>\n",
       "      <td>0.0</td>\n",
       "      <td>1.0</td>\n",
       "    </tr>\n",
       "    <tr>\n",
       "      <th>1</th>\n",
       "      <td>21</td>\n",
       "      <td>6</td>\n",
       "      <td>4</td>\n",
       "      <td>0.0</td>\n",
       "      <td>0.0</td>\n",
       "      <td>0.0</td>\n",
       "      <td>0.0</td>\n",
       "      <td>0.0</td>\n",
       "      <td>0.0</td>\n",
       "      <td>0.0</td>\n",
       "      <td>...</td>\n",
       "      <td>0.0</td>\n",
       "      <td>0.0</td>\n",
       "      <td>0.0</td>\n",
       "      <td>1.0</td>\n",
       "      <td>0.0</td>\n",
       "      <td>0.0</td>\n",
       "      <td>0.0</td>\n",
       "      <td>1.0</td>\n",
       "      <td>1.0</td>\n",
       "      <td>0.0</td>\n",
       "    </tr>\n",
       "    <tr>\n",
       "      <th>2</th>\n",
       "      <td>22</td>\n",
       "      <td>13</td>\n",
       "      <td>4</td>\n",
       "      <td>0.0</td>\n",
       "      <td>0.0</td>\n",
       "      <td>0.0</td>\n",
       "      <td>0.0</td>\n",
       "      <td>0.0</td>\n",
       "      <td>0.0</td>\n",
       "      <td>0.0</td>\n",
       "      <td>...</td>\n",
       "      <td>0.0</td>\n",
       "      <td>0.0</td>\n",
       "      <td>0.0</td>\n",
       "      <td>1.0</td>\n",
       "      <td>0.0</td>\n",
       "      <td>0.0</td>\n",
       "      <td>1.0</td>\n",
       "      <td>0.0</td>\n",
       "      <td>1.0</td>\n",
       "      <td>0.0</td>\n",
       "    </tr>\n",
       "    <tr>\n",
       "      <th>3</th>\n",
       "      <td>21</td>\n",
       "      <td>7</td>\n",
       "      <td>3</td>\n",
       "      <td>0.0</td>\n",
       "      <td>0.0</td>\n",
       "      <td>0.0</td>\n",
       "      <td>0.0</td>\n",
       "      <td>0.0</td>\n",
       "      <td>0.0</td>\n",
       "      <td>0.0</td>\n",
       "      <td>...</td>\n",
       "      <td>0.0</td>\n",
       "      <td>0.0</td>\n",
       "      <td>1.0</td>\n",
       "      <td>1.0</td>\n",
       "      <td>0.0</td>\n",
       "      <td>0.0</td>\n",
       "      <td>0.0</td>\n",
       "      <td>1.0</td>\n",
       "      <td>1.0</td>\n",
       "      <td>0.0</td>\n",
       "    </tr>\n",
       "    <tr>\n",
       "      <th>4</th>\n",
       "      <td>21</td>\n",
       "      <td>15</td>\n",
       "      <td>3</td>\n",
       "      <td>0.0</td>\n",
       "      <td>0.0</td>\n",
       "      <td>0.0</td>\n",
       "      <td>0.0</td>\n",
       "      <td>0.0</td>\n",
       "      <td>0.0</td>\n",
       "      <td>0.0</td>\n",
       "      <td>...</td>\n",
       "      <td>1.0</td>\n",
       "      <td>0.0</td>\n",
       "      <td>0.0</td>\n",
       "      <td>1.0</td>\n",
       "      <td>0.0</td>\n",
       "      <td>0.0</td>\n",
       "      <td>0.0</td>\n",
       "      <td>1.0</td>\n",
       "      <td>0.0</td>\n",
       "      <td>1.0</td>\n",
       "    </tr>\n",
       "  </tbody>\n",
       "</table>\n",
       "<p>5 rows × 77 columns</p>\n",
       "</div>"
      ],
      "text/plain": [
       "   userID  itemID  rating  age_15.0  age_17.0  age_18.0  age_19.0  age_20.0  \\\n",
       "0      21       5       3       0.0       0.0       0.0       0.0       0.0   \n",
       "1      21       6       4       0.0       0.0       0.0       0.0       0.0   \n",
       "2      22      13       4       0.0       0.0       0.0       0.0       0.0   \n",
       "3      21       7       3       0.0       0.0       0.0       0.0       0.0   \n",
       "4      21      15       3       0.0       0.0       0.0       0.0       0.0   \n",
       "\n",
       "   age_21.0  age_22.0       ...         dominantEmo_5.0  dominantEmo_6.0  \\\n",
       "0       0.0       0.0       ...                     0.0              0.0   \n",
       "1       0.0       0.0       ...                     0.0              0.0   \n",
       "2       0.0       0.0       ...                     0.0              0.0   \n",
       "3       0.0       0.0       ...                     0.0              0.0   \n",
       "4       0.0       0.0       ...                     1.0              0.0   \n",
       "\n",
       "   dominantEmo_7.0  mood_1.0  mood_2.0  mood_3.0  decision_1.0  decision_2.0  \\\n",
       "0              0.0       0.0       1.0       0.0           0.0           1.0   \n",
       "1              0.0       1.0       0.0       0.0           0.0           1.0   \n",
       "2              0.0       1.0       0.0       0.0           1.0           0.0   \n",
       "3              1.0       1.0       0.0       0.0           0.0           1.0   \n",
       "4              0.0       1.0       0.0       0.0           0.0           1.0   \n",
       "\n",
       "   interaction_1.0  interaction_2.0  \n",
       "0              0.0              1.0  \n",
       "1              1.0              0.0  \n",
       "2              1.0              0.0  \n",
       "3              1.0              0.0  \n",
       "4              0.0              1.0  \n",
       "\n",
       "[5 rows x 77 columns]"
      ]
     },
     "execution_count": 45,
     "metadata": {},
     "output_type": "execute_result"
    }
   ],
   "source": [
    "df_new.head()"
   ]
  },
  {
   "cell_type": "code",
   "execution_count": 46,
   "metadata": {
    "collapsed": false
   },
   "outputs": [],
   "source": [
    "columns = df_new.columns.tolist()\n",
    "columns.remove(\"rating\")\n",
    "columns.append(\"rating\")\n",
    "df_new = df_new[columns]"
   ]
  },
  {
   "cell_type": "code",
   "execution_count": 47,
   "metadata": {
    "collapsed": false
   },
   "outputs": [
    {
     "data": {
      "text/html": [
       "<div>\n",
       "<table border=\"1\" class=\"dataframe\">\n",
       "  <thead>\n",
       "    <tr style=\"text-align: right;\">\n",
       "      <th></th>\n",
       "      <th>userID</th>\n",
       "      <th>itemID</th>\n",
       "      <th>age_15.0</th>\n",
       "      <th>age_17.0</th>\n",
       "      <th>age_18.0</th>\n",
       "      <th>age_19.0</th>\n",
       "      <th>age_20.0</th>\n",
       "      <th>age_21.0</th>\n",
       "      <th>age_22.0</th>\n",
       "      <th>age_23.0</th>\n",
       "      <th>...</th>\n",
       "      <th>dominantEmo_6.0</th>\n",
       "      <th>dominantEmo_7.0</th>\n",
       "      <th>mood_1.0</th>\n",
       "      <th>mood_2.0</th>\n",
       "      <th>mood_3.0</th>\n",
       "      <th>decision_1.0</th>\n",
       "      <th>decision_2.0</th>\n",
       "      <th>interaction_1.0</th>\n",
       "      <th>interaction_2.0</th>\n",
       "      <th>rating</th>\n",
       "    </tr>\n",
       "  </thead>\n",
       "  <tbody>\n",
       "    <tr>\n",
       "      <th>0</th>\n",
       "      <td>21</td>\n",
       "      <td>5</td>\n",
       "      <td>0.0</td>\n",
       "      <td>0.0</td>\n",
       "      <td>0.0</td>\n",
       "      <td>0.0</td>\n",
       "      <td>0.0</td>\n",
       "      <td>0.0</td>\n",
       "      <td>0.0</td>\n",
       "      <td>0.0</td>\n",
       "      <td>...</td>\n",
       "      <td>0.0</td>\n",
       "      <td>0.0</td>\n",
       "      <td>0.0</td>\n",
       "      <td>1.0</td>\n",
       "      <td>0.0</td>\n",
       "      <td>0.0</td>\n",
       "      <td>1.0</td>\n",
       "      <td>0.0</td>\n",
       "      <td>1.0</td>\n",
       "      <td>3</td>\n",
       "    </tr>\n",
       "    <tr>\n",
       "      <th>1</th>\n",
       "      <td>21</td>\n",
       "      <td>6</td>\n",
       "      <td>0.0</td>\n",
       "      <td>0.0</td>\n",
       "      <td>0.0</td>\n",
       "      <td>0.0</td>\n",
       "      <td>0.0</td>\n",
       "      <td>0.0</td>\n",
       "      <td>0.0</td>\n",
       "      <td>0.0</td>\n",
       "      <td>...</td>\n",
       "      <td>0.0</td>\n",
       "      <td>0.0</td>\n",
       "      <td>1.0</td>\n",
       "      <td>0.0</td>\n",
       "      <td>0.0</td>\n",
       "      <td>0.0</td>\n",
       "      <td>1.0</td>\n",
       "      <td>1.0</td>\n",
       "      <td>0.0</td>\n",
       "      <td>4</td>\n",
       "    </tr>\n",
       "    <tr>\n",
       "      <th>2</th>\n",
       "      <td>22</td>\n",
       "      <td>13</td>\n",
       "      <td>0.0</td>\n",
       "      <td>0.0</td>\n",
       "      <td>0.0</td>\n",
       "      <td>0.0</td>\n",
       "      <td>0.0</td>\n",
       "      <td>0.0</td>\n",
       "      <td>0.0</td>\n",
       "      <td>0.0</td>\n",
       "      <td>...</td>\n",
       "      <td>0.0</td>\n",
       "      <td>0.0</td>\n",
       "      <td>1.0</td>\n",
       "      <td>0.0</td>\n",
       "      <td>0.0</td>\n",
       "      <td>1.0</td>\n",
       "      <td>0.0</td>\n",
       "      <td>1.0</td>\n",
       "      <td>0.0</td>\n",
       "      <td>4</td>\n",
       "    </tr>\n",
       "    <tr>\n",
       "      <th>3</th>\n",
       "      <td>21</td>\n",
       "      <td>7</td>\n",
       "      <td>0.0</td>\n",
       "      <td>0.0</td>\n",
       "      <td>0.0</td>\n",
       "      <td>0.0</td>\n",
       "      <td>0.0</td>\n",
       "      <td>0.0</td>\n",
       "      <td>0.0</td>\n",
       "      <td>0.0</td>\n",
       "      <td>...</td>\n",
       "      <td>0.0</td>\n",
       "      <td>1.0</td>\n",
       "      <td>1.0</td>\n",
       "      <td>0.0</td>\n",
       "      <td>0.0</td>\n",
       "      <td>0.0</td>\n",
       "      <td>1.0</td>\n",
       "      <td>1.0</td>\n",
       "      <td>0.0</td>\n",
       "      <td>3</td>\n",
       "    </tr>\n",
       "    <tr>\n",
       "      <th>4</th>\n",
       "      <td>21</td>\n",
       "      <td>15</td>\n",
       "      <td>0.0</td>\n",
       "      <td>0.0</td>\n",
       "      <td>0.0</td>\n",
       "      <td>0.0</td>\n",
       "      <td>0.0</td>\n",
       "      <td>0.0</td>\n",
       "      <td>0.0</td>\n",
       "      <td>0.0</td>\n",
       "      <td>...</td>\n",
       "      <td>0.0</td>\n",
       "      <td>0.0</td>\n",
       "      <td>1.0</td>\n",
       "      <td>0.0</td>\n",
       "      <td>0.0</td>\n",
       "      <td>0.0</td>\n",
       "      <td>1.0</td>\n",
       "      <td>0.0</td>\n",
       "      <td>1.0</td>\n",
       "      <td>3</td>\n",
       "    </tr>\n",
       "  </tbody>\n",
       "</table>\n",
       "<p>5 rows × 77 columns</p>\n",
       "</div>"
      ],
      "text/plain": [
       "   userID  itemID  age_15.0  age_17.0  age_18.0  age_19.0  age_20.0  age_21.0  \\\n",
       "0      21       5       0.0       0.0       0.0       0.0       0.0       0.0   \n",
       "1      21       6       0.0       0.0       0.0       0.0       0.0       0.0   \n",
       "2      22      13       0.0       0.0       0.0       0.0       0.0       0.0   \n",
       "3      21       7       0.0       0.0       0.0       0.0       0.0       0.0   \n",
       "4      21      15       0.0       0.0       0.0       0.0       0.0       0.0   \n",
       "\n",
       "   age_22.0  age_23.0   ...    dominantEmo_6.0  dominantEmo_7.0  mood_1.0  \\\n",
       "0       0.0       0.0   ...                0.0              0.0       0.0   \n",
       "1       0.0       0.0   ...                0.0              0.0       1.0   \n",
       "2       0.0       0.0   ...                0.0              0.0       1.0   \n",
       "3       0.0       0.0   ...                0.0              1.0       1.0   \n",
       "4       0.0       0.0   ...                0.0              0.0       1.0   \n",
       "\n",
       "   mood_2.0  mood_3.0  decision_1.0  decision_2.0  interaction_1.0  \\\n",
       "0       1.0       0.0           0.0           1.0              0.0   \n",
       "1       0.0       0.0           0.0           1.0              1.0   \n",
       "2       0.0       0.0           1.0           0.0              1.0   \n",
       "3       0.0       0.0           0.0           1.0              1.0   \n",
       "4       0.0       0.0           0.0           1.0              0.0   \n",
       "\n",
       "   interaction_2.0  rating  \n",
       "0              1.0       3  \n",
       "1              0.0       4  \n",
       "2              0.0       4  \n",
       "3              0.0       3  \n",
       "4              1.0       3  \n",
       "\n",
       "[5 rows x 77 columns]"
      ]
     },
     "execution_count": 47,
     "metadata": {},
     "output_type": "execute_result"
    }
   ],
   "source": [
    "df_new.head()"
   ]
  },
  {
   "cell_type": "code",
   "execution_count": 48,
   "metadata": {
    "collapsed": false
   },
   "outputs": [],
   "source": [
    "#df_new.iloc[0][2:-1].tolist()"
   ]
  },
  {
   "cell_type": "code",
   "execution_count": null,
   "metadata": {
    "collapsed": true
   },
   "outputs": [],
   "source": []
  },
  {
   "cell_type": "code",
   "execution_count": null,
   "metadata": {
    "collapsed": false
   },
   "outputs": [],
   "source": []
  },
  {
   "cell_type": "code",
   "execution_count": 49,
   "metadata": {
    "collapsed": false
   },
   "outputs": [],
   "source": [
    "\n",
    "#user_rating = df_new.rating.tolist()[:100]"
   ]
  },
  {
   "cell_type": "code",
   "execution_count": null,
   "metadata": {
    "collapsed": false
   },
   "outputs": [],
   "source": []
  },
  {
   "cell_type": "code",
   "execution_count": null,
   "metadata": {
    "collapsed": false
   },
   "outputs": [],
   "source": []
  },
  {
   "cell_type": "code",
   "execution_count": 50,
   "metadata": {
    "collapsed": false
   },
   "outputs": [],
   "source": [
    "entriesToRemove = ('userID','itemID','city','physical','director','movieCountry','movieLanguage','movieYear','genre1', 'genre2',\n",
    "       'genre3', 'actor1', 'actor2', 'actor3','budget','rating')"
   ]
  },
  {
   "cell_type": "code",
   "execution_count": 51,
   "metadata": {
    "collapsed": false
   },
   "outputs": [],
   "source": [
    "for k in entriesToRemove:\n",
    "    new_size_of_feature.pop(k, None)"
   ]
  },
  {
   "cell_type": "code",
   "execution_count": 52,
   "metadata": {
    "collapsed": false
   },
   "outputs": [
    {
     "name": "stdout",
     "output_type": "stream",
     "text": [
      "21\n",
      "2\n",
      "7\n",
      "5\n",
      "3\n",
      "4\n",
      "3\n",
      "7\n",
      "3\n",
      "4\n",
      "2\n",
      "4\n",
      "2\n",
      "7\n"
     ]
    }
   ],
   "source": [
    "for k,v in new_size_of_feature.items():\n",
    "    print(v['length'])"
   ]
  },
  {
   "cell_type": "code",
   "execution_count": 53,
   "metadata": {
    "collapsed": false
   },
   "outputs": [
    {
     "data": {
      "text/plain": [
       "defaultdict(dict,\n",
       "            {'age': {'length': 21,\n",
       "              'names': array([ 28.,  30.,  33.,  25.,  26.,  27.,  24.,  34.,  63.,  29.,  21.,\n",
       "                      22.,  15.,  18.,  17.,  23.,  31.,  20.,  35.,  19.,  36.])},\n",
       "             'country': {'length': 4,\n",
       "              'names': array([3, 2, 5, 4], dtype=int64)},\n",
       "             'daytype': {'length': 3, 'names': array([ 2.,  1.,  3.])},\n",
       "             'decision': {'length': 2, 'names': array([ 2.,  1.])},\n",
       "             'dominantEmo': {'length': 7,\n",
       "              'names': array([ 2.,  3.,  7.,  5.,  4.,  6.,  1.])},\n",
       "             'endEmo': {'length': 7,\n",
       "              'names': array([ 2.,  1.,  7.,  4.,  5.,  6.,  3.])},\n",
       "             'interaction': {'length': 2, 'names': array([ 2.,  1.])},\n",
       "             'location': {'length': 3, 'names': array([ 1.,  2.,  3.])},\n",
       "             'mood': {'length': 3, 'names': array([ 2.,  1.,  3.])},\n",
       "             'season': {'length': 4, 'names': array([ 2.,  3.,  1.,  4.])},\n",
       "             'sex': {'length': 2, 'names': array([1, 2], dtype=int64)},\n",
       "             'social': {'length': 7,\n",
       "              'names': array([ 2.,  3.,  1.,  5.,  7.,  6.,  4.])},\n",
       "             'time': {'length': 4, 'names': array([ 2.,  4.,  3.,  1.])},\n",
       "             'weather': {'length': 5,\n",
       "              'names': array([ 1.,  2.,  5.,  3.,  4.])}})"
      ]
     },
     "execution_count": 53,
     "metadata": {},
     "output_type": "execute_result"
    }
   ],
   "source": [
    "new_size_of_feature"
   ]
  },
  {
   "cell_type": "code",
   "execution_count": 54,
   "metadata": {
    "collapsed": false
   },
   "outputs": [
    {
     "data": {
      "text/plain": [
       "Index(['userID', 'itemID', 'age', 'sex', 'city', 'country', 'time', 'daytype',\n",
       "       'season', 'location', 'weather', 'social', 'endEmo', 'dominantEmo',\n",
       "       'mood', 'physical', 'decision', 'interaction', 'director',\n",
       "       'movieCountry', 'movieLanguage', 'movieYear', 'genre1', 'genre2',\n",
       "       'genre3', 'actor1', 'actor2', 'actor3', 'budget', 'rating'],\n",
       "      dtype='object')"
      ]
     },
     "execution_count": 54,
     "metadata": {},
     "output_type": "execute_result"
    }
   ],
   "source": [
    "df.columns"
   ]
  },
  {
   "cell_type": "code",
   "execution_count": 55,
   "metadata": {
    "collapsed": false
   },
   "outputs": [],
   "source": [
    "index_limit=[]\n",
    "for x in df.columns:\n",
    "    index_limit.append(new_size_of_feature[x])"
   ]
  },
  {
   "cell_type": "code",
   "execution_count": 56,
   "metadata": {
    "collapsed": false
   },
   "outputs": [],
   "source": [
    "index_limit = index_limit[2:-12]"
   ]
  },
  {
   "cell_type": "code",
   "execution_count": 57,
   "metadata": {
    "collapsed": false
   },
   "outputs": [
    {
     "data": {
      "text/plain": [
       "[{'length': 21,\n",
       "  'names': array([ 28.,  30.,  33.,  25.,  26.,  27.,  24.,  34.,  63.,  29.,  21.,\n",
       "          22.,  15.,  18.,  17.,  23.,  31.,  20.,  35.,  19.,  36.])},\n",
       " {'length': 2, 'names': array([1, 2], dtype=int64)},\n",
       " {},\n",
       " {'length': 4, 'names': array([3, 2, 5, 4], dtype=int64)},\n",
       " {'length': 4, 'names': array([ 2.,  4.,  3.,  1.])},\n",
       " {'length': 3, 'names': array([ 2.,  1.,  3.])},\n",
       " {'length': 4, 'names': array([ 2.,  3.,  1.,  4.])},\n",
       " {'length': 3, 'names': array([ 1.,  2.,  3.])},\n",
       " {'length': 5, 'names': array([ 1.,  2.,  5.,  3.,  4.])},\n",
       " {'length': 7, 'names': array([ 2.,  3.,  1.,  5.,  7.,  6.,  4.])},\n",
       " {'length': 7, 'names': array([ 2.,  1.,  7.,  4.,  5.,  6.,  3.])},\n",
       " {'length': 7, 'names': array([ 2.,  3.,  7.,  5.,  4.,  6.,  1.])},\n",
       " {'length': 3, 'names': array([ 2.,  1.,  3.])},\n",
       " {},\n",
       " {'length': 2, 'names': array([ 2.,  1.])},\n",
       " {'length': 2, 'names': array([ 2.,  1.])}]"
      ]
     },
     "execution_count": 57,
     "metadata": {},
     "output_type": "execute_result"
    }
   ],
   "source": [
    "index_limit"
   ]
  },
  {
   "cell_type": "code",
   "execution_count": 58,
   "metadata": {
    "collapsed": false
   },
   "outputs": [],
   "source": [
    "final_index_limit= []\n",
    "for i in range(len(index_limit)):\n",
    "    x = index_limit[i]\n",
    "    try:\n",
    "        final_index_limit.append(x['length'])\n",
    "    except:\n",
    "        pass"
   ]
  },
  {
   "cell_type": "code",
   "execution_count": 59,
   "metadata": {
    "collapsed": false
   },
   "outputs": [
    {
     "data": {
      "text/plain": [
       "([21, 2, 4, 4, 3, 4, 3, 5, 7, 7, 7, 3, 2, 2], 74)"
      ]
     },
     "execution_count": 59,
     "metadata": {},
     "output_type": "execute_result"
    }
   ],
   "source": [
    "final_index_limit, sum(final_index_limit)"
   ]
  },
  {
   "cell_type": "markdown",
   "metadata": {},
   "source": [
    "## Make the contstraint list"
   ]
  },
  {
   "cell_type": "code",
   "execution_count": 60,
   "metadata": {
    "collapsed": false
   },
   "outputs": [],
   "source": [
    "from random import *\n",
    "randBinList = lambda n: [randint(0,1) for b in range(1,n+1)]\n",
    "con_index = []\n",
    "x = randBinList(181)\n",
    "for index in final_index_limit:\n",
    "    temp = []\n",
    "    temp.append(sum(x[:index]) - 1)\n",
    "    temp = temp*index\n",
    "    con_index=con_index + temp"
   ]
  },
  {
   "cell_type": "code",
   "execution_count": 61,
   "metadata": {
    "collapsed": false
   },
   "outputs": [
    {
     "data": {
      "text/plain": [
       "Index(['userID', 'itemID', 'age_15.0', 'age_17.0', 'age_18.0', 'age_19.0',\n",
       "       'age_20.0', 'age_21.0', 'age_22.0', 'age_23.0', 'age_24.0', 'age_25.0',\n",
       "       'age_26.0', 'age_27.0', 'age_28.0', 'age_29.0', 'age_30.0', 'age_31.0',\n",
       "       'age_33.0', 'age_34.0', 'age_35.0', 'age_36.0', 'age_63.0', 'sex_1',\n",
       "       'sex_2', 'country_2', 'country_3', 'country_4', 'country_5', 'time_1.0',\n",
       "       'time_2.0', 'time_3.0', 'time_4.0', 'daytype_1.0', 'daytype_2.0',\n",
       "       'daytype_3.0', 'season_1.0', 'season_2.0', 'season_3.0', 'season_4.0',\n",
       "       'location_1.0', 'location_2.0', 'location_3.0', 'weather_1.0',\n",
       "       'weather_2.0', 'weather_3.0', 'weather_4.0', 'weather_5.0',\n",
       "       'social_1.0', 'social_2.0', 'social_3.0', 'social_4.0', 'social_5.0',\n",
       "       'social_6.0', 'social_7.0', 'endEmo_1.0', 'endEmo_2.0', 'endEmo_3.0',\n",
       "       'endEmo_4.0', 'endEmo_5.0', 'endEmo_6.0', 'endEmo_7.0',\n",
       "       'dominantEmo_1.0', 'dominantEmo_2.0', 'dominantEmo_3.0',\n",
       "       'dominantEmo_4.0', 'dominantEmo_5.0', 'dominantEmo_6.0',\n",
       "       'dominantEmo_7.0', 'mood_1.0', 'mood_2.0', 'mood_3.0', 'decision_1.0',\n",
       "       'decision_2.0', 'interaction_1.0', 'interaction_2.0', 'rating'],\n",
       "      dtype='object')"
      ]
     },
     "execution_count": 61,
     "metadata": {},
     "output_type": "execute_result"
    }
   ],
   "source": [
    "#con_index\n",
    "df_new.columns"
   ]
  },
  {
   "cell_type": "markdown",
   "metadata": {
    "collapsed": true
   },
   "source": [
    "# Pyswarm Implementation"
   ]
  },
  {
   "cell_type": "code",
   "execution_count": 62,
   "metadata": {
    "collapsed": false
   },
   "outputs": [],
   "source": [
    "# from pyswarm import pso\n",
    "# import time\n",
    "# from random import *"
   ]
  },
  {
   "cell_type": "code",
   "execution_count": 63,
   "metadata": {
    "collapsed": false
   },
   "outputs": [],
   "source": [
    "# start_time = time.time()\n",
    "# #user_context = df_new.iloc[0][2:-1].tolist()\n",
    "# user_rating = df_new.rating.tolist()[:20]\n",
    "# def banana(x):\n",
    "#     lhs = 0.0\n",
    "#     square_error = 0.0\n",
    "#     for i in range(20):\n",
    "#         user_context = df_new.iloc[i][2:-1].tolist()\n",
    "#         lhs = np.dot(x,user_context)\n",
    "# #         for weight, context in zip(x, user_context):\n",
    "# #             lhs += weight * context\n",
    "#         square_error += (user_rating[i] - lhs)**2\n",
    "#     print(square_error)\n",
    "#     return square_error/2\n",
    "\n",
    "# def con(x):\n",
    "#     con_index = []\n",
    "#     final_index_limit = [21, 2, 4, 4, 3, 4, 3, 5, 7, 7, 7, 3, 2, 2]\n",
    "#     start_index=0\n",
    "#     con_index = []\n",
    "#     for index in final_index_limit:\n",
    "#         temp = []\n",
    "#         temp.append(sum(x[start_index:start_index+index]) - 1)\n",
    "#         temp = temp*index\n",
    "#         con_index=con_index + temp\n",
    "#         start_index = index\n",
    "#     return con_index\n",
    "\n",
    "# lb = [0]*74\n",
    "# ub = [1]*74\n",
    "\n",
    "# xopt, fopt = pso(banana,lb, ub,f_ieqcons=con,swarmsize=740,maxiter=1000)\n",
    "# print(\"--- %s seconds ---\" % (time.time() - start_time))"
   ]
  },
  {
   "cell_type": "code",
   "execution_count": 64,
   "metadata": {
    "collapsed": false
   },
   "outputs": [],
   "source": [
    "# Rating\n",
    "# fopt"
   ]
  },
  {
   "cell_type": "code",
   "execution_count": 65,
   "metadata": {
    "collapsed": false
   },
   "outputs": [],
   "source": [
    "# print(\"----------------------Difference Between Ratings---------------------\")\n",
    "# for i in range(10):\n",
    "#     rating = 0\n",
    "#     count = 0\n",
    "#     original_rating = df_new.iloc[i][-1]\n",
    "#     predicted_rating = np.dot(xopt, df_new.iloc[i][2:-1].tolist())\n",
    "#     print(predicted_rating, original_rating)\n",
    "#     print(str(float(original_rating - original_rating)))\n",
    "        "
   ]
  },
  {
   "cell_type": "code",
   "execution_count": 66,
   "metadata": {
    "collapsed": false
   },
   "outputs": [],
   "source": [
    "# original_rating = [df_new.iloc[i][-1] for i in range(1000)]\n",
    "# predicted_rating = [np.dot(xopt, df_new.iloc[i][2:-1].tolist()) for i in range(1000)]\n",
    "# print(\"----------------------  RMSE VALUE IS  ---------------------\")\n",
    "# mean_squared_error(original_rating,predicted_rating)"
   ]
  },
  {
   "cell_type": "code",
   "execution_count": 67,
   "metadata": {
    "collapsed": false
   },
   "outputs": [],
   "source": [
    "#np.dot(x,y)"
   ]
  },
  {
   "cell_type": "code",
   "execution_count": 68,
   "metadata": {
    "collapsed": false
   },
   "outputs": [],
   "source": [
    "# x = [1]*78\n",
    "# final_index_limit = [21, 2, 4, 4, 3, 4, 3, 5, 7, 7, 7, 3, 2, 2]\n",
    "# start_index=0\n",
    "# con_index = []\n",
    "# for index in final_index_limit:\n",
    "#     temp = []\n",
    "#     temp.append(sum(x[start_index:start_index+index]) - 1)\n",
    "#     temp = temp*index\n",
    "#     con_index=con_index + temp\n",
    "#     start_index = index\n",
    "# return con_index"
   ]
  },
  {
   "cell_type": "markdown",
   "metadata": {
    "collapsed": true
   },
   "source": [
    "### Firefly Optimization Implementation"
   ]
  },
  {
   "cell_type": "code",
   "execution_count": 69,
   "metadata": {
    "collapsed": false
   },
   "outputs": [],
   "source": [
    "#user_rating = df_new.rating.tolist()[:20]"
   ]
  },
  {
   "cell_type": "code",
   "execution_count": 78,
   "metadata": {
    "collapsed": true
   },
   "outputs": [],
   "source": [
    "# from metaheuristic_algorithms.function_wrappers.abstract_wrapper import AbstractWrapper\n",
    "# class MinimizeWeightsSumSquareError(AbstractWrapper):\n",
    "\n",
    "#     def maximum_decision_variable_values(self):\n",
    "#         return [1]*74\n",
    "\n",
    "#     def minimum_decision_variable_values(self):\n",
    "#         return [0]*74\n",
    "\n",
    "#     def objective_function_value(self, decision_variable_values):\n",
    "#         user_rating = df_new.rating.tolist()[:20]\n",
    "#         lhs = 0.0\n",
    "#         square_error = 0.0\n",
    "#         for i in range(20):\n",
    "#             user_context = df_new.iloc[i][2:-1].tolist()\n",
    "#             lhs = np.dot(decision_variable_values,user_context)\n",
    "#             square_error += (user_rating[i] - lhs)**2\n",
    "#         return square_error/2\n",
    "\n",
    "#     def initial_decision_variable_value_estimates(self):\n",
    "#         return [0.0]*74"
   ]
  },
  {
   "cell_type": "code",
   "execution_count": null,
   "metadata": {
    "collapsed": false
   },
   "outputs": [],
   "source": [
    "# import time\n",
    "# from metaheuristic_algorithms.firefly_algorithm import FireflyAlgorithm\n",
    "# start_time = time.time()\n",
    "# #from metaheuristic_algorithms.function_wrappers.rosenbrook_function_wrapper import RosenbrookFunctionWrapper\n",
    "# #from metaheuristic_algorithms.function_wrappers.nonsmooth_multipeak_function_wrapper import NonsmoothMultipeakFunctionWrapper\n",
    "# minimize_weights_function_wrapper = MinimizeWeightsSumSquareError()\n",
    "\n",
    "# number_of_variables = 74\n",
    "# objective = \"minimization\"\n",
    "\n",
    "# firefly_algo = FireflyAlgorithm(minimize_weights_function_wrapper, number_of_variables, objective)\n",
    "\n",
    "\n",
    "# number_of_fireflies = 60\n",
    "# maximun_generation = 300\n",
    "# randomization_parameter_alpha = 0.3\n",
    "# absorption_coefficient_gamma = 1.1\n",
    "\n",
    "# result = firefly_algo.search(number_of_fireflies = number_of_fireflies, \n",
    "#                                maximun_generation = maximun_generation, \n",
    "#                                randomization_parameter_alpha = randomization_parameter_alpha, \n",
    "#                                absorption_coefficient_gamma = absorption_coefficient_gamma)\n",
    "# print(result[\"best_decision_variable_values\"])\n",
    "# print(\"--- %s seconds ---\" % (time.time() - start_time))\n",
    "# print(result[\"best_objective_function_value\"]) "
   ]
  },
  {
   "cell_type": "code",
   "execution_count": 79,
   "metadata": {
    "collapsed": false
   },
   "outputs": [],
   "source": [
    "# with open(\"result.txt\", \"w\") as myfile:\n",
    "#     for key in sorted(result):\n",
    "#         myfile.write(str(key) + \",\" + \",\".join(str(result[key])) + \"\\n\")\n"
   ]
  },
  {
   "cell_type": "code",
   "execution_count": null,
   "metadata": {
    "collapsed": true
   },
   "outputs": [],
   "source": []
  }
 ],
 "metadata": {
  "kernelspec": {
   "display_name": "Python 3",
   "language": "python",
   "name": "python3"
  },
  "language_info": {
   "codemirror_mode": {
    "name": "ipython",
    "version": 3
   },
   "file_extension": ".py",
   "mimetype": "text/x-python",
   "name": "python",
   "nbconvert_exporter": "python",
   "pygments_lexer": "ipython3",
   "version": "3.5.2"
  }
 },
 "nbformat": 4,
 "nbformat_minor": 0
}
